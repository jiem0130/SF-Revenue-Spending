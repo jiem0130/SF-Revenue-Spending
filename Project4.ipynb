{
 "cells": [
  {
   "cell_type": "markdown",
   "metadata": {},
   "source": [
    "# Project 4"
   ]
  },
  {
   "cell_type": "markdown",
   "metadata": {},
   "source": [
    "## Part 1 - Selection (30 points)\n",
    "\n",
    "\n",
    "Identify and describe your dataset, its source, and what appeals to you about it.\n",
    "Acquire the data and perform an initial exploration to determine which themes\n",
    "you wish to explore. Describe the questions you want to be able to answer with\n",
    "the data, any concerns you have about the data, and any challenges you expect\n",
    "to have to overcome.\n",
    "\n",
    "**Answer:**"
   ]
  },
  {
   "cell_type": "markdown",
   "metadata": {},
   "source": [
    "Recently, the tax reduction arose lots of attentions; we are pretty interested in the spending as well as revenue of the US government, normally regarded as one of the governments worldwide which financially press their citizens a lot. As a result, we picked up a dataset, provided by San Francisco Controller's Office, reporting the financial status of a typical US citywide government."
   ]
  },
  {
   "cell_type": "markdown",
   "metadata": {},
   "source": [
    "Firstly, we get the dataset from 'DataSF', a website freely providing hundreds of datasets from the City and County of San Francisco, and download the csv file by using the codes shown as follow."
   ]
  },
  {
   "cell_type": "markdown",
   "metadata": {},
   "source": [
    "Considering the convenience for typing, we renamed the file as 'spending_and_revenue_sf.csv'."
   ]
  },
  {
   "cell_type": "code",
   "execution_count": 1,
   "metadata": {
    "scrolled": false
   },
   "outputs": [
    {
     "name": "stdout",
     "output_type": "stream",
     "text": [
      "--2017-12-08 16:43:11--  https://data.sfgov.org/api/views/bpnb-jwfb/rows.csv?accessType=DOWNLOAD\n",
      "Resolving data.sfgov.org (data.sfgov.org)... 52.206.140.199\n",
      "Connecting to data.sfgov.org (data.sfgov.org)|52.206.140.199|:443... connected.\n",
      "HTTP request sent, awaiting response... 200 OK\n",
      "Length: unspecified [text/csv]\n",
      "Saving to: ‘spending_and_revenue_sf.csv’\n",
      "\n",
      "spending_and_revenu     [ <=>                ] 133.42M  5.38MB/s    in 27s     \n",
      "\n",
      "Last-modified header invalid -- time-stamp ignored.\n",
      "2017-12-08 16:43:38 (4.91 MB/s) - ‘spending_and_revenue_sf.csv’ saved [139903971]\n",
      "\n"
     ]
    }
   ],
   "source": [
    "!wget -O spending_and_revenue_sf.csv \"https://data.sfgov.org/api/views/bpnb-jwfb/rows.csv?accessType=DOWNLOAD\""
   ]
  },
  {
   "cell_type": "markdown",
   "metadata": {},
   "source": [
    "We can see that the data size is above 100m, and we want to make sure the dataset is neither too large nor too small to explore further by checking the number of the rows."
   ]
  },
  {
   "cell_type": "code",
   "execution_count": 2,
   "metadata": {
    "scrolled": true
   },
   "outputs": [
    {
     "name": "stdout",
     "output_type": "stream",
     "text": [
      "534310 spending_and_revenue_sf.csv\r\n"
     ]
    }
   ],
   "source": [
    "!wc -l spending_and_revenue_sf.csv"
   ]
  },
  {
   "cell_type": "markdown",
   "metadata": {},
   "source": [
    "We see that the original dataset contains around 530k rows, which is appropriate for researching in this project. And we expected that there might be some data issues, e.g., null values, to be discussed and dealt with later."
   ]
  },
  {
   "cell_type": "markdown",
   "metadata": {},
   "source": [
    "To initially explore the dataset, we decided to firstly take a look at the column names and see what kinds of information the original data can tell."
   ]
  },
  {
   "cell_type": "code",
   "execution_count": 3,
   "metadata": {},
   "outputs": [
    {
     "name": "stdout",
     "output_type": "stream",
     "text": [
      "  1: Fiscal Year\r\n",
      "  2: Revenue or Spending\r\n",
      "  3: Related Gov’t Units\r\n",
      "  4: Organization Group Code\r\n",
      "  5: Organization Group\r\n",
      "  6: Department Code\r\n",
      "  7: Department\r\n",
      "  8: Program Code\r\n",
      "  9: Program\r\n",
      " 10: Character Code\r\n",
      " 11: Character\r\n",
      " 12: Object Code\r\n",
      " 13: Object\r\n",
      " 14: Sub-object Code\r\n",
      " 15: Sub-object\r\n",
      " 16: Fund Type Code\r\n",
      " 17: Fund Type\r\n",
      " 18: Fund Code\r\n",
      " 19: Fund\r\n",
      " 20: Fund Category Code\r\n",
      " 21: Fund Category\r\n",
      " 22: Amount\r\n"
     ]
    }
   ],
   "source": [
    "!csvcut -n spending_and_revenue_sf.csv"
   ]
  },
  {
   "cell_type": "markdown",
   "metadata": {},
   "source": [
    "Most of the column names clearly indicate the columns' information, while some of them are quite confusing; for instance, so far we have no idea that what the differences are between Fund Type and Fund Category. Accordingly, it is necessary to double check the database website for clarifying the information provided, and the followings are the exact decriptions of each column."
   ]
  },
  {
   "cell_type": "markdown",
   "metadata": {},
   "source": [
    "**1. Fiscal Year**\n",
    "\n",
    "An accounting period of 12 months. The City and County of San Francisco operates on a fiscal year that begins on July 1 and ends on June 30 the following year. The Fiscal Year ending June 30, 2012 is represented as FY2011-2012.\n",
    "\n",
    "\n",
    "**2. Revenue or Spending**\n",
    "\n",
    "Revenue or Spending for this record.\n",
    "\n",
    "\n",
    "**3. Related Gov’t Units**\n",
    "\n",
    "In SFOpenBook, these are fiduciary funds and component units that are included in the City’s financial statements but are different in nature from the other funds and organizations in City government. Fiduciary Funds include all Trust and Agency Funds that account for assets held by the City as a trustee or as an agency for individuals or other governmental units.\n",
    "\n",
    "\n",
    "**4. Organization Group Code**\n",
    "\n",
    "Org Group is a group of Departments. For example, the Public Protection Org Group includes departments such as the Police, Fire, Adult Probation, District Attorney, and Sheriff.\n",
    "\n",
    "\n",
    "**5. Organization Group**\n",
    "\n",
    "Org Group is a group of Departments. For example, the Public Protection Org Group includes departments such as the Police, Fire, Adult Probation, District Attorney, and Sheriff.\n",
    "\n",
    "\n",
    "**6. Department Code**\n",
    "\n",
    "Departments are the primary organizational unit used by the City and County of San Francisco. Examples include Recreation and Parks, Public Works, and the Police Department.\n",
    "\n",
    "\n",
    "**7. Department**\n",
    "\n",
    "Departments are the primary organizational unit used by the City and County of San Francisco. Examples include Recreation and Parks, Public Works, and the Police Department.\n",
    "\n",
    "\n",
    "**8. Program Code**\n",
    "\n",
    "A program identifies the services a department provides. For example, the Police Department has programs for Patrol, Investigations, and Administration.\n",
    "\n",
    "\n",
    "**9. Program**\n",
    "\n",
    "A program identifies the services a department provides. For example, the Police Department has programs for Patrol, Investigations, and Administration.\n",
    "\n",
    "\n",
    "**10. Character Code**\n",
    "\n",
    "In the type hierarchy, Character is the highest level. For example, salaries, benefits, contractual services, and materials & supplies are recorded as different Characters.\n",
    "\n",
    "\n",
    "**11. Character**\n",
    "\n",
    "In the type hierarchy, Character is the highest level. For example, salaries, benefits, contractual services, and materials & supplies are recorded as different Characters.\n",
    "\n",
    "\n",
    "**12. Object Code**\n",
    "\n",
    "In the type hierarchy, Object is the middle level. For example, within the Salaries Character, Objects differentiate between Permanent Salaries, Temporary Salaries, and Overtime pay.\n",
    "\n",
    "\n",
    "**13. Object**\n",
    "\n",
    "In the type hierarchy, Object is the middle level. For example, within the Salaries Character, Objects differentiate between Permanent Salaries, Temporary Salaries, and Overtime pay.\n",
    "\n",
    "\n",
    "**14. Sub-object Code**\n",
    "\n",
    "In the type hierarchy, Sub-object is the lowest level of detail. For instance, within the Overtime Object, Sub-object segregates overtime for nurses from overtime for police officers and fire fighters (known as uniformed staff).\n",
    "\n",
    "\n",
    "**15. Sub-object**\n",
    "\n",
    "In the type hierarchy, Sub-object is the lowest level of detail. For instance, within the Overtime Object, Sub-object segregates overtime for nurses from overtime for police officers and fire fighters (known as uniformed staff).\n",
    "\n",
    "\n",
    "**16. Fund Type Code**\n",
    "\n",
    "In the Fund hierarchy, Fund Type is the highest level, and is used to group Funds according to governmental accounting standards.\n",
    "\n",
    "\n",
    "**17. Fund Type**\n",
    "\n",
    "In the Fund hierarchy, Fund Type is the highest level, and is used to group Funds according to governmental accounting standards.\n",
    "\n",
    "\n",
    "**18. Fund Code**\n",
    "\n",
    "In the Fund hierarchy, Fund is the middle level. For example, within the Special Revenue Fund Type, you can find the Children’s Fund and the Open Space & Park Fund.\n",
    "\n",
    "\n",
    "**19. Fund**\n",
    "\n",
    "In the Fund hierarchy, Fund is the middle level. For example, within the Special Revenue Fund Type, you can find the Children’s Fund and the Open Space & Park Fund.\n",
    "\n",
    "\n",
    "**20. Fund Category Code**\n",
    "\n",
    "In the Fund hierarchy, Fund Category is the lowest level. Within Fund, Fund Categories group activity by their characteristics: Operating, Annual Projects, Continuing Projects, Grants, Interdepartmental/Work Order.\n",
    "\n",
    "\n",
    "**21. Fund Category**\n",
    "\n",
    "In the Fund hierarchy, Fund Category is the lowest level. Within Fund, Fund Categories group activity by their characteristics: Operating, Annual Projects, Continuing Projects, Grants, Interdepartmental/Work Order.\n",
    "\n",
    "\n",
    "**22. Amount**\n",
    "\n",
    "The amount earned (Revenue) or spent (Spending) by the City and County of San Francisco."
   ]
  },
  {
   "cell_type": "markdown",
   "metadata": {},
   "source": [
    "Briefly, from the dataset we have all the spending and revenue records of the San Francisco during years, and the records provide information on which fund is involved, why it is used/collected, which department manage it, and what the amount is. Recall that our objective is to figure out how many funds are collected for what kinds of purposes and how the funds are actually used by the governments; under the circumstance, the dataset is supposed to be sufficient for achieveing our research goal."
   ]
  },
  {
   "cell_type": "markdown",
   "metadata": {},
   "source": [
    "To explore the data itself further, we use csvstat and focus on the first 10,000 rows."
   ]
  },
  {
   "cell_type": "code",
   "execution_count": 4,
   "metadata": {
    "scrolled": true
   },
   "outputs": [
    {
     "name": "stdout",
     "output_type": "stream",
     "text": [
      "  1. Fiscal Year\n",
      "\t<class 'int'>\n",
      "\tNulls: False\n",
      "\tValues: 1999\n",
      "  2. Revenue or Spending\n",
      "\t<class 'str'>\n",
      "\tNulls: False\n",
      "\tValues: Spending, Revenue\n",
      "  3. Related Gov’t Units\n",
      "\t<class 'bool'>\n",
      "\tNulls: False\n",
      "\tUnique values: 2\n",
      "\t5 most frequent values:\n",
      "\t\tFalse:\t9915\n",
      "\t\tTrue:\t84\n",
      "  4. Organization Group Code\n",
      "\t<class 'int'>\n",
      "\tNulls: False\n",
      "\tMin: 1\n",
      "\tMax: 7\n",
      "\tSum: 22857\n",
      "\tMean: 2.285928592859286\n",
      "\tMedian: 2\n",
      "\tStandard Deviation: 1.6235198172370684\n",
      "\tUnique values: 7\n",
      "\t5 most frequent values:\n",
      "\t\t2:\t4211\n",
      "\t\t1:\t3696\n",
      "\t\t6:\t954\n",
      "\t\t4:\t481\n",
      "\t\t5:\t272\n",
      "  5. Organization Group\n",
      "\t<class 'str'>\n",
      "\tNulls: False\n",
      "\tUnique values: 7\n",
      "\t5 most frequent values:\n",
      "\t\tPublic Works, Transportation & Commerce:\t4211\n",
      "\t\tPublic Protection:\t3696\n",
      "\t\tGeneral Administration & Finance:\t954\n",
      "\t\tCommunity Health:\t481\n",
      "\t\tCulture & Recreation:\t272\n",
      "\tMax length: 40\n",
      "  6. Department Code\n",
      "\t<class 'str'>\n",
      "\tNulls: False\n",
      "\tUnique values: 51\n",
      "\t5 most frequent values:\n",
      "\t\tDPW:\t2350\n",
      "\t\tPOL:\t789\n",
      "\t\tAIR:\t707\n",
      "\t\tSHF:\t650\n",
      "\t\tFIR:\t550\n",
      "\tMax length: 3\n",
      "  7. Department\n",
      "\t<class 'str'>\n",
      "\tNulls: False\n",
      "\tUnique values: 50\n",
      "\t5 most frequent values:\n",
      "\t\tDPW GSA - Public Works:\t2350\n",
      "\t\tPOL Police:\t789\n",
      "\t\tAIR Airport Commission:\t707\n",
      "\t\tSHF Sheriff:\t650\n",
      "\t\tFIR Fire Department:\t550\n",
      "\tMax length: 30\n",
      "  8. Program Code\n",
      "\t<class 'str'>\n",
      "\tNulls: False\n",
      "\tUnique values: 319\n",
      "\t5 most frequent values:\n",
      "\t\tBAW:\t461\n",
      "\t\tXXX:\t302\n",
      "\t\tBAR:\t292\n",
      "\t\tBGH:\t278\n",
      "\t\tBAX:\t266\n",
      "\tMax length: 4\n",
      "  9. Program\n",
      "\t<class 'str'>\n",
      "\tNulls: False\n",
      "\tUnique values: 299\n",
      "\t5 most frequent values:\n",
      "\t\tCity Capital Projects:\t461\n",
      "\t\tNo Program Defined:\t402\n",
      "\t\tBuilding Repair And Maintenance:\t292\n",
      "\t\tFacilities Maintenance,Construction:\t278\n",
      "\t\tWastewater Operations:\t266\n",
      "\tMax length: 40\n",
      " 10. Character Code\n",
      "\t<class 'str'>\n",
      "\tNulls: False\n",
      "\tUnique values: 33\n",
      "\t5 most frequent values:\n",
      "\t\t521:\t1803\n",
      "\t\t513:\t1559\n",
      "\t\t865:\t1103\n",
      "\t\t501:\t1003\n",
      "\t\t540:\t959\n",
      "\tMax length: 3\n",
      " 11. Character\n",
      "\t<class 'str'>\n",
      "\tNulls: False\n",
      "\tUnique values: 33\n",
      "\t5 most frequent values:\n",
      "\t\tNon Personnel Services:\t1803\n",
      "\t\tMandatory Fringe Benefits:\t1559\n",
      "\t\tExpenditure Recovery:\t1103\n",
      "\t\tSalaries:\t1003\n",
      "\t\tMaterials & Supplies:\t959\n",
      "\tMax length: 30\n",
      " 12. Object Code\n",
      "\t<class 'str'>\n",
      "\tNulls: False\n",
      "\tUnique values: 105\n",
      "\t5 most frequent values:\n",
      "\t\t865:\t998\n",
      "\t\t581:\t644\n",
      "\t\t501:\t609\n",
      "\t\t535:\t435\n",
      "\t\t515:\t395\n",
      "\tMax length: 3\n",
      " 13. Object\n",
      "\t<class 'str'>\n",
      "\tNulls: False\n",
      "\tUnique values: 209\n",
      "\t5 most frequent values:\n",
      "\t\tRecovery for Svcs to AAO Funds:\t998\n",
      "\t\tSvcs Of Other Depts -AAO Funds:\t644\n",
      "\t\tPermanent Salaries-Misc:\t609\n",
      "\t\tOther Current Expenses:\t435\n",
      "\t\tHealth Service:\t395\n",
      "\tMax length: 40\n",
      " 14. Sub-object Code\n",
      "\t<class 'str'>\n",
      "\tNulls: False\n",
      "\tUnique values: 1190\n",
      "\t5 most frequent values:\n",
      "\t\tELIMSC:\t199\n",
      "\t\t517010:\t185\n",
      "\t\t501010:\t183\n",
      "\t\t514020:\t181\n",
      "\t\t513710:\t176\n",
      "\tMax length: 6\n",
      " 15. Sub-object\n",
      "\t<class 'str'>\n",
      "\tNulls: False\n",
      "\tUnique values: 1185\n",
      "\t5 most frequent values:\n",
      "\t\tTransfer Adjustments-Sources (Citywide):\t199\n",
      "\t\tUnemployment Insurance:\t185\n",
      "\t\tPerm Salaries-Misc-Regular:\t183\n",
      "\t\tSocial Sec-Medicare(HI Only):\t181\n",
      "\t\tDental Coverage:\t176\n",
      "\tMax length: 40\n",
      " 16. Fund Type Code\n",
      "\t<class 'str'>\n",
      "\tNulls: False\n",
      "\tUnique values: 19\n",
      "\t5 most frequent values:\n",
      "\t\t1G:\t4570\n",
      "\t\t2S:\t2452\n",
      "\t\t5A:\t755\n",
      "\t\t3C:\t546\n",
      "\t\t6I:\t357\n",
      "\tMax length: 2\n",
      " 17. Fund Type\n",
      "\t<class 'str'>\n",
      "\tNulls: False\n",
      "\tUnique values: 19\n",
      "\t5 most frequent values:\n",
      "\t\tGeneral Fund:\t4570\n",
      "\t\tSpecial Revenue Funds:\t2452\n",
      "\t\tSF International Airport Funds:\t755\n",
      "\t\tCapital Projects Funds:\t546\n",
      "\t\tInternal Service Funds:\t357\n",
      "\tMax length: 37\n",
      " 18. Fund Code\n",
      "\t<class 'str'>\n",
      "\tNulls: False\n",
      "\tUnique values: 90\n",
      "\t5 most frequent values:\n",
      "\t\t1GAGF:\t4554\n",
      "\t\t2SPWF:\t765\n",
      "\t\t2SPPF:\t635\n",
      "\t\t5AAAA:\t633\n",
      "\t\t2SBIF:\t271\n",
      "\tMax length: 5\n",
      " 19. Fund\n",
      "\t<class 'str'>\n",
      "\tNulls: False\n",
      "\tUnique values: 89\n",
      "\t5 most frequent values:\n",
      "\t\tGeneral Fund:\t4554\n",
      "\t\tPublic Works, Transp. & Commerce Fund:\t765\n",
      "\t\tPublic Protection Fund:\t635\n",
      "\t\tAirport Operating Fund:\t633\n",
      "\t\tBuilding Inspection Fund:\t271\n",
      "\tMax length: 40\n",
      " 20. Fund Category Code\n",
      "\t<class 'int'>\n",
      "\tNulls: False\n",
      "\tValues: 1, 2, 3, 4, 5\n",
      " 21. Fund Category\n",
      "\t<class 'str'>\n",
      "\tNulls: False\n",
      "\tValues: Work Orders/Overhead, Annual Projects, Operating, Grants, Continuing Projects\n",
      " 22. Amount\n",
      "\t<class 'float'>\n",
      "\tNulls: False\n",
      "\tMin: -320300433.26\n",
      "\tMax: 655301545.96\n",
      "\tSum: 7971768132.799989\n",
      "\tMean: 797256.5389338923\n",
      "\tMedian: 10192.62\n",
      "\tStandard Deviation: 13593296.056233019\n",
      "\tUnique values: 9317\n",
      "\t5 most frequent values:\n",
      "\t\t2000.0:\t17\n",
      "\t\t25000.0:\t16\n",
      "\t\t50000.0:\t15\n",
      "\t\t20000.0:\t11\n",
      "\t\t150.0:\t11\n",
      "\n",
      "Row count: 9999\n"
     ]
    }
   ],
   "source": [
    "!head -n 10000 spending_and_revenue_sf.csv | csvstat"
   ]
  },
  {
   "cell_type": "markdown",
   "metadata": {},
   "source": [
    "**Concerns:**\n",
    "\n",
    "As shown is above, there are null values in several columns, and we will have to deal with those later. Besides, as mentioned before, for each hierarchy, there are more than one columns providing details; thus we should decide properly whether drop some and keep others for convenience, which is the main challenge facing us."
   ]
  },
  {
   "cell_type": "markdown",
   "metadata": {},
   "source": [
    "**Potential Questions:**\n",
    "\n",
    "There are several questions we will answer based on the dataset:\n",
    "1. What are the total amount of revenue/spending for each year? What is the trend across 10 years for revenue/spending?\n",
    "2. Is there a surplus or defict for each year?\n",
    "3. Which organizations manage the largest amounts of funds?\n",
    "4. what types of fund are involved in transaction the most?\n"
   ]
  },
  {
   "cell_type": "markdown",
   "metadata": {},
   "source": [
    "## Part 2 - Wrangling (35 points)\n",
    "\n",
    "\n",
    "Based on what you found above, wrangle the data into a format suitable for\n",
    "analysis. This may involve cleaning, filtering, merging, and modeling steps,\n",
    "any and all of which are valid for this project. Describe your process as you\n",
    "proceed, and document any scripts, databases, or other models you develop. Be\n",
    "specific about any key decisions to modify or remove data, how you overcame\n",
    "any challenges, and all assumptions you make about the meaning of variables\n",
    "and their values.\n",
    "\n",
    "Verify that your wrangling steps have succeeded (for example, if you loaded\n",
    "the data into a dimensional model, ensure that the fact table contains the right\n",
    "number of records).\n",
    "\n",
    "**Answer:**"
   ]
  },
  {
   "cell_type": "markdown",
   "metadata": {},
   "source": [
    "There are two major parts in the wrangling section: cleaning dataset and building database."
   ]
  },
  {
   "cell_type": "markdown",
   "metadata": {},
   "source": [
    "**1. Cleaning dataset **"
   ]
  },
  {
   "cell_type": "markdown",
   "metadata": {},
   "source": [
    "Our initial plan was to use Trifacta to wrangle data. However, since the dataset is over 100 MB, we were not able to import dataset to Trifacta. We then decision to use pandas for several data cleaning steps. "
   ]
  },
  {
   "cell_type": "markdown",
   "metadata": {
    "collapsed": true
   },
   "source": [
    "We first load the dataset.Check the number of rows."
   ]
  },
  {
   "cell_type": "code",
   "execution_count": 5,
   "metadata": {},
   "outputs": [
    {
     "data": {
      "text/plain": [
       "534309"
      ]
     },
     "execution_count": 5,
     "metadata": {},
     "output_type": "execute_result"
    }
   ],
   "source": [
    "import pandas as pd\n",
    "df=pd.read_csv(\"spending_and_revenue_sf.csv\",low_memory=False)\n",
    "len(df.index)"
   ]
  },
  {
   "cell_type": "markdown",
   "metadata": {},
   "source": [
    "Considering overall goal of our work, we just want to keep some of the columns, and the followings are main reasons for droping each of the others.\n",
    "\n",
    "**Related Gov't Units:** According to its introduction, we can see that the information provided by this column is unnecessary for our research.\n",
    "\n",
    "**Department:** 'Organization Group' and 'Department' both indicate the organizational units, while the former is imformative enough to explore futher with the dataset and the abbreviations in 'Department' column are confusing. As a result, we decide to just keep the 'Organization Group' column.\n",
    "\n",
    "**Object & Sub-object:** 'Character', 'Object' and 'Sub-object' are all in the type hierarchy with different levels; in other words, they all tell the objective of funds used/collected. However, the dimentions in 'Character' columns are enough to let us analyze and there is no need to keep other two. For example, for the 14th record in the original dataset, it was revenue from Expenditure Recovery indicated by 'Character' column, while it is unnecessary and confusing when we take a look at 'Object' and 'Sub-object' columns, which are telling 'Recovery for Svcs to AAO Funds' and 'Exp Rec Fr Juvenile Court (AAO)', respectively.\n",
    "\n",
    "**Fund Type:** Like type hierarchy, there are also three columns with different level in the fund hierarchy: 'Fund Type', 'Fund' and 'Fund Category'. Unlike the highest level in the type hierarchy, 'Fund Type' here, the highest level in fund hierarchy, is too general to see in the name of which fund on earth is involved in each spending/revenue record. For instance, for 'Special Revenue Funds' in this column, it infers to 'Public Protection Fund', 'Community Health Services Fund', 'Courts' Fund' or others indicated by 'Fund' column, and the latter is obviously more helpful and easier to understand. As supplementary, 'Fund Category' clearly group activity by their characteristics: Operating, Annual Projects, Continuing Projects, etc.\n",
    "\n",
    "Besides, we drop all of the code columns cause in some cases the codes get pretty weird and we can replace them with numeric IDs for convenience."
   ]
  },
  {
   "cell_type": "markdown",
   "metadata": {},
   "source": [
    "As a result, we extract the columns we need to 'df1' dataframe.We also drop all the rows that contain NA values. Since we have a fairly large dataset, and there are only small amount of rows containing NA, dropping these rows won't have significant effect on the analyses."
   ]
  },
  {
   "cell_type": "code",
   "execution_count": 6,
   "metadata": {},
   "outputs": [
    {
     "data": {
      "text/plain": [
       "530789"
      ]
     },
     "execution_count": 6,
     "metadata": {},
     "output_type": "execute_result"
    }
   ],
   "source": [
    "df1 = df[['Fiscal Year','Revenue or Spending','Organization Group','Program','Character','Fund','Fund Category','Amount']]\n",
    "df2 = df1.dropna(how='any',axis=0) \n",
    "len(df2.index)"
   ]
  },
  {
   "cell_type": "markdown",
   "metadata": {},
   "source": [
    "To take a look at the total rows for ensuring that the new dataframe contains the right number of records."
   ]
  },
  {
   "cell_type": "markdown",
   "metadata": {},
   "source": [
    "Since we only study data that was recorded from 2008 to 2017, we subset all the rows that recorded spending and revenue in these 10 years."
   ]
  },
  {
   "cell_type": "code",
   "execution_count": 7,
   "metadata": {},
   "outputs": [
    {
     "data": {
      "text/plain": [
       "289429"
      ]
     },
     "execution_count": 7,
     "metadata": {},
     "output_type": "execute_result"
    }
   ],
   "source": [
    "df3=df2.loc[df['Fiscal Year'].isin(['2008','2009','2010','2011','2012','2013','2014','2015','2016','2017'])]\n",
    "len(df3.index)"
   ]
  },
  {
   "cell_type": "markdown",
   "metadata": {},
   "source": [
    "The final dataset we are going to use to build the database contains approximate 290k rows, which is satisfying for us to do some analyses in this project."
   ]
  },
  {
   "cell_type": "markdown",
   "metadata": {},
   "source": [
    "To write the dataframe to csv file for submission purpose."
   ]
  },
  {
   "cell_type": "code",
   "execution_count": 8,
   "metadata": {
    "collapsed": true
   },
   "outputs": [],
   "source": [
    "df3.to_csv('newdataset.csv')"
   ]
  },
  {
   "cell_type": "markdown",
   "metadata": {},
   "source": [
    "**2.Building database **"
   ]
  },
  {
   "cell_type": "markdown",
   "metadata": {},
   "source": [
    "To connect to a new database: 'proj4'."
   ]
  },
  {
   "cell_type": "code",
   "execution_count": 9,
   "metadata": {
    "collapsed": true
   },
   "outputs": [],
   "source": [
    "!dropdb -U student proj4"
   ]
  },
  {
   "cell_type": "code",
   "execution_count": 10,
   "metadata": {
    "collapsed": true
   },
   "outputs": [],
   "source": [
    "!createdb -U student proj4"
   ]
  },
  {
   "cell_type": "code",
   "execution_count": 11,
   "metadata": {
    "collapsed": true
   },
   "outputs": [],
   "source": [
    "%load_ext sql"
   ]
  },
  {
   "cell_type": "code",
   "execution_count": 12,
   "metadata": {},
   "outputs": [
    {
     "data": {
      "text/plain": [
       "'Connected: student@proj4'"
      ]
     },
     "execution_count": 12,
     "metadata": {},
     "output_type": "execute_result"
    }
   ],
   "source": [
    "%sql postgresql://student@/proj4"
   ]
  },
  {
   "cell_type": "markdown",
   "metadata": {},
   "source": [
    "We design the following schema for the dataset. It contains one fact table and five dimension tables. Here are the demostration of the six tables. "
   ]
  },
  {
   "cell_type": "code",
   "execution_count": 13,
   "metadata": {
    "scrolled": false
   },
   "outputs": [
    {
     "data": {
      "text/html": [
       "<img src=\"https://s3.amazonaws.com/dmfa-2017fall/Star-Schema.png\"/>"
      ],
      "text/plain": [
       "<IPython.core.display.Image object>"
      ]
     },
     "execution_count": 13,
     "metadata": {},
     "output_type": "execute_result"
    }
   ],
   "source": [
    "from IPython.display import Image\n",
    "Image(url='https://s3.amazonaws.com/dmfa-2017fall/Star-Schema.png')"
   ]
  },
  {
   "cell_type": "markdown",
   "metadata": {},
   "source": [
    "We start with populating a temporary fact table."
   ]
  },
  {
   "cell_type": "markdown",
   "metadata": {},
   "source": [
    "To create a temporary fact table to load all the data."
   ]
  },
  {
   "cell_type": "code",
   "execution_count": 14,
   "metadata": {},
   "outputs": [
    {
     "name": "stdout",
     "output_type": "stream",
     "text": [
      "Done.\n",
      "Done.\n"
     ]
    },
    {
     "data": {
      "text/plain": [
       "[]"
      ]
     },
     "execution_count": 14,
     "metadata": {},
     "output_type": "execute_result"
    }
   ],
   "source": [
    "%%sql\n",
    "\n",
    "DROP TABLE IF EXISTS fact;\n",
    "\n",
    "CREATE TABLE fact (\n",
    "    fact_id INTEGER,\n",
    "    fiscal_year INTEGER,\n",
    "    revenue_spending VARCHAR(10),\n",
    "    organization_group VARCHAR(50),\n",
    "    program VARCHAR(50),\n",
    "    character VARCHAR(50),\n",
    "    fund VARCHAR(50),\n",
    "    fund_category VARCHAR(50),\n",
    "    amount NUMERIC(20,2)    \n",
    ");"
   ]
  },
  {
   "cell_type": "markdown",
   "metadata": {},
   "source": [
    "To populate the temorary fact table, we use the absolute path here."
   ]
  },
  {
   "cell_type": "code",
   "execution_count": 15,
   "metadata": {},
   "outputs": [
    {
     "name": "stdout",
     "output_type": "stream",
     "text": [
      "/home/ubuntu\r\n"
     ]
    }
   ],
   "source": [
    "!pwd"
   ]
  },
  {
   "cell_type": "code",
   "execution_count": 16,
   "metadata": {
    "scrolled": true
   },
   "outputs": [
    {
     "name": "stdout",
     "output_type": "stream",
     "text": [
      "289429 rows affected.\n"
     ]
    },
    {
     "data": {
      "text/plain": [
       "[]"
      ]
     },
     "execution_count": 16,
     "metadata": {},
     "output_type": "execute_result"
    }
   ],
   "source": [
    "%%sql\n",
    "COPY fact FROM '/home/ubuntu/newdataset.csv'\n",
    "CSV\n",
    "HEADER;"
   ]
  },
  {
   "cell_type": "markdown",
   "metadata": {},
   "source": [
    "To verify data was loaded successfully to the temporary fact table."
   ]
  },
  {
   "cell_type": "code",
   "execution_count": 17,
   "metadata": {
    "scrolled": true
   },
   "outputs": [
    {
     "name": "stdout",
     "output_type": "stream",
     "text": [
      "10 rows affected.\n"
     ]
    },
    {
     "data": {
      "text/html": [
       "<table>\n",
       "    <tr>\n",
       "        <th>fact_id</th>\n",
       "        <th>fiscal_year</th>\n",
       "        <th>revenue_spending</th>\n",
       "        <th>organization_group</th>\n",
       "        <th>program</th>\n",
       "        <th>character</th>\n",
       "        <th>fund</th>\n",
       "        <th>fund_category</th>\n",
       "        <th>amount</th>\n",
       "    </tr>\n",
       "    <tr>\n",
       "        <td>205140</td>\n",
       "        <td>2011</td>\n",
       "        <td>Spending</td>\n",
       "        <td>Public Works, Transportation &amp; Commerce</td>\n",
       "        <td>City Capital Projects</td>\n",
       "        <td>Mandatory Fringe Benefits</td>\n",
       "        <td>Water Operating Fund</td>\n",
       "        <td>Continuing Projects</td>\n",
       "        <td>171.26</td>\n",
       "    </tr>\n",
       "    <tr>\n",
       "        <td>205141</td>\n",
       "        <td>2011</td>\n",
       "        <td>Spending</td>\n",
       "        <td>Public Works, Transportation &amp; Commerce</td>\n",
       "        <td>City Capital Projects</td>\n",
       "        <td>Mandatory Fringe Benefits</td>\n",
       "        <td>General Fund</td>\n",
       "        <td>Annual Projects</td>\n",
       "        <td>-45627.76</td>\n",
       "    </tr>\n",
       "    <tr>\n",
       "        <td>205142</td>\n",
       "        <td>2011</td>\n",
       "        <td>Spending</td>\n",
       "        <td>Public Works, Transportation &amp; Commerce</td>\n",
       "        <td>City Capital Projects</td>\n",
       "        <td>Mandatory Fringe Benefits</td>\n",
       "        <td>General Fund</td>\n",
       "        <td>Continuing Projects</td>\n",
       "        <td>-50385.50</td>\n",
       "    </tr>\n",
       "    <tr>\n",
       "        <td>205143</td>\n",
       "        <td>2011</td>\n",
       "        <td>Spending</td>\n",
       "        <td>Public Works, Transportation &amp; Commerce</td>\n",
       "        <td>City Capital Projects</td>\n",
       "        <td>Mandatory Fringe Benefits</td>\n",
       "        <td>Parking &amp; Traffic Gasoline Tax Fund</td>\n",
       "        <td>Continuing Projects</td>\n",
       "        <td>225822.47</td>\n",
       "    </tr>\n",
       "    <tr>\n",
       "        <td>205144</td>\n",
       "        <td>2011</td>\n",
       "        <td>Spending</td>\n",
       "        <td>Public Works, Transportation &amp; Commerce</td>\n",
       "        <td>City Capital Projects</td>\n",
       "        <td>Mandatory Fringe Benefits</td>\n",
       "        <td>Public Works, Transp. &amp; Commerce Fund</td>\n",
       "        <td>Continuing Projects</td>\n",
       "        <td>1672.97</td>\n",
       "    </tr>\n",
       "    <tr>\n",
       "        <td>205145</td>\n",
       "        <td>2011</td>\n",
       "        <td>Spending</td>\n",
       "        <td>Public Works, Transportation &amp; Commerce</td>\n",
       "        <td>City Capital Projects</td>\n",
       "        <td>Mandatory Fringe Benefits</td>\n",
       "        <td>Public Works, Transp. &amp; Commerce Fund</td>\n",
       "        <td>Work Orders/Overhead</td>\n",
       "        <td>17844.66</td>\n",
       "    </tr>\n",
       "    <tr>\n",
       "        <td>205146</td>\n",
       "        <td>2011</td>\n",
       "        <td>Spending</td>\n",
       "        <td>Public Works, Transportation &amp; Commerce</td>\n",
       "        <td>City Capital Projects</td>\n",
       "        <td>Mandatory Fringe Benefits</td>\n",
       "        <td>Earthquake Safety Improvements Fund</td>\n",
       "        <td>Continuing Projects</td>\n",
       "        <td>10081.92</td>\n",
       "    </tr>\n",
       "    <tr>\n",
       "        <td>205147</td>\n",
       "        <td>2011</td>\n",
       "        <td>Spending</td>\n",
       "        <td>Public Works, Transportation &amp; Commerce</td>\n",
       "        <td>City Capital Projects</td>\n",
       "        <td>Mandatory Fringe Benefits</td>\n",
       "        <td>Fire Protection Systems Impvt. Fund</td>\n",
       "        <td>Continuing Projects</td>\n",
       "        <td>583.72</td>\n",
       "    </tr>\n",
       "    <tr>\n",
       "        <td>205148</td>\n",
       "        <td>2011</td>\n",
       "        <td>Spending</td>\n",
       "        <td>Public Works, Transportation &amp; Commerce</td>\n",
       "        <td>City Capital Projects</td>\n",
       "        <td>Mandatory Fringe Benefits</td>\n",
       "        <td>Recreation &amp; Park Capital Impvts Fund</td>\n",
       "        <td>Continuing Projects</td>\n",
       "        <td>-1628.71</td>\n",
       "    </tr>\n",
       "    <tr>\n",
       "        <td>205149</td>\n",
       "        <td>2011</td>\n",
       "        <td>Spending</td>\n",
       "        <td>Public Works, Transportation &amp; Commerce</td>\n",
       "        <td>City Capital Projects</td>\n",
       "        <td>Mandatory Fringe Benefits</td>\n",
       "        <td>Recreation &amp; Park Capital Impvts Fund</td>\n",
       "        <td>Grants</td>\n",
       "        <td>55651.28</td>\n",
       "    </tr>\n",
       "</table>"
      ],
      "text/plain": [
       "[(205140, 2011, 'Spending', 'Public Works, Transportation & Commerce', 'City Capital Projects', 'Mandatory Fringe Benefits', 'Water Operating Fund', 'Continuing Projects', Decimal('171.26')),\n",
       " (205141, 2011, 'Spending', 'Public Works, Transportation & Commerce', 'City Capital Projects', 'Mandatory Fringe Benefits', 'General Fund', 'Annual Projects', Decimal('-45627.76')),\n",
       " (205142, 2011, 'Spending', 'Public Works, Transportation & Commerce', 'City Capital Projects', 'Mandatory Fringe Benefits', 'General Fund', 'Continuing Projects', Decimal('-50385.50')),\n",
       " (205143, 2011, 'Spending', 'Public Works, Transportation & Commerce', 'City Capital Projects', 'Mandatory Fringe Benefits', 'Parking & Traffic Gasoline Tax Fund', 'Continuing Projects', Decimal('225822.47')),\n",
       " (205144, 2011, 'Spending', 'Public Works, Transportation & Commerce', 'City Capital Projects', 'Mandatory Fringe Benefits', 'Public Works, Transp. & Commerce Fund', 'Continuing Projects', Decimal('1672.97')),\n",
       " (205145, 2011, 'Spending', 'Public Works, Transportation & Commerce', 'City Capital Projects', 'Mandatory Fringe Benefits', 'Public Works, Transp. & Commerce Fund', 'Work Orders/Overhead', Decimal('17844.66')),\n",
       " (205146, 2011, 'Spending', 'Public Works, Transportation & Commerce', 'City Capital Projects', 'Mandatory Fringe Benefits', 'Earthquake Safety Improvements Fund', 'Continuing Projects', Decimal('10081.92')),\n",
       " (205147, 2011, 'Spending', 'Public Works, Transportation & Commerce', 'City Capital Projects', 'Mandatory Fringe Benefits', 'Fire Protection Systems Impvt. Fund', 'Continuing Projects', Decimal('583.72')),\n",
       " (205148, 2011, 'Spending', 'Public Works, Transportation & Commerce', 'City Capital Projects', 'Mandatory Fringe Benefits', 'Recreation & Park Capital Impvts Fund', 'Continuing Projects', Decimal('-1628.71')),\n",
       " (205149, 2011, 'Spending', 'Public Works, Transportation & Commerce', 'City Capital Projects', 'Mandatory Fringe Benefits', 'Recreation & Park Capital Impvts Fund', 'Grants', Decimal('55651.28'))]"
      ]
     },
     "execution_count": 17,
     "metadata": {},
     "output_type": "execute_result"
    }
   ],
   "source": [
    "%%sql\n",
    "SELECT *\n",
    "FROM fact\n",
    "LIMIT 10;"
   ]
  },
  {
   "cell_type": "markdown",
   "metadata": {},
   "source": [
    "#### Next, we populate the `RS` table."
   ]
  },
  {
   "cell_type": "markdown",
   "metadata": {
    "collapsed": true
   },
   "source": [
    "To extract RS-related dimension detail."
   ]
  },
  {
   "cell_type": "code",
   "execution_count": 18,
   "metadata": {},
   "outputs": [
    {
     "name": "stdout",
     "output_type": "stream",
     "text": [
      "2 rows affected.\n"
     ]
    },
    {
     "data": {
      "text/html": [
       "<table>\n",
       "    <tr>\n",
       "        <th>revenue_spending</th>\n",
       "    </tr>\n",
       "    <tr>\n",
       "        <td>Spending</td>\n",
       "    </tr>\n",
       "    <tr>\n",
       "        <td>Revenue</td>\n",
       "    </tr>\n",
       "</table>"
      ],
      "text/plain": [
       "[('Spending',), ('Revenue',)]"
      ]
     },
     "execution_count": 18,
     "metadata": {},
     "output_type": "execute_result"
    }
   ],
   "source": [
    "%%sql\n",
    "SELECT DISTINCT revenue_spending\n",
    "FROM fact;"
   ]
  },
  {
   "cell_type": "markdown",
   "metadata": {},
   "source": [
    "To create `RS` table."
   ]
  },
  {
   "cell_type": "code",
   "execution_count": 19,
   "metadata": {},
   "outputs": [
    {
     "name": "stdout",
     "output_type": "stream",
     "text": [
      "Done.\n",
      "Done.\n"
     ]
    },
    {
     "data": {
      "text/plain": [
       "[]"
      ]
     },
     "execution_count": 19,
     "metadata": {},
     "output_type": "execute_result"
    }
   ],
   "source": [
    "%%sql\n",
    "\n",
    "DROP TABLE IF EXISTS RS;\n",
    "\n",
    "CREATE TABLE RS (\n",
    "    RS_id SERIAL PRIMARY KEY,\n",
    "    type VARCHAR(10) NOT NULL\n",
    ");"
   ]
  },
  {
   "cell_type": "markdown",
   "metadata": {},
   "source": [
    "To populate the dimension table with unique values of these dimensions from the dataset."
   ]
  },
  {
   "cell_type": "code",
   "execution_count": 20,
   "metadata": {},
   "outputs": [
    {
     "name": "stdout",
     "output_type": "stream",
     "text": [
      "2 rows affected.\n"
     ]
    },
    {
     "data": {
      "text/plain": [
       "[]"
      ]
     },
     "execution_count": 20,
     "metadata": {},
     "output_type": "execute_result"
    }
   ],
   "source": [
    "%%sql\n",
    "INSERT INTO RS (type)\n",
    "SELECT DISTINCT revenue_spending\n",
    "FROM fact;"
   ]
  },
  {
   "cell_type": "markdown",
   "metadata": {},
   "source": [
    "We add a foreign key column to the fact table that references `RS` dimension table."
   ]
  },
  {
   "cell_type": "code",
   "execution_count": 21,
   "metadata": {},
   "outputs": [
    {
     "name": "stdout",
     "output_type": "stream",
     "text": [
      "Done.\n"
     ]
    },
    {
     "data": {
      "text/plain": [
       "[]"
      ]
     },
     "execution_count": 21,
     "metadata": {},
     "output_type": "execute_result"
    }
   ],
   "source": [
    "%%sql\n",
    "ALTER TABLE fact\n",
    "ADD COLUMN RS_id INTEGER,\n",
    "ADD CONSTRAINT fk_RS_id\n",
    "    FOREIGN KEY (RS_id)\n",
    "    REFERENCES RS (RS_id);"
   ]
  },
  {
   "cell_type": "markdown",
   "metadata": {},
   "source": [
    "To create an index on all columns in `RS` table."
   ]
  },
  {
   "cell_type": "code",
   "execution_count": 22,
   "metadata": {},
   "outputs": [
    {
     "name": "stdout",
     "output_type": "stream",
     "text": [
      "Done.\n",
      "Done.\n"
     ]
    },
    {
     "data": {
      "text/plain": [
       "[]"
      ]
     },
     "execution_count": 22,
     "metadata": {},
     "output_type": "execute_result"
    }
   ],
   "source": [
    "%%sql\n",
    "DROP INDEX IF EXISTS idx_RS;\n",
    "\n",
    "CREATE INDEX idx_RS ON RS (type);"
   ]
  },
  {
   "cell_type": "code",
   "execution_count": 23,
   "metadata": {},
   "outputs": [
    {
     "name": "stdout",
     "output_type": "stream",
     "text": [
      "289429 rows affected.\n"
     ]
    },
    {
     "data": {
      "text/plain": [
       "[]"
      ]
     },
     "execution_count": 23,
     "metadata": {},
     "output_type": "execute_result"
    }
   ],
   "source": [
    "%%sql\n",
    "UPDATE fact\n",
    "SET RS_id = RS.RS_id\n",
    "FROM RS\n",
    "WHERE fact.revenue_spending = RS.type;"
   ]
  },
  {
   "cell_type": "markdown",
   "metadata": {},
   "source": [
    "To see if we successfully populate the foreign key column in the fact table."
   ]
  },
  {
   "cell_type": "code",
   "execution_count": 24,
   "metadata": {},
   "outputs": [
    {
     "name": "stdout",
     "output_type": "stream",
     "text": [
      "10 rows affected.\n"
     ]
    },
    {
     "data": {
      "text/html": [
       "<table>\n",
       "    <tr>\n",
       "        <th>fact_id</th>\n",
       "        <th>fiscal_year</th>\n",
       "        <th>revenue_spending</th>\n",
       "        <th>organization_group</th>\n",
       "        <th>program</th>\n",
       "        <th>character</th>\n",
       "        <th>fund</th>\n",
       "        <th>fund_category</th>\n",
       "        <th>amount</th>\n",
       "        <th>rs_id</th>\n",
       "    </tr>\n",
       "    <tr>\n",
       "        <td>217214</td>\n",
       "        <td>2008</td>\n",
       "        <td>Spending</td>\n",
       "        <td>Public Protection</td>\n",
       "        <td>Patrol</td>\n",
       "        <td>Non Personnel Services</td>\n",
       "        <td>Gift Fund</td>\n",
       "        <td>Grants</td>\n",
       "        <td>882.50</td>\n",
       "        <td>1</td>\n",
       "    </tr>\n",
       "    <tr>\n",
       "        <td>229911</td>\n",
       "        <td>2008</td>\n",
       "        <td>Revenue</td>\n",
       "        <td>Public Protection</td>\n",
       "        <td>Fire Nert</td>\n",
       "        <td>Other Revenues</td>\n",
       "        <td>Gift Fund</td>\n",
       "        <td>Grants</td>\n",
       "        <td>9975.00</td>\n",
       "        <td>2</td>\n",
       "    </tr>\n",
       "    <tr>\n",
       "        <td>232203</td>\n",
       "        <td>2008</td>\n",
       "        <td>Revenue</td>\n",
       "        <td>Culture &amp; Recreation</td>\n",
       "        <td>Branch Program</td>\n",
       "        <td>Other Revenues</td>\n",
       "        <td>Gift Fund</td>\n",
       "        <td>Grants</td>\n",
       "        <td>4170.00</td>\n",
       "        <td>2</td>\n",
       "    </tr>\n",
       "    <tr>\n",
       "        <td>263962</td>\n",
       "        <td>2009</td>\n",
       "        <td>Spending</td>\n",
       "        <td>Public Protection</td>\n",
       "        <td>Security Services</td>\n",
       "        <td>Salaries</td>\n",
       "        <td>General Fund</td>\n",
       "        <td>Operating</td>\n",
       "        <td>366.85</td>\n",
       "        <td>1</td>\n",
       "    </tr>\n",
       "    <tr>\n",
       "        <td>285803</td>\n",
       "        <td>2010</td>\n",
       "        <td>Revenue</td>\n",
       "        <td>Public Protection</td>\n",
       "        <td>Grant Services</td>\n",
       "        <td>Other Revenues</td>\n",
       "        <td>Gift Fund</td>\n",
       "        <td>Grants</td>\n",
       "        <td>3666.00</td>\n",
       "        <td>2</td>\n",
       "    </tr>\n",
       "    <tr>\n",
       "        <td>290596</td>\n",
       "        <td>2010</td>\n",
       "        <td>Spending</td>\n",
       "        <td>Public Protection</td>\n",
       "        <td>Emergency Services</td>\n",
       "        <td>Salaries</td>\n",
       "        <td>General Fund</td>\n",
       "        <td>Operating</td>\n",
       "        <td>-1365.00</td>\n",
       "        <td>1</td>\n",
       "    </tr>\n",
       "    <tr>\n",
       "        <td>291312</td>\n",
       "        <td>2010</td>\n",
       "        <td>Spending</td>\n",
       "        <td>Public Protection</td>\n",
       "        <td>Log Cabin Ranch</td>\n",
       "        <td>Salaries</td>\n",
       "        <td>General Fund</td>\n",
       "        <td>Operating</td>\n",
       "        <td>1140649.97</td>\n",
       "        <td>1</td>\n",
       "    </tr>\n",
       "    <tr>\n",
       "        <td>308471</td>\n",
       "        <td>2010</td>\n",
       "        <td>Spending</td>\n",
       "        <td>Culture &amp; Recreation</td>\n",
       "        <td>Golden Gate Park</td>\n",
       "        <td>Salaries</td>\n",
       "        <td>Bequests Fund</td>\n",
       "        <td>Grants</td>\n",
       "        <td>12626.00</td>\n",
       "        <td>1</td>\n",
       "    </tr>\n",
       "    <tr>\n",
       "        <td>335828</td>\n",
       "        <td>2011</td>\n",
       "        <td>Spending</td>\n",
       "        <td>Culture &amp; Recreation</td>\n",
       "        <td>Public Art</td>\n",
       "        <td>Salaries</td>\n",
       "        <td>Gift Fund</td>\n",
       "        <td>Grants</td>\n",
       "        <td>830.99</td>\n",
       "        <td>1</td>\n",
       "    </tr>\n",
       "    <tr>\n",
       "        <td>342642</td>\n",
       "        <td>2012</td>\n",
       "        <td>Revenue</td>\n",
       "        <td>Public Protection</td>\n",
       "        <td>Fire General</td>\n",
       "        <td>Other Revenues</td>\n",
       "        <td>Gift Fund</td>\n",
       "        <td>Grants</td>\n",
       "        <td>5380.53</td>\n",
       "        <td>2</td>\n",
       "    </tr>\n",
       "</table>"
      ],
      "text/plain": [
       "[(217214, 2008, 'Spending', 'Public Protection', 'Patrol', 'Non Personnel Services', 'Gift Fund', 'Grants', Decimal('882.50'), 1),\n",
       " (229911, 2008, 'Revenue', 'Public Protection', 'Fire Nert', 'Other Revenues', 'Gift Fund', 'Grants', Decimal('9975.00'), 2),\n",
       " (232203, 2008, 'Revenue', 'Culture & Recreation', 'Branch Program', 'Other Revenues', 'Gift Fund', 'Grants', Decimal('4170.00'), 2),\n",
       " (263962, 2009, 'Spending', 'Public Protection', 'Security Services', 'Salaries', 'General Fund', 'Operating', Decimal('366.85'), 1),\n",
       " (285803, 2010, 'Revenue', 'Public Protection', 'Grant Services', 'Other Revenues', 'Gift Fund', 'Grants', Decimal('3666.00'), 2),\n",
       " (290596, 2010, 'Spending', 'Public Protection', 'Emergency Services', 'Salaries', 'General Fund', 'Operating', Decimal('-1365.00'), 1),\n",
       " (291312, 2010, 'Spending', 'Public Protection', 'Log Cabin Ranch', 'Salaries', 'General Fund', 'Operating', Decimal('1140649.97'), 1),\n",
       " (308471, 2010, 'Spending', 'Culture & Recreation', 'Golden Gate Park', 'Salaries', 'Bequests Fund', 'Grants', Decimal('12626.00'), 1),\n",
       " (335828, 2011, 'Spending', 'Culture & Recreation', 'Public Art', 'Salaries', 'Gift Fund', 'Grants', Decimal('830.99'), 1),\n",
       " (342642, 2012, 'Revenue', 'Public Protection', 'Fire General', 'Other Revenues', 'Gift Fund', 'Grants', Decimal('5380.53'), 2)]"
      ]
     },
     "execution_count": 24,
     "metadata": {},
     "output_type": "execute_result"
    }
   ],
   "source": [
    "%%sql\n",
    "SELECT *\n",
    "FROM fact\n",
    "LIMIT 10;"
   ]
  },
  {
   "cell_type": "markdown",
   "metadata": {
    "collapsed": true
   },
   "source": [
    "End of populating `RS` table."
   ]
  },
  {
   "cell_type": "markdown",
   "metadata": {},
   "source": [
    "#### Next, we populate the `fund` table."
   ]
  },
  {
   "cell_type": "markdown",
   "metadata": {},
   "source": [
    "To extract fund-related dimension details."
   ]
  },
  {
   "cell_type": "code",
   "execution_count": 25,
   "metadata": {},
   "outputs": [
    {
     "name": "stdout",
     "output_type": "stream",
     "text": [
      "10 rows affected.\n"
     ]
    },
    {
     "data": {
      "text/html": [
       "<table>\n",
       "    <tr>\n",
       "        <th>fund</th>\n",
       "        <th>fund_category</th>\n",
       "    </tr>\n",
       "    <tr>\n",
       "        <td>Other Agency Fund</td>\n",
       "        <td>Operating</td>\n",
       "    </tr>\n",
       "    <tr>\n",
       "        <td>Courts&#x27; Fund</td>\n",
       "        <td>Annual Projects</td>\n",
       "    </tr>\n",
       "    <tr>\n",
       "        <td>Police Dept. Facilities Impvt. Fund</td>\n",
       "        <td>Grants</td>\n",
       "    </tr>\n",
       "    <tr>\n",
       "        <td>Real Property Fund</td>\n",
       "        <td>Continuing Projects</td>\n",
       "    </tr>\n",
       "    <tr>\n",
       "        <td>School District Agency Fund</td>\n",
       "        <td>Operating</td>\n",
       "    </tr>\n",
       "    <tr>\n",
       "        <td>Parking Off Street Parking Oper Fund</td>\n",
       "        <td>Operating</td>\n",
       "    </tr>\n",
       "    <tr>\n",
       "        <td>SFCTA Capital Project Fund</td>\n",
       "        <td>Continuing Projects</td>\n",
       "    </tr>\n",
       "    <tr>\n",
       "        <td>San Francisco Finance Corporation</td>\n",
       "        <td>Continuing Projects</td>\n",
       "    </tr>\n",
       "    <tr>\n",
       "        <td>Transportation &amp; Commerce Fund</td>\n",
       "        <td>Grants</td>\n",
       "    </tr>\n",
       "    <tr>\n",
       "        <td>Port Capital Projects Fund</td>\n",
       "        <td>Continuing Projects</td>\n",
       "    </tr>\n",
       "</table>"
      ],
      "text/plain": [
       "[('Other Agency Fund', 'Operating'),\n",
       " (\"Courts' Fund\", 'Annual Projects'),\n",
       " ('Police Dept. Facilities Impvt. Fund', 'Grants'),\n",
       " ('Real Property Fund', 'Continuing Projects'),\n",
       " ('School District Agency Fund', 'Operating'),\n",
       " ('Parking Off Street Parking Oper Fund', 'Operating'),\n",
       " ('SFCTA Capital Project Fund', 'Continuing Projects'),\n",
       " ('San Francisco Finance Corporation', 'Continuing Projects'),\n",
       " ('Transportation & Commerce Fund', 'Grants'),\n",
       " ('Port Capital Projects Fund', 'Continuing Projects')]"
      ]
     },
     "execution_count": 25,
     "metadata": {},
     "output_type": "execute_result"
    }
   ],
   "source": [
    "%%sql\n",
    "SELECT DISTINCT Fund, Fund_Category\n",
    "FROM fact\n",
    "LIMIT 10;"
   ]
  },
  {
   "cell_type": "markdown",
   "metadata": {},
   "source": [
    "To create `fund` table."
   ]
  },
  {
   "cell_type": "code",
   "execution_count": 26,
   "metadata": {},
   "outputs": [
    {
     "name": "stdout",
     "output_type": "stream",
     "text": [
      "Done.\n",
      "Done.\n"
     ]
    },
    {
     "data": {
      "text/plain": [
       "[]"
      ]
     },
     "execution_count": 26,
     "metadata": {},
     "output_type": "execute_result"
    }
   ],
   "source": [
    "%%sql\n",
    "\n",
    "DROP TABLE IF EXISTS fund;\n",
    "\n",
    "CREATE TABLE fund (\n",
    "    fund_id SERIAL PRIMARY KEY,\n",
    "    fund VARCHAR(50) NOT NULL,\n",
    "    fund_category VARCHAR(50) NOT NULL\n",
    ");"
   ]
  },
  {
   "cell_type": "markdown",
   "metadata": {},
   "source": [
    "To populate the dimension table with unique values of these dimensions from the dataset."
   ]
  },
  {
   "cell_type": "code",
   "execution_count": 27,
   "metadata": {},
   "outputs": [
    {
     "name": "stdout",
     "output_type": "stream",
     "text": [
      "246 rows affected.\n"
     ]
    },
    {
     "data": {
      "text/plain": [
       "[]"
      ]
     },
     "execution_count": 27,
     "metadata": {},
     "output_type": "execute_result"
    }
   ],
   "source": [
    "%%sql\n",
    "INSERT INTO fund (fund,fund_category)\n",
    "SELECT DISTINCT Fund, Fund_Category\n",
    "FROM fact;"
   ]
  },
  {
   "cell_type": "markdown",
   "metadata": {},
   "source": [
    "We add a foreign key column to the fact table that references `fund` dimension table."
   ]
  },
  {
   "cell_type": "code",
   "execution_count": 28,
   "metadata": {},
   "outputs": [
    {
     "name": "stdout",
     "output_type": "stream",
     "text": [
      "Done.\n"
     ]
    },
    {
     "data": {
      "text/plain": [
       "[]"
      ]
     },
     "execution_count": 28,
     "metadata": {},
     "output_type": "execute_result"
    }
   ],
   "source": [
    "%%sql\n",
    "ALTER TABLE fact\n",
    "ADD COLUMN fund_id INTEGER,\n",
    "ADD CONSTRAINT fk_fund_id\n",
    "    FOREIGN KEY (fund_id)\n",
    "    REFERENCES fund (fund_id);"
   ]
  },
  {
   "cell_type": "code",
   "execution_count": 29,
   "metadata": {},
   "outputs": [
    {
     "name": "stdout",
     "output_type": "stream",
     "text": [
      "10 rows affected.\n"
     ]
    },
    {
     "data": {
      "text/html": [
       "<table>\n",
       "    <tr>\n",
       "        <th>fund_id</th>\n",
       "    </tr>\n",
       "    <tr>\n",
       "        <td>None</td>\n",
       "    </tr>\n",
       "    <tr>\n",
       "        <td>None</td>\n",
       "    </tr>\n",
       "    <tr>\n",
       "        <td>None</td>\n",
       "    </tr>\n",
       "    <tr>\n",
       "        <td>None</td>\n",
       "    </tr>\n",
       "    <tr>\n",
       "        <td>None</td>\n",
       "    </tr>\n",
       "    <tr>\n",
       "        <td>None</td>\n",
       "    </tr>\n",
       "    <tr>\n",
       "        <td>None</td>\n",
       "    </tr>\n",
       "    <tr>\n",
       "        <td>None</td>\n",
       "    </tr>\n",
       "    <tr>\n",
       "        <td>None</td>\n",
       "    </tr>\n",
       "    <tr>\n",
       "        <td>None</td>\n",
       "    </tr>\n",
       "</table>"
      ],
      "text/plain": [
       "[(None,),\n",
       " (None,),\n",
       " (None,),\n",
       " (None,),\n",
       " (None,),\n",
       " (None,),\n",
       " (None,),\n",
       " (None,),\n",
       " (None,),\n",
       " (None,)]"
      ]
     },
     "execution_count": 29,
     "metadata": {},
     "output_type": "execute_result"
    }
   ],
   "source": [
    "%%sql\n",
    "SELECT fund_id FROM fact\n",
    "LIMIT 10;"
   ]
  },
  {
   "cell_type": "markdown",
   "metadata": {},
   "source": [
    "To create an index on all columns in `fund` table."
   ]
  },
  {
   "cell_type": "code",
   "execution_count": 30,
   "metadata": {},
   "outputs": [
    {
     "name": "stdout",
     "output_type": "stream",
     "text": [
      "Done.\n",
      "Done.\n"
     ]
    },
    {
     "data": {
      "text/plain": [
       "[]"
      ]
     },
     "execution_count": 30,
     "metadata": {},
     "output_type": "execute_result"
    }
   ],
   "source": [
    "%%sql\n",
    "DROP INDEX IF EXISTS idx_fund;\n",
    "\n",
    "CREATE INDEX idx_fund ON fund (fund,fund_category);"
   ]
  },
  {
   "cell_type": "code",
   "execution_count": 31,
   "metadata": {},
   "outputs": [
    {
     "name": "stdout",
     "output_type": "stream",
     "text": [
      "289429 rows affected.\n"
     ]
    },
    {
     "data": {
      "text/plain": [
       "[]"
      ]
     },
     "execution_count": 31,
     "metadata": {},
     "output_type": "execute_result"
    }
   ],
   "source": [
    "%%sql\n",
    "UPDATE fact\n",
    "SET fund_id = fund.fund_id\n",
    "FROM fund\n",
    "WHERE fact.Fund = fund.fund\n",
    "    AND fact.Fund_Category = fund.fund_category;"
   ]
  },
  {
   "cell_type": "markdown",
   "metadata": {},
   "source": [
    "To see if we successfully populate the foreign key column in `fact` table."
   ]
  },
  {
   "cell_type": "code",
   "execution_count": 32,
   "metadata": {
    "scrolled": true
   },
   "outputs": [
    {
     "name": "stdout",
     "output_type": "stream",
     "text": [
      "10 rows affected.\n"
     ]
    },
    {
     "data": {
      "text/html": [
       "<table>\n",
       "    <tr>\n",
       "        <th>fact_id</th>\n",
       "        <th>fiscal_year</th>\n",
       "        <th>revenue_spending</th>\n",
       "        <th>organization_group</th>\n",
       "        <th>program</th>\n",
       "        <th>character</th>\n",
       "        <th>fund</th>\n",
       "        <th>fund_category</th>\n",
       "        <th>amount</th>\n",
       "        <th>rs_id</th>\n",
       "        <th>fund_id</th>\n",
       "    </tr>\n",
       "    <tr>\n",
       "        <td>407341</td>\n",
       "        <td>2014</td>\n",
       "        <td>Spending</td>\n",
       "        <td>Public Protection</td>\n",
       "        <td>Sheriff Programs</td>\n",
       "        <td>Salaries</td>\n",
       "        <td>General Fund</td>\n",
       "        <td>Operating</td>\n",
       "        <td>625.00</td>\n",
       "        <td>1</td>\n",
       "        <td>161</td>\n",
       "    </tr>\n",
       "    <tr>\n",
       "        <td>423881</td>\n",
       "        <td>2014</td>\n",
       "        <td>Spending</td>\n",
       "        <td>Culture &amp; Recreation</td>\n",
       "        <td>Golden Gate Park</td>\n",
       "        <td>Salaries</td>\n",
       "        <td>Bequests Fund</td>\n",
       "        <td>Grants</td>\n",
       "        <td>2469.74</td>\n",
       "        <td>1</td>\n",
       "        <td>154</td>\n",
       "    </tr>\n",
       "    <tr>\n",
       "        <td>424113</td>\n",
       "        <td>2014</td>\n",
       "        <td>Spending</td>\n",
       "        <td>Culture &amp; Recreation</td>\n",
       "        <td>Parks</td>\n",
       "        <td>Non Personnel Services</td>\n",
       "        <td>Golf Fund</td>\n",
       "        <td>Operating</td>\n",
       "        <td>2360.00</td>\n",
       "        <td>1</td>\n",
       "        <td>86</td>\n",
       "    </tr>\n",
       "    <tr>\n",
       "        <td>424999</td>\n",
       "        <td>2014</td>\n",
       "        <td>Spending</td>\n",
       "        <td>Culture &amp; Recreation</td>\n",
       "        <td>Rec &amp; Park Administration</td>\n",
       "        <td>Materials &amp; Supplies</td>\n",
       "        <td>Gift Fund</td>\n",
       "        <td>Grants</td>\n",
       "        <td>209.98</td>\n",
       "        <td>1</td>\n",
       "        <td>230</td>\n",
       "    </tr>\n",
       "    <tr>\n",
       "        <td>425105</td>\n",
       "        <td>2014</td>\n",
       "        <td>Spending</td>\n",
       "        <td>Culture &amp; Recreation</td>\n",
       "        <td>Academy Of Sciences</td>\n",
       "        <td>Salaries</td>\n",
       "        <td>General Fund</td>\n",
       "        <td>Operating</td>\n",
       "        <td>806707.73</td>\n",
       "        <td>1</td>\n",
       "        <td>161</td>\n",
       "    </tr>\n",
       "    <tr>\n",
       "        <td>426881</td>\n",
       "        <td>2014</td>\n",
       "        <td>Spending</td>\n",
       "        <td>General Administration &amp; Finance</td>\n",
       "        <td>Legal Service</td>\n",
       "        <td>Salaries</td>\n",
       "        <td>General Fund</td>\n",
       "        <td>Operating</td>\n",
       "        <td>1693730.87</td>\n",
       "        <td>1</td>\n",
       "        <td>161</td>\n",
       "    </tr>\n",
       "    <tr>\n",
       "        <td>427442</td>\n",
       "        <td>2014</td>\n",
       "        <td>Spending</td>\n",
       "        <td>General Administration &amp; Finance</td>\n",
       "        <td>Current Planning</td>\n",
       "        <td>Salaries</td>\n",
       "        <td>General Fund</td>\n",
       "        <td>Operating</td>\n",
       "        <td>4093224.97</td>\n",
       "        <td>1</td>\n",
       "        <td>161</td>\n",
       "    </tr>\n",
       "    <tr>\n",
       "        <td>433234</td>\n",
       "        <td>2015</td>\n",
       "        <td>Spending</td>\n",
       "        <td>Public Protection</td>\n",
       "        <td>Log Cabin Ranch</td>\n",
       "        <td>Salaries</td>\n",
       "        <td>General Fund</td>\n",
       "        <td>Operating</td>\n",
       "        <td>54009.88</td>\n",
       "        <td>1</td>\n",
       "        <td>161</td>\n",
       "    </tr>\n",
       "    <tr>\n",
       "        <td>467196</td>\n",
       "        <td>2016</td>\n",
       "        <td>Spending</td>\n",
       "        <td>Public Protection</td>\n",
       "        <td>Security Services</td>\n",
       "        <td>Salaries</td>\n",
       "        <td>General Fund</td>\n",
       "        <td>Operating</td>\n",
       "        <td>3699.80</td>\n",
       "        <td>1</td>\n",
       "        <td>161</td>\n",
       "    </tr>\n",
       "    <tr>\n",
       "        <td>468130</td>\n",
       "        <td>2017</td>\n",
       "        <td>Spending</td>\n",
       "        <td>Public Protection</td>\n",
       "        <td>Patrol</td>\n",
       "        <td>Non Personnel Services</td>\n",
       "        <td>Gift Fund</td>\n",
       "        <td>Grants</td>\n",
       "        <td>150.00</td>\n",
       "        <td>1</td>\n",
       "        <td>230</td>\n",
       "    </tr>\n",
       "</table>"
      ],
      "text/plain": [
       "[(407341, 2014, 'Spending', 'Public Protection', 'Sheriff Programs', 'Salaries', 'General Fund', 'Operating', Decimal('625.00'), 1, 161),\n",
       " (423881, 2014, 'Spending', 'Culture & Recreation', 'Golden Gate Park', 'Salaries', 'Bequests Fund', 'Grants', Decimal('2469.74'), 1, 154),\n",
       " (424113, 2014, 'Spending', 'Culture & Recreation', 'Parks', 'Non Personnel Services', 'Golf Fund', 'Operating', Decimal('2360.00'), 1, 86),\n",
       " (424999, 2014, 'Spending', 'Culture & Recreation', 'Rec & Park Administration', 'Materials & Supplies', 'Gift Fund', 'Grants', Decimal('209.98'), 1, 230),\n",
       " (425105, 2014, 'Spending', 'Culture & Recreation', 'Academy Of Sciences', 'Salaries', 'General Fund', 'Operating', Decimal('806707.73'), 1, 161),\n",
       " (426881, 2014, 'Spending', 'General Administration & Finance', 'Legal Service', 'Salaries', 'General Fund', 'Operating', Decimal('1693730.87'), 1, 161),\n",
       " (427442, 2014, 'Spending', 'General Administration & Finance', 'Current Planning', 'Salaries', 'General Fund', 'Operating', Decimal('4093224.97'), 1, 161),\n",
       " (433234, 2015, 'Spending', 'Public Protection', 'Log Cabin Ranch', 'Salaries', 'General Fund', 'Operating', Decimal('54009.88'), 1, 161),\n",
       " (467196, 2016, 'Spending', 'Public Protection', 'Security Services', 'Salaries', 'General Fund', 'Operating', Decimal('3699.80'), 1, 161),\n",
       " (468130, 2017, 'Spending', 'Public Protection', 'Patrol', 'Non Personnel Services', 'Gift Fund', 'Grants', Decimal('150.00'), 1, 230)]"
      ]
     },
     "execution_count": 32,
     "metadata": {},
     "output_type": "execute_result"
    }
   ],
   "source": [
    "%%sql\n",
    "SELECT *\n",
    "FROM fact\n",
    "LIMIT 10;"
   ]
  },
  {
   "cell_type": "markdown",
   "metadata": {},
   "source": [
    "#### End of populating `fund` table."
   ]
  },
  {
   "cell_type": "markdown",
   "metadata": {},
   "source": [
    "#### Next, we populate `character` table."
   ]
  },
  {
   "cell_type": "markdown",
   "metadata": {},
   "source": [
    "To extract character-related dimension details."
   ]
  },
  {
   "cell_type": "code",
   "execution_count": 33,
   "metadata": {},
   "outputs": [
    {
     "name": "stdout",
     "output_type": "stream",
     "text": [
      "10 rows affected.\n"
     ]
    },
    {
     "data": {
      "text/html": [
       "<table>\n",
       "    <tr>\n",
       "        <th>character</th>\n",
       "    </tr>\n",
       "    <tr>\n",
       "        <td>Licenses; Permits &amp; Franchises</td>\n",
       "    </tr>\n",
       "    <tr>\n",
       "        <td>Expenditure Recovery</td>\n",
       "    </tr>\n",
       "    <tr>\n",
       "        <td>Other Local Taxes</td>\n",
       "    </tr>\n",
       "    <tr>\n",
       "        <td>Other Support&amp;Care Of Persons</td>\n",
       "    </tr>\n",
       "    <tr>\n",
       "        <td>Transfer Adjustments-Sources</td>\n",
       "    </tr>\n",
       "    <tr>\n",
       "        <td>Business Taxes</td>\n",
       "    </tr>\n",
       "    <tr>\n",
       "        <td>Intrafund Transfers Out</td>\n",
       "    </tr>\n",
       "    <tr>\n",
       "        <td>Other Expenses-Non Expend Type</td>\n",
       "    </tr>\n",
       "    <tr>\n",
       "        <td>Aid Assistance</td>\n",
       "    </tr>\n",
       "    <tr>\n",
       "        <td>Other Financing Sources</td>\n",
       "    </tr>\n",
       "</table>"
      ],
      "text/plain": [
       "[('Licenses; Permits & Franchises',),\n",
       " ('Expenditure Recovery',),\n",
       " ('Other Local Taxes',),\n",
       " ('Other Support&Care Of Persons',),\n",
       " ('Transfer Adjustments-Sources',),\n",
       " ('Business Taxes',),\n",
       " ('Intrafund Transfers Out',),\n",
       " ('Other Expenses-Non Expend Type',),\n",
       " ('Aid Assistance',),\n",
       " ('Other Financing Sources',)]"
      ]
     },
     "execution_count": 33,
     "metadata": {},
     "output_type": "execute_result"
    }
   ],
   "source": [
    "%%sql\n",
    "SELECT DISTINCT character\n",
    "FROM fact\n",
    "LIMIT 10;"
   ]
  },
  {
   "cell_type": "markdown",
   "metadata": {},
   "source": [
    "To create `character` table."
   ]
  },
  {
   "cell_type": "code",
   "execution_count": 34,
   "metadata": {},
   "outputs": [
    {
     "name": "stdout",
     "output_type": "stream",
     "text": [
      "Done.\n",
      "Done.\n"
     ]
    },
    {
     "data": {
      "text/plain": [
       "[]"
      ]
     },
     "execution_count": 34,
     "metadata": {},
     "output_type": "execute_result"
    }
   ],
   "source": [
    "%%sql\n",
    "\n",
    "DROP TABLE IF EXISTS character;\n",
    "\n",
    "CREATE TABLE character (\n",
    "    character_id SERIAL PRIMARY KEY,\n",
    "    character VARCHAR(50) NOT NULL\n",
    ");"
   ]
  },
  {
   "cell_type": "markdown",
   "metadata": {},
   "source": [
    "To populate the dimension table with unique values of dimension from the dataset."
   ]
  },
  {
   "cell_type": "code",
   "execution_count": 35,
   "metadata": {},
   "outputs": [
    {
     "name": "stdout",
     "output_type": "stream",
     "text": [
      "46 rows affected.\n"
     ]
    },
    {
     "data": {
      "text/plain": [
       "[]"
      ]
     },
     "execution_count": 35,
     "metadata": {},
     "output_type": "execute_result"
    }
   ],
   "source": [
    "%%sql\n",
    "INSERT INTO character (character)\n",
    "SELECT DISTINCT character\n",
    "FROM fact;"
   ]
  },
  {
   "cell_type": "markdown",
   "metadata": {},
   "source": [
    "We add a foreign key column to the fact table that references character dimension table."
   ]
  },
  {
   "cell_type": "code",
   "execution_count": 36,
   "metadata": {},
   "outputs": [
    {
     "name": "stdout",
     "output_type": "stream",
     "text": [
      "Done.\n"
     ]
    },
    {
     "data": {
      "text/plain": [
       "[]"
      ]
     },
     "execution_count": 36,
     "metadata": {},
     "output_type": "execute_result"
    }
   ],
   "source": [
    "%%sql\n",
    "ALTER TABLE fact\n",
    "ADD COLUMN character_id INTEGER,\n",
    "ADD CONSTRAINT fk_character_id\n",
    "    FOREIGN KEY (character_id)\n",
    "    REFERENCES character (character_id);"
   ]
  },
  {
   "cell_type": "markdown",
   "metadata": {},
   "source": [
    "To create an index on all columns in `character` table."
   ]
  },
  {
   "cell_type": "code",
   "execution_count": 37,
   "metadata": {},
   "outputs": [
    {
     "name": "stdout",
     "output_type": "stream",
     "text": [
      "Done.\n",
      "Done.\n"
     ]
    },
    {
     "data": {
      "text/plain": [
       "[]"
      ]
     },
     "execution_count": 37,
     "metadata": {},
     "output_type": "execute_result"
    }
   ],
   "source": [
    "%%sql\n",
    "DROP INDEX IF EXISTS idx_character;\n",
    "\n",
    "CREATE INDEX idx_character ON character (character);"
   ]
  },
  {
   "cell_type": "code",
   "execution_count": 38,
   "metadata": {},
   "outputs": [
    {
     "name": "stdout",
     "output_type": "stream",
     "text": [
      "289429 rows affected.\n"
     ]
    },
    {
     "data": {
      "text/plain": [
       "[]"
      ]
     },
     "execution_count": 38,
     "metadata": {},
     "output_type": "execute_result"
    }
   ],
   "source": [
    "%%sql\n",
    "UPDATE fact\n",
    "SET character_id = character.character_id\n",
    "FROM character\n",
    "WHERE fact.character = character.character;"
   ]
  },
  {
   "cell_type": "markdown",
   "metadata": {},
   "source": [
    "To see if we successfully populate the foreign key column in fact table."
   ]
  },
  {
   "cell_type": "code",
   "execution_count": 39,
   "metadata": {
    "scrolled": true
   },
   "outputs": [
    {
     "name": "stdout",
     "output_type": "stream",
     "text": [
      "10 rows affected.\n"
     ]
    },
    {
     "data": {
      "text/html": [
       "<table>\n",
       "    <tr>\n",
       "        <th>fact_id</th>\n",
       "        <th>fiscal_year</th>\n",
       "        <th>revenue_spending</th>\n",
       "        <th>organization_group</th>\n",
       "        <th>program</th>\n",
       "        <th>character</th>\n",
       "        <th>fund</th>\n",
       "        <th>fund_category</th>\n",
       "        <th>amount</th>\n",
       "        <th>rs_id</th>\n",
       "        <th>fund_id</th>\n",
       "        <th>character_id</th>\n",
       "    </tr>\n",
       "    <tr>\n",
       "        <td>468130</td>\n",
       "        <td>2017</td>\n",
       "        <td>Spending</td>\n",
       "        <td>Public Protection</td>\n",
       "        <td>Patrol</td>\n",
       "        <td>Non Personnel Services</td>\n",
       "        <td>Gift Fund</td>\n",
       "        <td>Grants</td>\n",
       "        <td>150.00</td>\n",
       "        <td>1</td>\n",
       "        <td>230</td>\n",
       "        <td>42</td>\n",
       "    </tr>\n",
       "    <tr>\n",
       "        <td>481547</td>\n",
       "        <td>2016</td>\n",
       "        <td>Spending</td>\n",
       "        <td>Community Health</td>\n",
       "        <td>Sfhn-Managed Care</td>\n",
       "        <td>Salaries</td>\n",
       "        <td>General Fund</td>\n",
       "        <td>Operating</td>\n",
       "        <td>6714.40</td>\n",
       "        <td>1</td>\n",
       "        <td>161</td>\n",
       "        <td>14</td>\n",
       "    </tr>\n",
       "    <tr>\n",
       "        <td>235567</td>\n",
       "        <td>2008</td>\n",
       "        <td>Spending</td>\n",
       "        <td>Public Protection</td>\n",
       "        <td>Grant Services</td>\n",
       "        <td>Salaries</td>\n",
       "        <td>Gift Fund</td>\n",
       "        <td>Grants</td>\n",
       "        <td>2466.08</td>\n",
       "        <td>1</td>\n",
       "        <td>230</td>\n",
       "        <td>14</td>\n",
       "    </tr>\n",
       "    <tr>\n",
       "        <td>235568</td>\n",
       "        <td>2008</td>\n",
       "        <td>Spending</td>\n",
       "        <td>Public Protection</td>\n",
       "        <td>Grant Services</td>\n",
       "        <td>Salaries</td>\n",
       "        <td>Public Protection Fund</td>\n",
       "        <td>Grants</td>\n",
       "        <td>4099.39</td>\n",
       "        <td>1</td>\n",
       "        <td>105</td>\n",
       "        <td>14</td>\n",
       "    </tr>\n",
       "    <tr>\n",
       "        <td>515919</td>\n",
       "        <td>2017</td>\n",
       "        <td>Spending</td>\n",
       "        <td>Culture &amp; Recreation</td>\n",
       "        <td>Law Library</td>\n",
       "        <td>Salaries</td>\n",
       "        <td>General Fund</td>\n",
       "        <td>Operating</td>\n",
       "        <td>246239.09</td>\n",
       "        <td>1</td>\n",
       "        <td>161</td>\n",
       "        <td>14</td>\n",
       "    </tr>\n",
       "    <tr>\n",
       "        <td>235569</td>\n",
       "        <td>2008</td>\n",
       "        <td>Spending</td>\n",
       "        <td>Public Protection</td>\n",
       "        <td>Grant Services</td>\n",
       "        <td>Salaries</td>\n",
       "        <td>Gift Fund</td>\n",
       "        <td>Grants</td>\n",
       "        <td>2385.02</td>\n",
       "        <td>1</td>\n",
       "        <td>230</td>\n",
       "        <td>14</td>\n",
       "    </tr>\n",
       "    <tr>\n",
       "        <td>235570</td>\n",
       "        <td>2008</td>\n",
       "        <td>Spending</td>\n",
       "        <td>Public Protection</td>\n",
       "        <td>Grant Services</td>\n",
       "        <td>Salaries</td>\n",
       "        <td>Public Protection Fund</td>\n",
       "        <td>Grants</td>\n",
       "        <td>3209.80</td>\n",
       "        <td>1</td>\n",
       "        <td>105</td>\n",
       "        <td>14</td>\n",
       "    </tr>\n",
       "    <tr>\n",
       "        <td>235571</td>\n",
       "        <td>2008</td>\n",
       "        <td>Spending</td>\n",
       "        <td>Public Protection</td>\n",
       "        <td>Grant Services</td>\n",
       "        <td>Salaries</td>\n",
       "        <td>Gift Fund</td>\n",
       "        <td>Grants</td>\n",
       "        <td>3340.50</td>\n",
       "        <td>1</td>\n",
       "        <td>230</td>\n",
       "        <td>14</td>\n",
       "    </tr>\n",
       "    <tr>\n",
       "        <td>235572</td>\n",
       "        <td>2008</td>\n",
       "        <td>Spending</td>\n",
       "        <td>Public Protection</td>\n",
       "        <td>Grant Services</td>\n",
       "        <td>Salaries</td>\n",
       "        <td>Public Protection Fund</td>\n",
       "        <td>Grants</td>\n",
       "        <td>625.00</td>\n",
       "        <td>1</td>\n",
       "        <td>105</td>\n",
       "        <td>14</td>\n",
       "    </tr>\n",
       "    <tr>\n",
       "        <td>229662</td>\n",
       "        <td>2008</td>\n",
       "        <td>Spending</td>\n",
       "        <td>Community Health</td>\n",
       "        <td>Health At Home</td>\n",
       "        <td>Salaries</td>\n",
       "        <td>General Fund</td>\n",
       "        <td>Operating</td>\n",
       "        <td>277858.70</td>\n",
       "        <td>1</td>\n",
       "        <td>161</td>\n",
       "        <td>14</td>\n",
       "    </tr>\n",
       "</table>"
      ],
      "text/plain": [
       "[(468130, 2017, 'Spending', 'Public Protection', 'Patrol', 'Non Personnel Services', 'Gift Fund', 'Grants', Decimal('150.00'), 1, 230, 42),\n",
       " (481547, 2016, 'Spending', 'Community Health', 'Sfhn-Managed Care', 'Salaries', 'General Fund', 'Operating', Decimal('6714.40'), 1, 161, 14),\n",
       " (235567, 2008, 'Spending', 'Public Protection', 'Grant Services', 'Salaries', 'Gift Fund', 'Grants', Decimal('2466.08'), 1, 230, 14),\n",
       " (235568, 2008, 'Spending', 'Public Protection', 'Grant Services', 'Salaries', 'Public Protection Fund', 'Grants', Decimal('4099.39'), 1, 105, 14),\n",
       " (515919, 2017, 'Spending', 'Culture & Recreation', 'Law Library', 'Salaries', 'General Fund', 'Operating', Decimal('246239.09'), 1, 161, 14),\n",
       " (235569, 2008, 'Spending', 'Public Protection', 'Grant Services', 'Salaries', 'Gift Fund', 'Grants', Decimal('2385.02'), 1, 230, 14),\n",
       " (235570, 2008, 'Spending', 'Public Protection', 'Grant Services', 'Salaries', 'Public Protection Fund', 'Grants', Decimal('3209.80'), 1, 105, 14),\n",
       " (235571, 2008, 'Spending', 'Public Protection', 'Grant Services', 'Salaries', 'Gift Fund', 'Grants', Decimal('3340.50'), 1, 230, 14),\n",
       " (235572, 2008, 'Spending', 'Public Protection', 'Grant Services', 'Salaries', 'Public Protection Fund', 'Grants', Decimal('625.00'), 1, 105, 14),\n",
       " (229662, 2008, 'Spending', 'Community Health', 'Health At Home', 'Salaries', 'General Fund', 'Operating', Decimal('277858.70'), 1, 161, 14)]"
      ]
     },
     "execution_count": 39,
     "metadata": {},
     "output_type": "execute_result"
    }
   ],
   "source": [
    "%%sql\n",
    "SELECT *\n",
    "FROM fact\n",
    "LIMIT 10;"
   ]
  },
  {
   "cell_type": "markdown",
   "metadata": {},
   "source": [
    "#### End of populating `character` table."
   ]
  },
  {
   "cell_type": "markdown",
   "metadata": {},
   "source": [
    "#### Next, we populate `organization` table."
   ]
  },
  {
   "cell_type": "markdown",
   "metadata": {},
   "source": [
    "To extract organization-related dimension details."
   ]
  },
  {
   "cell_type": "code",
   "execution_count": 40,
   "metadata": {},
   "outputs": [
    {
     "name": "stdout",
     "output_type": "stream",
     "text": [
      "7 rows affected.\n"
     ]
    },
    {
     "data": {
      "text/html": [
       "<table>\n",
       "    <tr>\n",
       "        <th>organization_group</th>\n",
       "    </tr>\n",
       "    <tr>\n",
       "        <td>Human Welfare &amp; Neighborhood Development</td>\n",
       "    </tr>\n",
       "    <tr>\n",
       "        <td>Community Health</td>\n",
       "    </tr>\n",
       "    <tr>\n",
       "        <td>General City Responsibilities</td>\n",
       "    </tr>\n",
       "    <tr>\n",
       "        <td>Public Protection</td>\n",
       "    </tr>\n",
       "    <tr>\n",
       "        <td>Culture &amp; Recreation</td>\n",
       "    </tr>\n",
       "    <tr>\n",
       "        <td>Public Works, Transportation &amp; Commerce</td>\n",
       "    </tr>\n",
       "    <tr>\n",
       "        <td>General Administration &amp; Finance</td>\n",
       "    </tr>\n",
       "</table>"
      ],
      "text/plain": [
       "[('Human Welfare & Neighborhood Development',),\n",
       " ('Community Health',),\n",
       " ('General City Responsibilities',),\n",
       " ('Public Protection',),\n",
       " ('Culture & Recreation',),\n",
       " ('Public Works, Transportation & Commerce',),\n",
       " ('General Administration & Finance',)]"
      ]
     },
     "execution_count": 40,
     "metadata": {},
     "output_type": "execute_result"
    }
   ],
   "source": [
    "%%sql\n",
    "SELECT DISTINCT organization_group\n",
    "FROM fact;"
   ]
  },
  {
   "cell_type": "markdown",
   "metadata": {},
   "source": [
    "To create `organization` table. "
   ]
  },
  {
   "cell_type": "code",
   "execution_count": 41,
   "metadata": {},
   "outputs": [
    {
     "name": "stdout",
     "output_type": "stream",
     "text": [
      "Done.\n",
      "Done.\n"
     ]
    },
    {
     "data": {
      "text/plain": [
       "[]"
      ]
     },
     "execution_count": 41,
     "metadata": {},
     "output_type": "execute_result"
    }
   ],
   "source": [
    "%%sql\n",
    "\n",
    "DROP TABLE IF EXISTS organization;\n",
    "\n",
    "CREATE TABLE organization (\n",
    "    organization_id SERIAL PRIMARY KEY,\n",
    "    organization VARCHAR(50) NOT NULL\n",
    ");"
   ]
  },
  {
   "cell_type": "markdown",
   "metadata": {},
   "source": [
    "To populate the dimension table with unique values of dimension from the dataset."
   ]
  },
  {
   "cell_type": "code",
   "execution_count": 42,
   "metadata": {},
   "outputs": [
    {
     "name": "stdout",
     "output_type": "stream",
     "text": [
      "7 rows affected.\n"
     ]
    },
    {
     "data": {
      "text/plain": [
       "[]"
      ]
     },
     "execution_count": 42,
     "metadata": {},
     "output_type": "execute_result"
    }
   ],
   "source": [
    "%%sql\n",
    "INSERT INTO organization (organization)\n",
    "SELECT DISTINCT organization_group\n",
    "FROM fact;"
   ]
  },
  {
   "cell_type": "markdown",
   "metadata": {},
   "source": [
    "We add a foreign key column to the fact table that references organization dimension table."
   ]
  },
  {
   "cell_type": "code",
   "execution_count": 43,
   "metadata": {},
   "outputs": [
    {
     "name": "stdout",
     "output_type": "stream",
     "text": [
      "Done.\n"
     ]
    },
    {
     "data": {
      "text/plain": [
       "[]"
      ]
     },
     "execution_count": 43,
     "metadata": {},
     "output_type": "execute_result"
    }
   ],
   "source": [
    "%%sql\n",
    "ALTER TABLE fact\n",
    "ADD COLUMN organization_id INTEGER,\n",
    "ADD CONSTRAINT fk_organization_id\n",
    "    FOREIGN KEY (organization_id)\n",
    "    REFERENCES organization (organization_id);"
   ]
  },
  {
   "cell_type": "markdown",
   "metadata": {},
   "source": [
    "To create an index on all columns in `organization` table."
   ]
  },
  {
   "cell_type": "code",
   "execution_count": 44,
   "metadata": {},
   "outputs": [
    {
     "name": "stdout",
     "output_type": "stream",
     "text": [
      "Done.\n",
      "Done.\n"
     ]
    },
    {
     "data": {
      "text/plain": [
       "[]"
      ]
     },
     "execution_count": 44,
     "metadata": {},
     "output_type": "execute_result"
    }
   ],
   "source": [
    "%%sql\n",
    "DROP INDEX IF EXISTS idx_organization;\n",
    "\n",
    "CREATE INDEX idx_organization ON organization (organization);"
   ]
  },
  {
   "cell_type": "code",
   "execution_count": 45,
   "metadata": {},
   "outputs": [
    {
     "name": "stdout",
     "output_type": "stream",
     "text": [
      "289429 rows affected.\n"
     ]
    },
    {
     "data": {
      "text/plain": [
       "[]"
      ]
     },
     "execution_count": 45,
     "metadata": {},
     "output_type": "execute_result"
    }
   ],
   "source": [
    "%%sql\n",
    "UPDATE fact\n",
    "SET organization_id = organization.organization_id\n",
    "FROM organization\n",
    "WHERE fact.organization_group = organization.organization;"
   ]
  },
  {
   "cell_type": "markdown",
   "metadata": {},
   "source": [
    "To see if we successfully populate the foreign key column in fact table."
   ]
  },
  {
   "cell_type": "code",
   "execution_count": 46,
   "metadata": {},
   "outputs": [
    {
     "name": "stdout",
     "output_type": "stream",
     "text": [
      "10 rows affected.\n"
     ]
    },
    {
     "data": {
      "text/html": [
       "<table>\n",
       "    <tr>\n",
       "        <th>fact_id</th>\n",
       "        <th>fiscal_year</th>\n",
       "        <th>revenue_spending</th>\n",
       "        <th>organization_group</th>\n",
       "        <th>program</th>\n",
       "        <th>character</th>\n",
       "        <th>fund</th>\n",
       "        <th>fund_category</th>\n",
       "        <th>amount</th>\n",
       "        <th>rs_id</th>\n",
       "        <th>fund_id</th>\n",
       "        <th>character_id</th>\n",
       "        <th>organization_id</th>\n",
       "    </tr>\n",
       "    <tr>\n",
       "        <td>229662</td>\n",
       "        <td>2008</td>\n",
       "        <td>Spending</td>\n",
       "        <td>Community Health</td>\n",
       "        <td>Health At Home</td>\n",
       "        <td>Salaries</td>\n",
       "        <td>General Fund</td>\n",
       "        <td>Operating</td>\n",
       "        <td>277858.70</td>\n",
       "        <td>1</td>\n",
       "        <td>161</td>\n",
       "        <td>14</td>\n",
       "        <td>2</td>\n",
       "    </tr>\n",
       "    <tr>\n",
       "        <td>229947</td>\n",
       "        <td>2008</td>\n",
       "        <td>Spending</td>\n",
       "        <td>Community Health</td>\n",
       "        <td>Health At Home</td>\n",
       "        <td>Salaries</td>\n",
       "        <td>General Fund</td>\n",
       "        <td>Operating</td>\n",
       "        <td>346845.67</td>\n",
       "        <td>1</td>\n",
       "        <td>161</td>\n",
       "        <td>14</td>\n",
       "        <td>2</td>\n",
       "    </tr>\n",
       "    <tr>\n",
       "        <td>235745</td>\n",
       "        <td>2008</td>\n",
       "        <td>Spending</td>\n",
       "        <td>Public Protection</td>\n",
       "        <td>Investigations</td>\n",
       "        <td>Materials &amp; Supplies</td>\n",
       "        <td>General Fund</td>\n",
       "        <td>Operating</td>\n",
       "        <td>2202.00</td>\n",
       "        <td>1</td>\n",
       "        <td>161</td>\n",
       "        <td>44</td>\n",
       "        <td>4</td>\n",
       "    </tr>\n",
       "    <tr>\n",
       "        <td>236070</td>\n",
       "        <td>2008</td>\n",
       "        <td>Spending</td>\n",
       "        <td>Public Protection</td>\n",
       "        <td>Patrol</td>\n",
       "        <td>Mandatory Fringe Benefits</td>\n",
       "        <td>General Fund</td>\n",
       "        <td>Operating</td>\n",
       "        <td>324.00</td>\n",
       "        <td>1</td>\n",
       "        <td>161</td>\n",
       "        <td>22</td>\n",
       "        <td>4</td>\n",
       "    </tr>\n",
       "    <tr>\n",
       "        <td>236071</td>\n",
       "        <td>2008</td>\n",
       "        <td>Spending</td>\n",
       "        <td>Public Protection</td>\n",
       "        <td>Patrol</td>\n",
       "        <td>Mandatory Fringe Benefits</td>\n",
       "        <td>General Fund</td>\n",
       "        <td>Operating</td>\n",
       "        <td>15701.53</td>\n",
       "        <td>1</td>\n",
       "        <td>161</td>\n",
       "        <td>22</td>\n",
       "        <td>4</td>\n",
       "    </tr>\n",
       "    <tr>\n",
       "        <td>263649</td>\n",
       "        <td>2009</td>\n",
       "        <td>Spending</td>\n",
       "        <td>Public Protection</td>\n",
       "        <td>Patrol</td>\n",
       "        <td>Non Personnel Services</td>\n",
       "        <td>General Fund</td>\n",
       "        <td>Operating</td>\n",
       "        <td>339501.39</td>\n",
       "        <td>1</td>\n",
       "        <td>161</td>\n",
       "        <td>42</td>\n",
       "        <td>4</td>\n",
       "    </tr>\n",
       "    <tr>\n",
       "        <td>263650</td>\n",
       "        <td>2009</td>\n",
       "        <td>Spending</td>\n",
       "        <td>Public Protection</td>\n",
       "        <td>Patrol</td>\n",
       "        <td>Non Personnel Services</td>\n",
       "        <td>General Fund</td>\n",
       "        <td>Operating</td>\n",
       "        <td>688103.90</td>\n",
       "        <td>1</td>\n",
       "        <td>161</td>\n",
       "        <td>42</td>\n",
       "        <td>4</td>\n",
       "    </tr>\n",
       "    <tr>\n",
       "        <td>263651</td>\n",
       "        <td>2009</td>\n",
       "        <td>Spending</td>\n",
       "        <td>Public Protection</td>\n",
       "        <td>Patrol</td>\n",
       "        <td>City Grant Programs</td>\n",
       "        <td>Public Protection Fund</td>\n",
       "        <td>Grants</td>\n",
       "        <td>40000.00</td>\n",
       "        <td>1</td>\n",
       "        <td>105</td>\n",
       "        <td>26</td>\n",
       "        <td>4</td>\n",
       "    </tr>\n",
       "    <tr>\n",
       "        <td>263652</td>\n",
       "        <td>2009</td>\n",
       "        <td>Spending</td>\n",
       "        <td>Public Protection</td>\n",
       "        <td>Patrol</td>\n",
       "        <td>Materials &amp; Supplies</td>\n",
       "        <td>General Fund</td>\n",
       "        <td>Operating</td>\n",
       "        <td>12173.44</td>\n",
       "        <td>1</td>\n",
       "        <td>161</td>\n",
       "        <td>44</td>\n",
       "        <td>4</td>\n",
       "    </tr>\n",
       "    <tr>\n",
       "        <td>263653</td>\n",
       "        <td>2009</td>\n",
       "        <td>Spending</td>\n",
       "        <td>Public Protection</td>\n",
       "        <td>Patrol</td>\n",
       "        <td>Materials &amp; Supplies</td>\n",
       "        <td>General Fund</td>\n",
       "        <td>Operating</td>\n",
       "        <td>3345.05</td>\n",
       "        <td>1</td>\n",
       "        <td>161</td>\n",
       "        <td>44</td>\n",
       "        <td>4</td>\n",
       "    </tr>\n",
       "</table>"
      ],
      "text/plain": [
       "[(229662, 2008, 'Spending', 'Community Health', 'Health At Home', 'Salaries', 'General Fund', 'Operating', Decimal('277858.70'), 1, 161, 14, 2),\n",
       " (229947, 2008, 'Spending', 'Community Health', 'Health At Home', 'Salaries', 'General Fund', 'Operating', Decimal('346845.67'), 1, 161, 14, 2),\n",
       " (235745, 2008, 'Spending', 'Public Protection', 'Investigations', 'Materials & Supplies', 'General Fund', 'Operating', Decimal('2202.00'), 1, 161, 44, 4),\n",
       " (236070, 2008, 'Spending', 'Public Protection', 'Patrol', 'Mandatory Fringe Benefits', 'General Fund', 'Operating', Decimal('324.00'), 1, 161, 22, 4),\n",
       " (236071, 2008, 'Spending', 'Public Protection', 'Patrol', 'Mandatory Fringe Benefits', 'General Fund', 'Operating', Decimal('15701.53'), 1, 161, 22, 4),\n",
       " (263649, 2009, 'Spending', 'Public Protection', 'Patrol', 'Non Personnel Services', 'General Fund', 'Operating', Decimal('339501.39'), 1, 161, 42, 4),\n",
       " (263650, 2009, 'Spending', 'Public Protection', 'Patrol', 'Non Personnel Services', 'General Fund', 'Operating', Decimal('688103.90'), 1, 161, 42, 4),\n",
       " (263651, 2009, 'Spending', 'Public Protection', 'Patrol', 'City Grant Programs', 'Public Protection Fund', 'Grants', Decimal('40000.00'), 1, 105, 26, 4),\n",
       " (263652, 2009, 'Spending', 'Public Protection', 'Patrol', 'Materials & Supplies', 'General Fund', 'Operating', Decimal('12173.44'), 1, 161, 44, 4),\n",
       " (263653, 2009, 'Spending', 'Public Protection', 'Patrol', 'Materials & Supplies', 'General Fund', 'Operating', Decimal('3345.05'), 1, 161, 44, 4)]"
      ]
     },
     "execution_count": 46,
     "metadata": {},
     "output_type": "execute_result"
    }
   ],
   "source": [
    "%%sql\n",
    "SELECT *\n",
    "FROM fact\n",
    "LIMIT 10;"
   ]
  },
  {
   "cell_type": "markdown",
   "metadata": {},
   "source": [
    "#### End of populating `organization` table."
   ]
  },
  {
   "cell_type": "markdown",
   "metadata": {},
   "source": [
    "#### Next, we populate `program` table."
   ]
  },
  {
   "cell_type": "markdown",
   "metadata": {},
   "source": [
    "To extract program-related dimension details."
   ]
  },
  {
   "cell_type": "code",
   "execution_count": 47,
   "metadata": {},
   "outputs": [
    {
     "name": "stdout",
     "output_type": "stream",
     "text": [
      "10 rows affected.\n"
     ]
    },
    {
     "data": {
      "text/html": [
       "<table>\n",
       "    <tr>\n",
       "        <th>program</th>\n",
       "    </tr>\n",
       "    <tr>\n",
       "        <td>Health At Home</td>\n",
       "    </tr>\n",
       "    <tr>\n",
       "        <td>Fire Nert</td>\n",
       "    </tr>\n",
       "    <tr>\n",
       "        <td>Non-Grant Construction Projects</td>\n",
       "    </tr>\n",
       "    <tr>\n",
       "        <td>Fire Prevention</td>\n",
       "    </tr>\n",
       "    <tr>\n",
       "        <td>Refugee Resettlement Program</td>\n",
       "    </tr>\n",
       "    <tr>\n",
       "        <td>Laguna Honda Hosp - Acute Care</td>\n",
       "    </tr>\n",
       "    <tr>\n",
       "        <td>Medi-Cal</td>\n",
       "    </tr>\n",
       "    <tr>\n",
       "        <td>Muni-General Management</td>\n",
       "    </tr>\n",
       "    <tr>\n",
       "        <td>Departmental Administration</td>\n",
       "    </tr>\n",
       "    <tr>\n",
       "        <td>Information Technology</td>\n",
       "    </tr>\n",
       "</table>"
      ],
      "text/plain": [
       "[('Health At Home',),\n",
       " ('Fire Nert',),\n",
       " ('Non-Grant Construction Projects',),\n",
       " ('Fire Prevention',),\n",
       " ('Refugee Resettlement Program',),\n",
       " ('Laguna Honda Hosp - Acute Care',),\n",
       " ('Medi-Cal',),\n",
       " ('Muni-General Management',),\n",
       " ('Departmental Administration',),\n",
       " ('Information Technology',)]"
      ]
     },
     "execution_count": 47,
     "metadata": {},
     "output_type": "execute_result"
    }
   ],
   "source": [
    "%%sql\n",
    "SELECT DISTINCT program\n",
    "FROM fact\n",
    "LIMIT 10;"
   ]
  },
  {
   "cell_type": "markdown",
   "metadata": {},
   "source": [
    "To create `program` table."
   ]
  },
  {
   "cell_type": "code",
   "execution_count": 48,
   "metadata": {},
   "outputs": [
    {
     "name": "stdout",
     "output_type": "stream",
     "text": [
      "Done.\n",
      "Done.\n"
     ]
    },
    {
     "data": {
      "text/plain": [
       "[]"
      ]
     },
     "execution_count": 48,
     "metadata": {},
     "output_type": "execute_result"
    }
   ],
   "source": [
    "%%sql\n",
    "\n",
    "DROP TABLE IF EXISTS program;\n",
    "\n",
    "CREATE TABLE program (\n",
    "    program_id SERIAL PRIMARY KEY,\n",
    "    program VARCHAR(50)\n",
    ");"
   ]
  },
  {
   "cell_type": "markdown",
   "metadata": {},
   "source": [
    "To populate the dimension table with unique values of dimension from the dataset."
   ]
  },
  {
   "cell_type": "code",
   "execution_count": 49,
   "metadata": {},
   "outputs": [
    {
     "name": "stdout",
     "output_type": "stream",
     "text": [
      "443 rows affected.\n"
     ]
    },
    {
     "data": {
      "text/plain": [
       "[]"
      ]
     },
     "execution_count": 49,
     "metadata": {},
     "output_type": "execute_result"
    }
   ],
   "source": [
    "%%sql\n",
    "INSERT INTO program (program)\n",
    "SELECT DISTINCT program \n",
    "FROM fact;"
   ]
  },
  {
   "cell_type": "markdown",
   "metadata": {},
   "source": [
    "We add a foreign key column to the fact table that references program dimension table."
   ]
  },
  {
   "cell_type": "code",
   "execution_count": 50,
   "metadata": {},
   "outputs": [
    {
     "name": "stdout",
     "output_type": "stream",
     "text": [
      "Done.\n"
     ]
    },
    {
     "data": {
      "text/plain": [
       "[]"
      ]
     },
     "execution_count": 50,
     "metadata": {},
     "output_type": "execute_result"
    }
   ],
   "source": [
    "%%sql\n",
    "ALTER TABLE fact\n",
    "ADD COLUMN program_id INTEGER,\n",
    "ADD CONSTRAINT fk_program_id\n",
    "    FOREIGN KEY (program_id)\n",
    "    REFERENCES program (program_id);"
   ]
  },
  {
   "cell_type": "markdown",
   "metadata": {},
   "source": [
    "To create an index on all columns in `program` table."
   ]
  },
  {
   "cell_type": "code",
   "execution_count": 51,
   "metadata": {},
   "outputs": [
    {
     "name": "stdout",
     "output_type": "stream",
     "text": [
      "Done.\n",
      "Done.\n"
     ]
    },
    {
     "data": {
      "text/plain": [
       "[]"
      ]
     },
     "execution_count": 51,
     "metadata": {},
     "output_type": "execute_result"
    }
   ],
   "source": [
    "%%sql\n",
    "DROP INDEX IF EXISTS idx_program;\n",
    "\n",
    "CREATE INDEX idx_program ON program (program);"
   ]
  },
  {
   "cell_type": "code",
   "execution_count": 52,
   "metadata": {},
   "outputs": [
    {
     "name": "stdout",
     "output_type": "stream",
     "text": [
      "289429 rows affected.\n"
     ]
    },
    {
     "data": {
      "text/plain": [
       "[]"
      ]
     },
     "execution_count": 52,
     "metadata": {},
     "output_type": "execute_result"
    }
   ],
   "source": [
    "%%sql\n",
    "UPDATE fact\n",
    "SET program_id = program.program_id\n",
    "FROM program\n",
    "WHERE fact.program = program.program;"
   ]
  },
  {
   "cell_type": "markdown",
   "metadata": {},
   "source": [
    "To see if we successfully populate the foreign key column in fact table."
   ]
  },
  {
   "cell_type": "code",
   "execution_count": 53,
   "metadata": {
    "scrolled": true
   },
   "outputs": [
    {
     "name": "stdout",
     "output_type": "stream",
     "text": [
      "10 rows affected.\n"
     ]
    },
    {
     "data": {
      "text/html": [
       "<table>\n",
       "    <tr>\n",
       "        <th>fact_id</th>\n",
       "        <th>fiscal_year</th>\n",
       "        <th>revenue_spending</th>\n",
       "        <th>organization_group</th>\n",
       "        <th>program</th>\n",
       "        <th>character</th>\n",
       "        <th>fund</th>\n",
       "        <th>fund_category</th>\n",
       "        <th>amount</th>\n",
       "        <th>rs_id</th>\n",
       "        <th>fund_id</th>\n",
       "        <th>character_id</th>\n",
       "        <th>organization_id</th>\n",
       "        <th>program_id</th>\n",
       "    </tr>\n",
       "    <tr>\n",
       "        <td>263653</td>\n",
       "        <td>2009</td>\n",
       "        <td>Spending</td>\n",
       "        <td>Public Protection</td>\n",
       "        <td>Patrol</td>\n",
       "        <td>Materials &amp; Supplies</td>\n",
       "        <td>General Fund</td>\n",
       "        <td>Operating</td>\n",
       "        <td>3345.05</td>\n",
       "        <td>1</td>\n",
       "        <td>161</td>\n",
       "        <td>44</td>\n",
       "        <td>4</td>\n",
       "        <td>319</td>\n",
       "    </tr>\n",
       "    <tr>\n",
       "        <td>263654</td>\n",
       "        <td>2009</td>\n",
       "        <td>Spending</td>\n",
       "        <td>Public Protection</td>\n",
       "        <td>Patrol</td>\n",
       "        <td>Materials &amp; Supplies</td>\n",
       "        <td>General Fund</td>\n",
       "        <td>Operating</td>\n",
       "        <td>62.28</td>\n",
       "        <td>1</td>\n",
       "        <td>161</td>\n",
       "        <td>44</td>\n",
       "        <td>4</td>\n",
       "        <td>319</td>\n",
       "    </tr>\n",
       "    <tr>\n",
       "        <td>263655</td>\n",
       "        <td>2009</td>\n",
       "        <td>Spending</td>\n",
       "        <td>Public Protection</td>\n",
       "        <td>Patrol</td>\n",
       "        <td>Materials &amp; Supplies</td>\n",
       "        <td>General Fund</td>\n",
       "        <td>Operating</td>\n",
       "        <td>138.52</td>\n",
       "        <td>1</td>\n",
       "        <td>161</td>\n",
       "        <td>44</td>\n",
       "        <td>4</td>\n",
       "        <td>319</td>\n",
       "    </tr>\n",
       "    <tr>\n",
       "        <td>263656</td>\n",
       "        <td>2009</td>\n",
       "        <td>Spending</td>\n",
       "        <td>Public Protection</td>\n",
       "        <td>Patrol</td>\n",
       "        <td>Materials &amp; Supplies</td>\n",
       "        <td>General Fund</td>\n",
       "        <td>Operating</td>\n",
       "        <td>40622.33</td>\n",
       "        <td>1</td>\n",
       "        <td>161</td>\n",
       "        <td>44</td>\n",
       "        <td>4</td>\n",
       "        <td>319</td>\n",
       "    </tr>\n",
       "    <tr>\n",
       "        <td>263657</td>\n",
       "        <td>2009</td>\n",
       "        <td>Spending</td>\n",
       "        <td>Public Protection</td>\n",
       "        <td>Patrol</td>\n",
       "        <td>Materials &amp; Supplies</td>\n",
       "        <td>General Fund</td>\n",
       "        <td>Operating</td>\n",
       "        <td>161.11</td>\n",
       "        <td>1</td>\n",
       "        <td>161</td>\n",
       "        <td>44</td>\n",
       "        <td>4</td>\n",
       "        <td>319</td>\n",
       "    </tr>\n",
       "    <tr>\n",
       "        <td>205140</td>\n",
       "        <td>2011</td>\n",
       "        <td>Spending</td>\n",
       "        <td>Public Works, Transportation &amp; Commerce</td>\n",
       "        <td>City Capital Projects</td>\n",
       "        <td>Mandatory Fringe Benefits</td>\n",
       "        <td>Water Operating Fund</td>\n",
       "        <td>Continuing Projects</td>\n",
       "        <td>171.26</td>\n",
       "        <td>1</td>\n",
       "        <td>14</td>\n",
       "        <td>22</td>\n",
       "        <td>6</td>\n",
       "        <td>91</td>\n",
       "    </tr>\n",
       "    <tr>\n",
       "        <td>205141</td>\n",
       "        <td>2011</td>\n",
       "        <td>Spending</td>\n",
       "        <td>Public Works, Transportation &amp; Commerce</td>\n",
       "        <td>City Capital Projects</td>\n",
       "        <td>Mandatory Fringe Benefits</td>\n",
       "        <td>General Fund</td>\n",
       "        <td>Annual Projects</td>\n",
       "        <td>-45627.76</td>\n",
       "        <td>1</td>\n",
       "        <td>175</td>\n",
       "        <td>22</td>\n",
       "        <td>6</td>\n",
       "        <td>91</td>\n",
       "    </tr>\n",
       "    <tr>\n",
       "        <td>205142</td>\n",
       "        <td>2011</td>\n",
       "        <td>Spending</td>\n",
       "        <td>Public Works, Transportation &amp; Commerce</td>\n",
       "        <td>City Capital Projects</td>\n",
       "        <td>Mandatory Fringe Benefits</td>\n",
       "        <td>General Fund</td>\n",
       "        <td>Continuing Projects</td>\n",
       "        <td>-50385.50</td>\n",
       "        <td>1</td>\n",
       "        <td>223</td>\n",
       "        <td>22</td>\n",
       "        <td>6</td>\n",
       "        <td>91</td>\n",
       "    </tr>\n",
       "    <tr>\n",
       "        <td>205147</td>\n",
       "        <td>2011</td>\n",
       "        <td>Spending</td>\n",
       "        <td>Public Works, Transportation &amp; Commerce</td>\n",
       "        <td>City Capital Projects</td>\n",
       "        <td>Mandatory Fringe Benefits</td>\n",
       "        <td>Fire Protection Systems Impvt. Fund</td>\n",
       "        <td>Continuing Projects</td>\n",
       "        <td>583.72</td>\n",
       "        <td>1</td>\n",
       "        <td>132</td>\n",
       "        <td>22</td>\n",
       "        <td>6</td>\n",
       "        <td>91</td>\n",
       "    </tr>\n",
       "    <tr>\n",
       "        <td>230025</td>\n",
       "        <td>2008</td>\n",
       "        <td>Revenue</td>\n",
       "        <td>Public Protection</td>\n",
       "        <td>Patrol</td>\n",
       "        <td>Other Revenues</td>\n",
       "        <td>Gift Fund</td>\n",
       "        <td>Grants</td>\n",
       "        <td>5845.00</td>\n",
       "        <td>2</td>\n",
       "        <td>230</td>\n",
       "        <td>37</td>\n",
       "        <td>4</td>\n",
       "        <td>319</td>\n",
       "    </tr>\n",
       "</table>"
      ],
      "text/plain": [
       "[(263653, 2009, 'Spending', 'Public Protection', 'Patrol', 'Materials & Supplies', 'General Fund', 'Operating', Decimal('3345.05'), 1, 161, 44, 4, 319),\n",
       " (263654, 2009, 'Spending', 'Public Protection', 'Patrol', 'Materials & Supplies', 'General Fund', 'Operating', Decimal('62.28'), 1, 161, 44, 4, 319),\n",
       " (263655, 2009, 'Spending', 'Public Protection', 'Patrol', 'Materials & Supplies', 'General Fund', 'Operating', Decimal('138.52'), 1, 161, 44, 4, 319),\n",
       " (263656, 2009, 'Spending', 'Public Protection', 'Patrol', 'Materials & Supplies', 'General Fund', 'Operating', Decimal('40622.33'), 1, 161, 44, 4, 319),\n",
       " (263657, 2009, 'Spending', 'Public Protection', 'Patrol', 'Materials & Supplies', 'General Fund', 'Operating', Decimal('161.11'), 1, 161, 44, 4, 319),\n",
       " (205140, 2011, 'Spending', 'Public Works, Transportation & Commerce', 'City Capital Projects', 'Mandatory Fringe Benefits', 'Water Operating Fund', 'Continuing Projects', Decimal('171.26'), 1, 14, 22, 6, 91),\n",
       " (205141, 2011, 'Spending', 'Public Works, Transportation & Commerce', 'City Capital Projects', 'Mandatory Fringe Benefits', 'General Fund', 'Annual Projects', Decimal('-45627.76'), 1, 175, 22, 6, 91),\n",
       " (205142, 2011, 'Spending', 'Public Works, Transportation & Commerce', 'City Capital Projects', 'Mandatory Fringe Benefits', 'General Fund', 'Continuing Projects', Decimal('-50385.50'), 1, 223, 22, 6, 91),\n",
       " (205147, 2011, 'Spending', 'Public Works, Transportation & Commerce', 'City Capital Projects', 'Mandatory Fringe Benefits', 'Fire Protection Systems Impvt. Fund', 'Continuing Projects', Decimal('583.72'), 1, 132, 22, 6, 91),\n",
       " (230025, 2008, 'Revenue', 'Public Protection', 'Patrol', 'Other Revenues', 'Gift Fund', 'Grants', Decimal('5845.00'), 2, 230, 37, 4, 319)]"
      ]
     },
     "execution_count": 53,
     "metadata": {},
     "output_type": "execute_result"
    }
   ],
   "source": [
    "%%sql\n",
    "SELECT *\n",
    "FROM fact\n",
    "LIMIT 10;"
   ]
  },
  {
   "cell_type": "markdown",
   "metadata": {},
   "source": [
    "#### End of populating `program` table."
   ]
  },
  {
   "cell_type": "markdown",
   "metadata": {},
   "source": [
    "We can now remove all columns in fact table that are not facts nor foreign keys of dimension tables."
   ]
  },
  {
   "cell_type": "code",
   "execution_count": 54,
   "metadata": {},
   "outputs": [
    {
     "name": "stdout",
     "output_type": "stream",
     "text": [
      "Done.\n"
     ]
    },
    {
     "data": {
      "text/plain": [
       "[]"
      ]
     },
     "execution_count": 54,
     "metadata": {},
     "output_type": "execute_result"
    }
   ],
   "source": [
    "%%sql\n",
    "ALTER TABLE fact\n",
    "DROP COLUMN fact_id,\n",
    "DROP COLUMN revenue_spending,\n",
    "DROP COLUMN organization_group,\n",
    "DROP COLUMN program,\n",
    "DROP COLUMN character,\n",
    "DROP COLUMN fund,\n",
    "DROP COLUMN fund_category;"
   ]
  },
  {
   "cell_type": "code",
   "execution_count": 55,
   "metadata": {},
   "outputs": [
    {
     "name": "stdout",
     "output_type": "stream",
     "text": [
      "10 rows affected.\n"
     ]
    },
    {
     "data": {
      "text/html": [
       "<table>\n",
       "    <tr>\n",
       "        <th>fiscal_year</th>\n",
       "        <th>amount</th>\n",
       "        <th>rs_id</th>\n",
       "        <th>fund_id</th>\n",
       "        <th>character_id</th>\n",
       "        <th>organization_id</th>\n",
       "        <th>program_id</th>\n",
       "    </tr>\n",
       "    <tr>\n",
       "        <td>2008</td>\n",
       "        <td>5845.00</td>\n",
       "        <td>2</td>\n",
       "        <td>230</td>\n",
       "        <td>37</td>\n",
       "        <td>4</td>\n",
       "        <td>319</td>\n",
       "    </tr>\n",
       "    <tr>\n",
       "        <td>2008</td>\n",
       "        <td>864203.78</td>\n",
       "        <td>1</td>\n",
       "        <td>161</td>\n",
       "        <td>14</td>\n",
       "        <td>2</td>\n",
       "        <td>271</td>\n",
       "    </tr>\n",
       "    <tr>\n",
       "        <td>2009</td>\n",
       "        <td>34257.11</td>\n",
       "        <td>1</td>\n",
       "        <td>161</td>\n",
       "        <td>44</td>\n",
       "        <td>4</td>\n",
       "        <td>69</td>\n",
       "    </tr>\n",
       "    <tr>\n",
       "        <td>2008</td>\n",
       "        <td>3850.00</td>\n",
       "        <td>1</td>\n",
       "        <td>193</td>\n",
       "        <td>44</td>\n",
       "        <td>5</td>\n",
       "        <td>32</td>\n",
       "    </tr>\n",
       "    <tr>\n",
       "        <td>2008</td>\n",
       "        <td>8817.17</td>\n",
       "        <td>1</td>\n",
       "        <td>161</td>\n",
       "        <td>44</td>\n",
       "        <td>5</td>\n",
       "        <td>137</td>\n",
       "    </tr>\n",
       "    <tr>\n",
       "        <td>2008</td>\n",
       "        <td>905.92</td>\n",
       "        <td>1</td>\n",
       "        <td>161</td>\n",
       "        <td>42</td>\n",
       "        <td>7</td>\n",
       "        <td>69</td>\n",
       "    </tr>\n",
       "    <tr>\n",
       "        <td>2009</td>\n",
       "        <td>114539.16</td>\n",
       "        <td>1</td>\n",
       "        <td>105</td>\n",
       "        <td>14</td>\n",
       "        <td>4</td>\n",
       "        <td>319</td>\n",
       "    </tr>\n",
       "    <tr>\n",
       "        <td>2009</td>\n",
       "        <td>33690.67</td>\n",
       "        <td>1</td>\n",
       "        <td>53</td>\n",
       "        <td>14</td>\n",
       "        <td>4</td>\n",
       "        <td>319</td>\n",
       "    </tr>\n",
       "    <tr>\n",
       "        <td>2009</td>\n",
       "        <td>14807598.40</td>\n",
       "        <td>1</td>\n",
       "        <td>161</td>\n",
       "        <td>14</td>\n",
       "        <td>4</td>\n",
       "        <td>319</td>\n",
       "    </tr>\n",
       "    <tr>\n",
       "        <td>2009</td>\n",
       "        <td>201492.70</td>\n",
       "        <td>2</td>\n",
       "        <td>161</td>\n",
       "        <td>2</td>\n",
       "        <td>4</td>\n",
       "        <td>230</td>\n",
       "    </tr>\n",
       "</table>"
      ],
      "text/plain": [
       "[(2008, Decimal('5845.00'), 2, 230, 37, 4, 319),\n",
       " (2008, Decimal('864203.78'), 1, 161, 14, 2, 271),\n",
       " (2009, Decimal('34257.11'), 1, 161, 44, 4, 69),\n",
       " (2008, Decimal('3850.00'), 1, 193, 44, 5, 32),\n",
       " (2008, Decimal('8817.17'), 1, 161, 44, 5, 137),\n",
       " (2008, Decimal('905.92'), 1, 161, 42, 7, 69),\n",
       " (2009, Decimal('114539.16'), 1, 105, 14, 4, 319),\n",
       " (2009, Decimal('33690.67'), 1, 53, 14, 4, 319),\n",
       " (2009, Decimal('14807598.40'), 1, 161, 14, 4, 319),\n",
       " (2009, Decimal('201492.70'), 2, 161, 2, 4, 230)]"
      ]
     },
     "execution_count": 55,
     "metadata": {},
     "output_type": "execute_result"
    }
   ],
   "source": [
    "%%sql\n",
    "SELECT *\n",
    "FROM fact\n",
    "LIMIT 10;"
   ]
  },
  {
   "cell_type": "markdown",
   "metadata": {},
   "source": [
    "To check the number of row matches that of the wrangled dataframe. "
   ]
  },
  {
   "cell_type": "code",
   "execution_count": 56,
   "metadata": {},
   "outputs": [
    {
     "name": "stdout",
     "output_type": "stream",
     "text": [
      "1 rows affected.\n"
     ]
    },
    {
     "data": {
      "text/html": [
       "<table>\n",
       "    <tr>\n",
       "        <th>count</th>\n",
       "    </tr>\n",
       "    <tr>\n",
       "        <td>289429</td>\n",
       "    </tr>\n",
       "</table>"
      ],
      "text/plain": [
       "[(289429,)]"
      ]
     },
     "execution_count": 56,
     "metadata": {},
     "output_type": "execute_result"
    }
   ],
   "source": [
    "%%sql\n",
    "SELECT COUNT(*) \n",
    "FROM fact;"
   ]
  },
  {
   "cell_type": "markdown",
   "metadata": {},
   "source": [
    "Thus we are sure that we have the correct fact table."
   ]
  },
  {
   "cell_type": "markdown",
   "metadata": {},
   "source": [
    "## Part 3 - Analysis (35 points)\n",
    "\n",
    "Explore and analyze your data in its wrangled form. Follow through on the\n",
    "themes you identified in Part 1 with queries or scripts that answer the questions\n",
    "you had in mind. Be clear about the answers you discover, discussing them and\n",
    "whether the results match your expectations. Include charts or other visuals\n",
    "that support your analysis. You may use Tableau, ggplot, or other tools we\n",
    "have not covered in class for visualization, but be sure to export images and to\n",
    "include them properly in your writeup.\n",
    "\n",
    "\n",
    "**Answer:**"
   ]
  },
  {
   "cell_type": "markdown",
   "metadata": {},
   "source": [
    "We firstly import some necessary Python modules."
   ]
  },
  {
   "cell_type": "code",
   "execution_count": 57,
   "metadata": {
    "collapsed": true
   },
   "outputs": [],
   "source": [
    "import numpy as np\n",
    "import matplotlib\n",
    "import matplotlib.pyplot as plt\n",
    "%matplotlib inline"
   ]
  },
  {
   "cell_type": "markdown",
   "metadata": {},
   "source": [
    "To see the total amount of revenue each year."
   ]
  },
  {
   "cell_type": "code",
   "execution_count": 58,
   "metadata": {
    "scrolled": true
   },
   "outputs": [
    {
     "name": "stdout",
     "output_type": "stream",
     "text": [
      "10 rows affected.\n"
     ]
    },
    {
     "data": {
      "text/html": [
       "<table>\n",
       "    <tr>\n",
       "        <th>fiscal_year</th>\n",
       "        <th>revenue_amount</th>\n",
       "    </tr>\n",
       "    <tr>\n",
       "        <td>2008</td>\n",
       "        <td>8332812399.38</td>\n",
       "    </tr>\n",
       "    <tr>\n",
       "        <td>2009</td>\n",
       "        <td>9113646360.95</td>\n",
       "    </tr>\n",
       "    <tr>\n",
       "        <td>2010</td>\n",
       "        <td>11041315212.53</td>\n",
       "    </tr>\n",
       "    <tr>\n",
       "        <td>2011</td>\n",
       "        <td>10559553014.76</td>\n",
       "    </tr>\n",
       "    <tr>\n",
       "        <td>2012</td>\n",
       "        <td>11955234445.83</td>\n",
       "    </tr>\n",
       "    <tr>\n",
       "        <td>2013</td>\n",
       "        <td>12272215852.43</td>\n",
       "    </tr>\n",
       "    <tr>\n",
       "        <td>2014</td>\n",
       "        <td>12103140489.91</td>\n",
       "    </tr>\n",
       "    <tr>\n",
       "        <td>2015</td>\n",
       "        <td>12926845611.19</td>\n",
       "    </tr>\n",
       "    <tr>\n",
       "        <td>2016</td>\n",
       "        <td>13790489689.38</td>\n",
       "    </tr>\n",
       "    <tr>\n",
       "        <td>2017</td>\n",
       "        <td>13929932358.14</td>\n",
       "    </tr>\n",
       "</table>"
      ],
      "text/plain": [
       "[(2008, Decimal('8332812399.38')),\n",
       " (2009, Decimal('9113646360.95')),\n",
       " (2010, Decimal('11041315212.53')),\n",
       " (2011, Decimal('10559553014.76')),\n",
       " (2012, Decimal('11955234445.83')),\n",
       " (2013, Decimal('12272215852.43')),\n",
       " (2014, Decimal('12103140489.91')),\n",
       " (2015, Decimal('12926845611.19')),\n",
       " (2016, Decimal('13790489689.38')),\n",
       " (2017, Decimal('13929932358.14'))]"
      ]
     },
     "execution_count": 58,
     "metadata": {},
     "output_type": "execute_result"
    }
   ],
   "source": [
    "%%sql\n",
    "SELECT fact.fiscal_year, sum(fact.amount) as revenue_amount\n",
    "FROM fact\n",
    "JOIN RS\n",
    "ON fact.rs_id=RS.rs_id\n",
    "WHERE RS.type='Revenue'\n",
    "GROUP BY fact.fiscal_year\n",
    "ORDER BY fact.fiscal_year;"
   ]
  },
  {
   "cell_type": "code",
   "execution_count": 59,
   "metadata": {
    "collapsed": true
   },
   "outputs": [],
   "source": [
    "df=_.DataFrame()"
   ]
  },
  {
   "cell_type": "code",
   "execution_count": 60,
   "metadata": {
    "scrolled": true
   },
   "outputs": [
    {
     "data": {
      "text/plain": [
       "<matplotlib.axes._subplots.AxesSubplot at 0x7fbcc0ba0908>"
      ]
     },
     "execution_count": 60,
     "metadata": {},
     "output_type": "execute_result"
    },
    {
     "data": {
      "image/png": "[encoded data removed]",
      "text/plain": [
       "<matplotlib.figure.Figure at 0x7fbcc0b97cc0>"
      ]
     },
     "metadata": {},
     "output_type": "display_data"
    }
   ],
   "source": [
    "df=df.astype(float)\n",
    "df.plot(x='fiscal_year', y='revenue_amount', style='o',linestyle='-')"
   ]
  },
  {
   "cell_type": "markdown",
   "metadata": {},
   "source": [
    "We can clearly see that the revenue underwent an steady increase in last ten years, despite several drops. And the revenue in 2017 (FY2016-2017) is twice as much as that in 2008 (FY2007-2008)."
   ]
  },
  {
   "cell_type": "markdown",
   "metadata": {},
   "source": [
    "Similarly, we want to see the trend of the annual amounts of spending during last ten years."
   ]
  },
  {
   "cell_type": "code",
   "execution_count": 61,
   "metadata": {},
   "outputs": [
    {
     "name": "stdout",
     "output_type": "stream",
     "text": [
      "10 rows affected.\n"
     ]
    },
    {
     "data": {
      "text/html": [
       "<table>\n",
       "    <tr>\n",
       "        <th>fiscal_year</th>\n",
       "        <th>spend_amount</th>\n",
       "    </tr>\n",
       "    <tr>\n",
       "        <td>2008</td>\n",
       "        <td>8320554906.14</td>\n",
       "    </tr>\n",
       "    <tr>\n",
       "        <td>2009</td>\n",
       "        <td>8616502486.82</td>\n",
       "    </tr>\n",
       "    <tr>\n",
       "        <td>2010</td>\n",
       "        <td>9185963929.98</td>\n",
       "    </tr>\n",
       "    <tr>\n",
       "        <td>2011</td>\n",
       "        <td>9738243905.15</td>\n",
       "    </tr>\n",
       "    <tr>\n",
       "        <td>2012</td>\n",
       "        <td>10465877639.99</td>\n",
       "    </tr>\n",
       "    <tr>\n",
       "        <td>2013</td>\n",
       "        <td>11015995873.07</td>\n",
       "    </tr>\n",
       "    <tr>\n",
       "        <td>2014</td>\n",
       "        <td>11712598141.50</td>\n",
       "    </tr>\n",
       "    <tr>\n",
       "        <td>2015</td>\n",
       "        <td>11610478035.03</td>\n",
       "    </tr>\n",
       "    <tr>\n",
       "        <td>2016</td>\n",
       "        <td>12622077979.58</td>\n",
       "    </tr>\n",
       "    <tr>\n",
       "        <td>2017</td>\n",
       "        <td>12617090257.71</td>\n",
       "    </tr>\n",
       "</table>"
      ],
      "text/plain": [
       "[(2008, Decimal('8320554906.14')),\n",
       " (2009, Decimal('8616502486.82')),\n",
       " (2010, Decimal('9185963929.98')),\n",
       " (2011, Decimal('9738243905.15')),\n",
       " (2012, Decimal('10465877639.99')),\n",
       " (2013, Decimal('11015995873.07')),\n",
       " (2014, Decimal('11712598141.50')),\n",
       " (2015, Decimal('11610478035.03')),\n",
       " (2016, Decimal('12622077979.58')),\n",
       " (2017, Decimal('12617090257.71'))]"
      ]
     },
     "execution_count": 61,
     "metadata": {},
     "output_type": "execute_result"
    }
   ],
   "source": [
    "%%sql\n",
    "SELECT fact.fiscal_year, sum(fact.amount) as spend_amount\n",
    "FROM fact\n",
    "JOIN RS\n",
    "ON fact.rs_id=RS.rs_id\n",
    "WHERE RS.type='Spending'\n",
    "GROUP BY fact.fiscal_year\n",
    "ORDER BY fact.fiscal_year;"
   ]
  },
  {
   "cell_type": "code",
   "execution_count": 62,
   "metadata": {
    "collapsed": true
   },
   "outputs": [],
   "source": [
    "df=_.DataFrame()"
   ]
  },
  {
   "cell_type": "code",
   "execution_count": 63,
   "metadata": {
    "scrolled": true
   },
   "outputs": [
    {
     "data": {
      "text/plain": [
       "<matplotlib.axes._subplots.AxesSubplot at 0x7fbcbead2c50>"
      ]
     },
     "execution_count": 63,
     "metadata": {},
     "output_type": "execute_result"
    },
    {
     "data": {
      "image/png": "[encoded data removed]",
      "text/plain": [
       "<matplotlib.figure.Figure at 0x7fbcd1f889e8>"
      ]
     },
     "metadata": {},
     "output_type": "display_data"
    }
   ],
   "source": [
    "df=df.astype(float)\n",
    "df.plot(x='fiscal_year', y='spend_amount', style='o',linestyle='-')"
   ]
  },
  {
   "cell_type": "markdown",
   "metadata": {},
   "source": [
    "Clearly, amounts of spending these years share similar upward trend with that of revenue. It is reasonable that with more revenue, the government then has a looser budget. Also, the amount of spending increases fairly constantly each year. "
   ]
  },
  {
   "cell_type": "markdown",
   "metadata": {},
   "source": [
    "Now, it is time to check the financial status, i.e., surplus or deficit, of the government each year."
   ]
  },
  {
   "cell_type": "code",
   "execution_count": 64,
   "metadata": {
    "scrolled": false
   },
   "outputs": [
    {
     "name": "stdout",
     "output_type": "stream",
     "text": [
      "10 rows affected.\n"
     ]
    },
    {
     "data": {
      "text/html": [
       "<table>\n",
       "    <tr>\n",
       "        <th>fiscal_year</th>\n",
       "        <th>net_revenue</th>\n",
       "    </tr>\n",
       "    <tr>\n",
       "        <td>2008</td>\n",
       "        <td>12257493.24</td>\n",
       "    </tr>\n",
       "    <tr>\n",
       "        <td>2009</td>\n",
       "        <td>497143874.13</td>\n",
       "    </tr>\n",
       "    <tr>\n",
       "        <td>2010</td>\n",
       "        <td>1855351282.55</td>\n",
       "    </tr>\n",
       "    <tr>\n",
       "        <td>2011</td>\n",
       "        <td>821309109.61</td>\n",
       "    </tr>\n",
       "    <tr>\n",
       "        <td>2012</td>\n",
       "        <td>1489356805.84</td>\n",
       "    </tr>\n",
       "    <tr>\n",
       "        <td>2013</td>\n",
       "        <td>1256219979.36</td>\n",
       "    </tr>\n",
       "    <tr>\n",
       "        <td>2014</td>\n",
       "        <td>390542348.41</td>\n",
       "    </tr>\n",
       "    <tr>\n",
       "        <td>2015</td>\n",
       "        <td>1316367576.16</td>\n",
       "    </tr>\n",
       "    <tr>\n",
       "        <td>2016</td>\n",
       "        <td>1168411709.80</td>\n",
       "    </tr>\n",
       "    <tr>\n",
       "        <td>2017</td>\n",
       "        <td>1312842100.43</td>\n",
       "    </tr>\n",
       "</table>"
      ],
      "text/plain": [
       "[(2008, Decimal('12257493.24')),\n",
       " (2009, Decimal('497143874.13')),\n",
       " (2010, Decimal('1855351282.55')),\n",
       " (2011, Decimal('821309109.61')),\n",
       " (2012, Decimal('1489356805.84')),\n",
       " (2013, Decimal('1256219979.36')),\n",
       " (2014, Decimal('390542348.41')),\n",
       " (2015, Decimal('1316367576.16')),\n",
       " (2016, Decimal('1168411709.80')),\n",
       " (2017, Decimal('1312842100.43'))]"
      ]
     },
     "execution_count": 64,
     "metadata": {},
     "output_type": "execute_result"
    }
   ],
   "source": [
    "%%sql\n",
    "SELECT Revenue.fiscal_year, (Revenue.revenue_amount - Spending.spend_amount) as net_revenue\n",
    "FROM (SELECT fact.fiscal_year as fiscal_year, sum(fact.amount) as revenue_amount\n",
    "      FROM fact\n",
    "      JOIN RS\n",
    "      ON fact.rs_id=RS.rs_id\n",
    "      WHERE RS.type='Revenue'\n",
    "      GROUP BY fact.fiscal_year\n",
    "      ORDER BY fact.fiscal_year) as Revenue\n",
    "JOIN (SELECT fact.fiscal_year as fiscal_year, sum(fact.amount) as spend_amount\n",
    "      FROM fact\n",
    "      JOIN RS\n",
    "      ON fact.rs_id=RS.rs_id\n",
    "      WHERE RS.type='Spending'\n",
    "      GROUP BY fact.fiscal_year\n",
    "      ORDER BY fact.fiscal_year) as Spending\n",
    "ON Revenue.fiscal_year=Spending.fiscal_year;"
   ]
  },
  {
   "cell_type": "code",
   "execution_count": 65,
   "metadata": {
    "collapsed": true
   },
   "outputs": [],
   "source": [
    "df=_.DataFrame()"
   ]
  },
  {
   "cell_type": "code",
   "execution_count": 66,
   "metadata": {
    "scrolled": true
   },
   "outputs": [
    {
     "data": {
      "text/plain": [
       "<matplotlib.axes._subplots.AxesSubplot at 0x7fbcbeab71d0>"
      ]
     },
     "execution_count": 66,
     "metadata": {},
     "output_type": "execute_result"
    },
    {
     "data": {
      "image/png": "[encoded data removed]",
      "text/plain": [
       "<matplotlib.figure.Figure at 0x7fbcbeb418d0>"
      ]
     },
     "metadata": {},
     "output_type": "display_data"
    }
   ],
   "source": [
    "df=df.astype(float)\n",
    "df.plot(x='fiscal_year', y='net_revenue', style='o',linestyle='-')"
   ]
  },
  {
   "cell_type": "markdown",
   "metadata": {},
   "source": [
    "From the query result and the plot, we see that in the past ten years, the annual net revenues of the government are all greater than zero, which means there does exist surplus each year in San Francisco governmental financial system."
   ]
  },
  {
   "cell_type": "markdown",
   "metadata": {},
   "source": [
    "**Next, we want to figure out which organizations manage the largest amounts of funds. Here we focus on the data in the last three years.**"
   ]
  },
  {
   "cell_type": "code",
   "execution_count": 67,
   "metadata": {
    "scrolled": true
   },
   "outputs": [
    {
     "name": "stdout",
     "output_type": "stream",
     "text": [
      "21 rows affected.\n"
     ]
    },
    {
     "data": {
      "text/html": [
       "<table>\n",
       "    <tr>\n",
       "        <th>fiscal_year</th>\n",
       "        <th>organization</th>\n",
       "        <th>revenue_total</th>\n",
       "    </tr>\n",
       "    <tr>\n",
       "        <td>2015</td>\n",
       "        <td>Culture &amp; Recreation</td>\n",
       "        <td>344343515.77</td>\n",
       "    </tr>\n",
       "    <tr>\n",
       "        <td>2015</td>\n",
       "        <td>Human Welfare &amp; Neighborhood Development</td>\n",
       "        <td>1406510829.14</td>\n",
       "    </tr>\n",
       "    <tr>\n",
       "        <td>2015</td>\n",
       "        <td>Public Works, Transportation &amp; Commerce</td>\n",
       "        <td>3868374791.90</td>\n",
       "    </tr>\n",
       "    <tr>\n",
       "        <td>2015</td>\n",
       "        <td>Community Health</td>\n",
       "        <td>1596564113.56</td>\n",
       "    </tr>\n",
       "    <tr>\n",
       "        <td>2015</td>\n",
       "        <td>General Administration &amp; Finance</td>\n",
       "        <td>2788413937.99</td>\n",
       "    </tr>\n",
       "    <tr>\n",
       "        <td>2015</td>\n",
       "        <td>Public Protection</td>\n",
       "        <td>297863581.19</td>\n",
       "    </tr>\n",
       "    <tr>\n",
       "        <td>2015</td>\n",
       "        <td>General City Responsibilities</td>\n",
       "        <td>2624774841.64</td>\n",
       "    </tr>\n",
       "    <tr>\n",
       "        <td>2016</td>\n",
       "        <td>General City Responsibilities</td>\n",
       "        <td>2680604132.05</td>\n",
       "    </tr>\n",
       "    <tr>\n",
       "        <td>2016</td>\n",
       "        <td>Public Protection</td>\n",
       "        <td>326281272.97</td>\n",
       "    </tr>\n",
       "    <tr>\n",
       "        <td>2016</td>\n",
       "        <td>Human Welfare &amp; Neighborhood Development</td>\n",
       "        <td>1619388921.67</td>\n",
       "    </tr>\n",
       "    <tr>\n",
       "        <td>2016</td>\n",
       "        <td>Culture &amp; Recreation</td>\n",
       "        <td>435425405.62</td>\n",
       "    </tr>\n",
       "    <tr>\n",
       "        <td>2016</td>\n",
       "        <td>General Administration &amp; Finance</td>\n",
       "        <td>2707016995.96</td>\n",
       "    </tr>\n",
       "    <tr>\n",
       "        <td>2016</td>\n",
       "        <td>Community Health</td>\n",
       "        <td>1343545810.47</td>\n",
       "    </tr>\n",
       "    <tr>\n",
       "        <td>2016</td>\n",
       "        <td>Public Works, Transportation &amp; Commerce</td>\n",
       "        <td>4678227150.64</td>\n",
       "    </tr>\n",
       "    <tr>\n",
       "        <td>2017</td>\n",
       "        <td>General City Responsibilities</td>\n",
       "        <td>3125981922.13</td>\n",
       "    </tr>\n",
       "    <tr>\n",
       "        <td>2017</td>\n",
       "        <td>Culture &amp; Recreation</td>\n",
       "        <td>288539671.91</td>\n",
       "    </tr>\n",
       "    <tr>\n",
       "        <td>2017</td>\n",
       "        <td>Community Health</td>\n",
       "        <td>1612080473.56</td>\n",
       "    </tr>\n",
       "    <tr>\n",
       "        <td>2017</td>\n",
       "        <td>Public Protection</td>\n",
       "        <td>318032446.84</td>\n",
       "    </tr>\n",
       "    <tr>\n",
       "        <td>2017</td>\n",
       "        <td>Human Welfare &amp; Neighborhood Development</td>\n",
       "        <td>1704999317.70</td>\n",
       "    </tr>\n",
       "    <tr>\n",
       "        <td>2017</td>\n",
       "        <td>Public Works, Transportation &amp; Commerce</td>\n",
       "        <td>4170321886.52</td>\n",
       "    </tr>\n",
       "    <tr>\n",
       "        <td>2017</td>\n",
       "        <td>General Administration &amp; Finance</td>\n",
       "        <td>2709976639.48</td>\n",
       "    </tr>\n",
       "</table>"
      ],
      "text/plain": [
       "[(2015, 'Culture & Recreation', Decimal('344343515.77')),\n",
       " (2015, 'Human Welfare & Neighborhood Development', Decimal('1406510829.14')),\n",
       " (2015, 'Public Works, Transportation & Commerce', Decimal('3868374791.90')),\n",
       " (2015, 'Community Health', Decimal('1596564113.56')),\n",
       " (2015, 'General Administration & Finance', Decimal('2788413937.99')),\n",
       " (2015, 'Public Protection', Decimal('297863581.19')),\n",
       " (2015, 'General City Responsibilities', Decimal('2624774841.64')),\n",
       " (2016, 'General City Responsibilities', Decimal('2680604132.05')),\n",
       " (2016, 'Public Protection', Decimal('326281272.97')),\n",
       " (2016, 'Human Welfare & Neighborhood Development', Decimal('1619388921.67')),\n",
       " (2016, 'Culture & Recreation', Decimal('435425405.62')),\n",
       " (2016, 'General Administration & Finance', Decimal('2707016995.96')),\n",
       " (2016, 'Community Health', Decimal('1343545810.47')),\n",
       " (2016, 'Public Works, Transportation & Commerce', Decimal('4678227150.64')),\n",
       " (2017, 'General City Responsibilities', Decimal('3125981922.13')),\n",
       " (2017, 'Culture & Recreation', Decimal('288539671.91')),\n",
       " (2017, 'Community Health', Decimal('1612080473.56')),\n",
       " (2017, 'Public Protection', Decimal('318032446.84')),\n",
       " (2017, 'Human Welfare & Neighborhood Development', Decimal('1704999317.70')),\n",
       " (2017, 'Public Works, Transportation & Commerce', Decimal('4170321886.52')),\n",
       " (2017, 'General Administration & Finance', Decimal('2709976639.48'))]"
      ]
     },
     "execution_count": 67,
     "metadata": {},
     "output_type": "execute_result"
    }
   ],
   "source": [
    "%%sql\n",
    "WITH orgrev_2015 AS (\n",
    "SELECT fact.fiscal_year,organization.organization,sum(fact.amount) as revenue_total\n",
    "FROM fact \n",
    "JOIN organization ON organization.organization_id=fact.organization_id\n",
    "JOIN RS ON fact.rs_id=RS.rs_id\n",
    "WHERE RS.type='Revenue' and fact.fiscal_year='2015'\n",
    "GROUP BY fact.fiscal_year,organization.organization\n",
    "ORDER BY revenue_total DESC),\n",
    "orgrev_2016 AS (\n",
    "SELECT fact.fiscal_year,organization.organization,sum(fact.amount) as revenue_total\n",
    "FROM fact \n",
    "JOIN organization ON organization.organization_id=fact.organization_id\n",
    "JOIN RS ON fact.rs_id=RS.rs_id\n",
    "WHERE RS.type='Revenue' and fact.fiscal_year='2016'\n",
    "GROUP BY fact.fiscal_year,organization.organization\n",
    "ORDER BY revenue_total DESC),\n",
    "orgrev_2017 AS (\n",
    "SELECT fact.fiscal_year,organization.organization,sum(fact.amount) as revenue_total\n",
    "FROM fact \n",
    "JOIN organization ON organization.organization_id=fact.organization_id\n",
    "JOIN RS ON fact.rs_id=RS.rs_id\n",
    "WHERE RS.type='Revenue' and fact.fiscal_year='2017'\n",
    "GROUP BY fact.fiscal_year,organization.organization\n",
    "ORDER BY revenue_total DESC\n",
    "), total_orgrev AS(\n",
    "SELECT*FROM orgrev_2015\n",
    "UNION\n",
    "SELECT*FROM orgrev_2016\n",
    "UNION\n",
    "SELECT*FROM orgrev_2017)\n",
    "SELECT*FROM total_orgrev\n",
    "ORDER BY fiscal_year;"
   ]
  },
  {
   "cell_type": "markdown",
   "metadata": {},
   "source": [
    "We try to demonstrate the results vividly in Tableau, as shown below."
   ]
  },
  {
   "cell_type": "code",
   "execution_count": 68,
   "metadata": {
    "scrolled": false
   },
   "outputs": [
    {
     "data": {
      "text/html": [
       "<img src=\"https://s3.amazonaws.com/dmfa-2017fall/Pro4--rev.jpeg\"/>"
      ],
      "text/plain": [
       "<IPython.core.display.Image object>"
      ]
     },
     "execution_count": 68,
     "metadata": {},
     "output_type": "execute_result"
    }
   ],
   "source": [
    "Image(url='https://s3.amazonaws.com/dmfa-2017fall/Pro4--rev.jpeg')"
   ]
  },
  {
   "cell_type": "markdown",
   "metadata": {},
   "source": [
    "Clearly, 'Public Works, Transportation & Commerce' Group has the largest revenue across these years, followed by 'General City Responsibilities' and 'General Administration & Finance'. The result makes sense to us since transportation and commerce usually generate many income for the government, so do the other two organizations. Besides, it is reasonable that the revenue from Public Works, Transportation & Commerce decreased after 2016 taking into consideration that 'Uber', 'lyft' and others became popular these year."
   ]
  },
  {
   "cell_type": "code",
   "execution_count": 69,
   "metadata": {},
   "outputs": [
    {
     "name": "stdout",
     "output_type": "stream",
     "text": [
      "21 rows affected.\n"
     ]
    },
    {
     "data": {
      "text/html": [
       "<table>\n",
       "    <tr>\n",
       "        <th>fiscal_year</th>\n",
       "        <th>organization</th>\n",
       "        <th>spend_total</th>\n",
       "    </tr>\n",
       "    <tr>\n",
       "        <td>2015</td>\n",
       "        <td>General Administration &amp; Finance</td>\n",
       "        <td>2394365501.18</td>\n",
       "    </tr>\n",
       "    <tr>\n",
       "        <td>2015</td>\n",
       "        <td>Community Health</td>\n",
       "        <td>1794130104.53</td>\n",
       "    </tr>\n",
       "    <tr>\n",
       "        <td>2015</td>\n",
       "        <td>Human Welfare &amp; Neighborhood Development</td>\n",
       "        <td>1202185527.41</td>\n",
       "    </tr>\n",
       "    <tr>\n",
       "        <td>2015</td>\n",
       "        <td>General City Responsibilities</td>\n",
       "        <td>391283695.69</td>\n",
       "    </tr>\n",
       "    <tr>\n",
       "        <td>2015</td>\n",
       "        <td>Public Protection</td>\n",
       "        <td>1333975773.08</td>\n",
       "    </tr>\n",
       "    <tr>\n",
       "        <td>2015</td>\n",
       "        <td>Culture &amp; Recreation</td>\n",
       "        <td>313605424.35</td>\n",
       "    </tr>\n",
       "    <tr>\n",
       "        <td>2015</td>\n",
       "        <td>Public Works, Transportation &amp; Commerce</td>\n",
       "        <td>4180932008.79</td>\n",
       "    </tr>\n",
       "    <tr>\n",
       "        <td>2016</td>\n",
       "        <td>Public Protection</td>\n",
       "        <td>1398936149.05</td>\n",
       "    </tr>\n",
       "    <tr>\n",
       "        <td>2016</td>\n",
       "        <td>Human Welfare &amp; Neighborhood Development</td>\n",
       "        <td>1317163525.61</td>\n",
       "    </tr>\n",
       "    <tr>\n",
       "        <td>2016</td>\n",
       "        <td>Culture &amp; Recreation</td>\n",
       "        <td>466050522.30</td>\n",
       "    </tr>\n",
       "    <tr>\n",
       "        <td>2016</td>\n",
       "        <td>Public Works, Transportation &amp; Commerce</td>\n",
       "        <td>4433689710.24</td>\n",
       "    </tr>\n",
       "    <tr>\n",
       "        <td>2016</td>\n",
       "        <td>General City Responsibilities</td>\n",
       "        <td>414299839.67</td>\n",
       "    </tr>\n",
       "    <tr>\n",
       "        <td>2016</td>\n",
       "        <td>Community Health</td>\n",
       "        <td>1909322828.04</td>\n",
       "    </tr>\n",
       "    <tr>\n",
       "        <td>2016</td>\n",
       "        <td>General Administration &amp; Finance</td>\n",
       "        <td>2682615404.67</td>\n",
       "    </tr>\n",
       "    <tr>\n",
       "        <td>2017</td>\n",
       "        <td>Community Health</td>\n",
       "        <td>1949161181.95</td>\n",
       "    </tr>\n",
       "    <tr>\n",
       "        <td>2017</td>\n",
       "        <td>Human Welfare &amp; Neighborhood Development</td>\n",
       "        <td>1423495149.70</td>\n",
       "    </tr>\n",
       "    <tr>\n",
       "        <td>2017</td>\n",
       "        <td>Public Works, Transportation &amp; Commerce</td>\n",
       "        <td>4118237607.92</td>\n",
       "    </tr>\n",
       "    <tr>\n",
       "        <td>2017</td>\n",
       "        <td>General City Responsibilities</td>\n",
       "        <td>428039305.04</td>\n",
       "    </tr>\n",
       "    <tr>\n",
       "        <td>2017</td>\n",
       "        <td>Public Protection</td>\n",
       "        <td>1461444672.83</td>\n",
       "    </tr>\n",
       "    <tr>\n",
       "        <td>2017</td>\n",
       "        <td>Culture &amp; Recreation</td>\n",
       "        <td>360018275.92</td>\n",
       "    </tr>\n",
       "    <tr>\n",
       "        <td>2017</td>\n",
       "        <td>General Administration &amp; Finance</td>\n",
       "        <td>2876694064.35</td>\n",
       "    </tr>\n",
       "</table>"
      ],
      "text/plain": [
       "[(2015, 'General Administration & Finance', Decimal('2394365501.18')),\n",
       " (2015, 'Community Health', Decimal('1794130104.53')),\n",
       " (2015, 'Human Welfare & Neighborhood Development', Decimal('1202185527.41')),\n",
       " (2015, 'General City Responsibilities', Decimal('391283695.69')),\n",
       " (2015, 'Public Protection', Decimal('1333975773.08')),\n",
       " (2015, 'Culture & Recreation', Decimal('313605424.35')),\n",
       " (2015, 'Public Works, Transportation & Commerce', Decimal('4180932008.79')),\n",
       " (2016, 'Public Protection', Decimal('1398936149.05')),\n",
       " (2016, 'Human Welfare & Neighborhood Development', Decimal('1317163525.61')),\n",
       " (2016, 'Culture & Recreation', Decimal('466050522.30')),\n",
       " (2016, 'Public Works, Transportation & Commerce', Decimal('4433689710.24')),\n",
       " (2016, 'General City Responsibilities', Decimal('414299839.67')),\n",
       " (2016, 'Community Health', Decimal('1909322828.04')),\n",
       " (2016, 'General Administration & Finance', Decimal('2682615404.67')),\n",
       " (2017, 'Community Health', Decimal('1949161181.95')),\n",
       " (2017, 'Human Welfare & Neighborhood Development', Decimal('1423495149.70')),\n",
       " (2017, 'Public Works, Transportation & Commerce', Decimal('4118237607.92')),\n",
       " (2017, 'General City Responsibilities', Decimal('428039305.04')),\n",
       " (2017, 'Public Protection', Decimal('1461444672.83')),\n",
       " (2017, 'Culture & Recreation', Decimal('360018275.92')),\n",
       " (2017, 'General Administration & Finance', Decimal('2876694064.35'))]"
      ]
     },
     "execution_count": 69,
     "metadata": {},
     "output_type": "execute_result"
    }
   ],
   "source": [
    "%%sql\n",
    "WITH orgspend_2015 AS (\n",
    "SELECT fact.fiscal_year,organization.organization,sum(fact.amount) as spend_total\n",
    "FROM fact \n",
    "JOIN organization ON organization.organization_id=fact.organization_id\n",
    "JOIN RS ON fact.rs_id=RS.rs_id\n",
    "WHERE RS.type='Spending' and fact.fiscal_year='2015'\n",
    "GROUP BY fact.fiscal_year,organization.organization\n",
    "ORDER BY spend_total DESC),\n",
    "orgspend_2016 AS (\n",
    "SELECT fact.fiscal_year,organization.organization,sum(fact.amount) as spend_total\n",
    "FROM fact \n",
    "JOIN organization ON organization.organization_id=fact.organization_id\n",
    "JOIN RS ON fact.rs_id=RS.rs_id\n",
    "WHERE RS.type='Spending' and fact.fiscal_year='2016'\n",
    "GROUP BY fact.fiscal_year,organization.organization\n",
    "ORDER BY spend_total DESC),\n",
    "orgspend_2017 AS (\n",
    "SELECT fact.fiscal_year,organization.organization,sum(fact.amount) as spend_total\n",
    "FROM fact \n",
    "JOIN organization ON organization.organization_id=fact.organization_id\n",
    "JOIN RS ON fact.rs_id=RS.rs_id\n",
    "WHERE RS.type='Spending' and fact.fiscal_year='2017'\n",
    "GROUP BY fact.fiscal_year,organization.organization\n",
    "ORDER BY spend_total DESC\n",
    "), total_orgspend AS(\n",
    "SELECT*FROM orgspend_2015\n",
    "UNION\n",
    "SELECT*FROM orgspend_2016\n",
    "UNION\n",
    "SELECT*FROM orgspend_2017)\n",
    "SELECT*FROM total_orgspend\n",
    "ORDER BY fiscal_year;"
   ]
  },
  {
   "cell_type": "code",
   "execution_count": 70,
   "metadata": {
    "scrolled": false
   },
   "outputs": [
    {
     "data": {
      "text/html": [
       "<img src=\"https://s3.amazonaws.com/dmfa-2017fall/Pro4--sp.jpeg\"/>"
      ],
      "text/plain": [
       "<IPython.core.display.Image object>"
      ]
     },
     "execution_count": 70,
     "metadata": {},
     "output_type": "execute_result"
    }
   ],
   "source": [
    "Image(url='https://s3.amazonaws.com/dmfa-2017fall/Pro4--sp.jpeg')"
   ]
  },
  {
   "cell_type": "markdown",
   "metadata": {},
   "source": [
    "For governmental spending, we see that 'Public Works, Transportation & Commerce' group obviously takes up the most in the three years, followed by 'General Administration & Finance' and 'Community Health'. Compare to the revenue graph, we see that even though 'Public Works, Transportation & Commerce' generates the most revenue for the government, it is also the department that takes up the most spending. On the contrast, 'General City Responsibilities' generates the second most revenue for the government, but it is one of the lowest spending organizations among all these organizations. We also found that 'Culture & Recreation' generates the least revenue and also takes up least spending among all organizations."
   ]
  },
  {
   "cell_type": "markdown",
   "metadata": {},
   "source": [
    "**Next, it is also one of our aims to get some ideas which funds are involved most.**"
   ]
  },
  {
   "cell_type": "code",
   "execution_count": 71,
   "metadata": {},
   "outputs": [
    {
     "name": "stdout",
     "output_type": "stream",
     "text": [
      "5 rows affected.\n"
     ]
    },
    {
     "data": {
      "text/html": [
       "<table>\n",
       "    <tr>\n",
       "        <th>fund_category</th>\n",
       "        <th>revenue_amount</th>\n",
       "    </tr>\n",
       "    <tr>\n",
       "        <td>Operating</td>\n",
       "        <td>87976140752.29</td>\n",
       "    </tr>\n",
       "    <tr>\n",
       "        <td>Continuing Projects</td>\n",
       "        <td>18444365560.97</td>\n",
       "    </tr>\n",
       "    <tr>\n",
       "        <td>Grants</td>\n",
       "        <td>5470413115.17</td>\n",
       "    </tr>\n",
       "    <tr>\n",
       "        <td>Annual Projects</td>\n",
       "        <td>3937054372.14</td>\n",
       "    </tr>\n",
       "    <tr>\n",
       "        <td>Work Orders/Overhead</td>\n",
       "        <td>197211633.93</td>\n",
       "    </tr>\n",
       "</table>"
      ],
      "text/plain": [
       "[('Operating', Decimal('87976140752.29')),\n",
       " ('Continuing Projects', Decimal('18444365560.97')),\n",
       " ('Grants', Decimal('5470413115.17')),\n",
       " ('Annual Projects', Decimal('3937054372.14')),\n",
       " ('Work Orders/Overhead', Decimal('197211633.93'))]"
      ]
     },
     "execution_count": 71,
     "metadata": {},
     "output_type": "execute_result"
    }
   ],
   "source": [
    "%%sql\n",
    "SELECT DISTINCT fund.fund_category, sum(fact.amount) as revenue_amount\n",
    "FROM fact,fund,RS\n",
    "WHERE fact.fund_id = fund.fund_id and fact.RS_id=RS.RS_id and RS.type='Revenue'\n",
    "GROUP BY fund.fund_category\n",
    "ORDER BY revenue_amount DESC;"
   ]
  },
  {
   "cell_type": "code",
   "execution_count": 72,
   "metadata": {
    "scrolled": true
   },
   "outputs": [
    {
     "name": "stdout",
     "output_type": "stream",
     "text": [
      "5 rows affected.\n"
     ]
    },
    {
     "data": {
      "text/html": [
       "<table>\n",
       "    <tr>\n",
       "        <th>fund_category</th>\n",
       "        <th>spend_amount</th>\n",
       "    </tr>\n",
       "    <tr>\n",
       "        <td>Operating</td>\n",
       "        <td>80670230679.69</td>\n",
       "    </tr>\n",
       "    <tr>\n",
       "        <td>Continuing Projects</td>\n",
       "        <td>15991726084.62</td>\n",
       "    </tr>\n",
       "    <tr>\n",
       "        <td>Grants</td>\n",
       "        <td>5464091733.00</td>\n",
       "    </tr>\n",
       "    <tr>\n",
       "        <td>Annual Projects</td>\n",
       "        <td>3582620814.46</td>\n",
       "    </tr>\n",
       "    <tr>\n",
       "        <td>Work Orders/Overhead</td>\n",
       "        <td>196713843.20</td>\n",
       "    </tr>\n",
       "</table>"
      ],
      "text/plain": [
       "[('Operating', Decimal('80670230679.69')),\n",
       " ('Continuing Projects', Decimal('15991726084.62')),\n",
       " ('Grants', Decimal('5464091733.00')),\n",
       " ('Annual Projects', Decimal('3582620814.46')),\n",
       " ('Work Orders/Overhead', Decimal('196713843.20'))]"
      ]
     },
     "execution_count": 72,
     "metadata": {},
     "output_type": "execute_result"
    }
   ],
   "source": [
    "%%sql\n",
    "SELECT DISTINCT fund.fund_category, sum(fact.amount) as spend_amount\n",
    "FROM fact,fund,RS\n",
    "WHERE fact.fund_id = fund.fund_id and fact.RS_id=RS.RS_id and RS.type='Spending'\n",
    "GROUP BY fund.fund_category\n",
    "ORDER BY spend_amount DESC;"
   ]
  },
  {
   "cell_type": "markdown",
   "metadata": {},
   "source": [
    "Here we still use Tableau to achieve visualization, and this time we create trends in the past ten years."
   ]
  },
  {
   "cell_type": "code",
   "execution_count": 73,
   "metadata": {
    "scrolled": false
   },
   "outputs": [
    {
     "data": {
      "text/html": [
       "<img src=\"https://s3.amazonaws.com/dmfa-2017fall/Project+4_trends.jpg\"/>"
      ],
      "text/plain": [
       "<IPython.core.display.Image object>"
      ]
     },
     "execution_count": 73,
     "metadata": {},
     "output_type": "execute_result"
    }
   ],
   "source": [
    "Image(url='https://s3.amazonaws.com/dmfa-2017fall/Project+4_trends.jpg')"
   ]
  },
  {
   "cell_type": "markdown",
   "metadata": {},
   "source": [
    "From the bar charts above, 'Operating' fund is involved most of the times during past ten years and rises along with the total funds' increases. It is reasonable since huge amount of fund is needed to keep the hold government running. The next largest fund is located to 'Continuing Projects'. The government usually launches huge project that continue for several years and takes up huge amount of money. It makes sense that this type of fund cost the government a lot of money. At the same time, many of such project also generate a mass of return for the goverment. From this graph, we barely see 'Work Orders/Overhead' fund get involved. Since we are not familiar with this fund type, our guess is that it is not a major fund for the government. "
   ]
  },
  {
   "cell_type": "markdown",
   "metadata": {},
   "source": [
    "**Finally, we want to know the source and usage of the funds.**"
   ]
  },
  {
   "cell_type": "code",
   "execution_count": 74,
   "metadata": {},
   "outputs": [
    {
     "name": "stdout",
     "output_type": "stream",
     "text": [
      "10 rows affected.\n"
     ]
    },
    {
     "data": {
      "text/html": [
       "<table>\n",
       "    <tr>\n",
       "        <th>program</th>\n",
       "        <th>revenue_amount</th>\n",
       "    </tr>\n",
       "    <tr>\n",
       "        <td>General Fund Unallocated</td>\n",
       "        <td>27134439883.05</td>\n",
       "    </tr>\n",
       "    <tr>\n",
       "        <td>No Program Defined</td>\n",
       "        <td>17187977134.48</td>\n",
       "    </tr>\n",
       "    <tr>\n",
       "        <td>Administration</td>\n",
       "        <td>16515350758.04</td>\n",
       "    </tr>\n",
       "    <tr>\n",
       "        <td>Revenue, Transfers &amp; Reserves</td>\n",
       "        <td>7697988486.55</td>\n",
       "    </tr>\n",
       "    <tr>\n",
       "        <td>SFGH - Acute Care - Hospital</td>\n",
       "        <td>7304818043.88</td>\n",
       "    </tr>\n",
       "    <tr>\n",
       "        <td>Administration, Business</td>\n",
       "        <td>4365958181.91</td>\n",
       "    </tr>\n",
       "    <tr>\n",
       "        <td>Community Health/Support Service</td>\n",
       "        <td>4291756893.49</td>\n",
       "    </tr>\n",
       "    <tr>\n",
       "        <td>Administrative Support</td>\n",
       "        <td>3813664939.26</td>\n",
       "    </tr>\n",
       "    <tr>\n",
       "        <td>Health Service System</td>\n",
       "        <td>2911649762.99</td>\n",
       "    </tr>\n",
       "    <tr>\n",
       "        <td>Capital Programs &amp; Construction</td>\n",
       "        <td>2608338169.04</td>\n",
       "    </tr>\n",
       "</table>"
      ],
      "text/plain": [
       "[('General Fund Unallocated', Decimal('27134439883.05')),\n",
       " ('No Program Defined', Decimal('17187977134.48')),\n",
       " ('Administration', Decimal('16515350758.04')),\n",
       " ('Revenue, Transfers & Reserves', Decimal('7697988486.55')),\n",
       " ('SFGH - Acute Care - Hospital', Decimal('7304818043.88')),\n",
       " ('Administration, Business', Decimal('4365958181.91')),\n",
       " ('Community Health/Support Service', Decimal('4291756893.49')),\n",
       " ('Administrative Support', Decimal('3813664939.26')),\n",
       " ('Health Service System', Decimal('2911649762.99')),\n",
       " ('Capital Programs & Construction', Decimal('2608338169.04'))]"
      ]
     },
     "execution_count": 74,
     "metadata": {},
     "output_type": "execute_result"
    }
   ],
   "source": [
    "%%sql\n",
    "SELECT DISTINCT program.program, sum(fact.amount) as revenue_amount\n",
    "FROM fact,program,RS\n",
    "WHERE fact.program_id = program.program_id and fact.RS_id=RS.RS_id and RS.type='Revenue'\n",
    "GROUP BY program.program\n",
    "ORDER BY revenue_amount DESC\n",
    "limit 10;"
   ]
  },
  {
   "cell_type": "code",
   "execution_count": 75,
   "metadata": {},
   "outputs": [
    {
     "data": {
      "text/html": [
       "<img src=\"https://s3.amazonaws.com/dmfa-2017fall/Pro4--revbypro.jpeg\"/>"
      ],
      "text/plain": [
       "<IPython.core.display.Image object>"
      ]
     },
     "execution_count": 75,
     "metadata": {},
     "output_type": "execute_result"
    }
   ],
   "source": [
    "Image(url='https://s3.amazonaws.com/dmfa-2017fall/Pro4--revbypro.jpeg')"
   ]
  },
  {
   "cell_type": "code",
   "execution_count": 76,
   "metadata": {},
   "outputs": [
    {
     "name": "stdout",
     "output_type": "stream",
     "text": [
      "10 rows affected.\n"
     ]
    },
    {
     "data": {
      "text/html": [
       "<table>\n",
       "    <tr>\n",
       "        <th>program</th>\n",
       "        <th>spend_amount</th>\n",
       "    </tr>\n",
       "    <tr>\n",
       "        <td>Administration</td>\n",
       "        <td>11867953878.03</td>\n",
       "    </tr>\n",
       "    <tr>\n",
       "        <td>SFGH - Acute Care - Hospital</td>\n",
       "        <td>6442300076.07</td>\n",
       "    </tr>\n",
       "    <tr>\n",
       "        <td>Rail &amp; Bus Services</td>\n",
       "        <td>4895100802.07</td>\n",
       "    </tr>\n",
       "    <tr>\n",
       "        <td>Community Health/Support Service</td>\n",
       "        <td>4290946903.43</td>\n",
       "    </tr>\n",
       "    <tr>\n",
       "        <td>Water Capital Projects</td>\n",
       "        <td>4204991019.87</td>\n",
       "    </tr>\n",
       "    <tr>\n",
       "        <td>Business &amp; Finance</td>\n",
       "        <td>4063922421.37</td>\n",
       "    </tr>\n",
       "    <tr>\n",
       "        <td>General City Responsibilities</td>\n",
       "        <td>3208804722.58</td>\n",
       "    </tr>\n",
       "    <tr>\n",
       "        <td>Health Service System</td>\n",
       "        <td>2871055497.96</td>\n",
       "    </tr>\n",
       "    <tr>\n",
       "        <td>Patrol</td>\n",
       "        <td>2812324407.38</td>\n",
       "    </tr>\n",
       "    <tr>\n",
       "        <td>Fire Suppression</td>\n",
       "        <td>2511187318.54</td>\n",
       "    </tr>\n",
       "</table>"
      ],
      "text/plain": [
       "[('Administration', Decimal('11867953878.03')),\n",
       " ('SFGH - Acute Care - Hospital', Decimal('6442300076.07')),\n",
       " ('Rail & Bus Services', Decimal('4895100802.07')),\n",
       " ('Community Health/Support Service', Decimal('4290946903.43')),\n",
       " ('Water Capital Projects', Decimal('4204991019.87')),\n",
       " ('Business & Finance', Decimal('4063922421.37')),\n",
       " ('General City Responsibilities', Decimal('3208804722.58')),\n",
       " ('Health Service System', Decimal('2871055497.96')),\n",
       " ('Patrol', Decimal('2812324407.38')),\n",
       " ('Fire Suppression', Decimal('2511187318.54'))]"
      ]
     },
     "execution_count": 76,
     "metadata": {},
     "output_type": "execute_result"
    }
   ],
   "source": [
    "%%sql\n",
    "SELECT distinct program.program, sum(fact.amount) as spend_amount\n",
    "FROM fact,program,RS\n",
    "WHERE fact.program_id = program.program_id and fact.RS_id=RS.RS_id and RS.type='Spending'\n",
    "GROUP BY program.program\n",
    "ORDER BY spend_amount DESC\n",
    "limit 10;"
   ]
  },
  {
   "cell_type": "code",
   "execution_count": 77,
   "metadata": {
    "scrolled": false
   },
   "outputs": [
    {
     "data": {
      "text/html": [
       "<img src=\"https://s3.amazonaws.com/dmfa-2017fall/Pro4--spbypro.jpeg\"/>"
      ],
      "text/plain": [
       "<IPython.core.display.Image object>"
      ]
     },
     "execution_count": 77,
     "metadata": {},
     "output_type": "execute_result"
    }
   ],
   "source": [
    "Image(url='https://s3.amazonaws.com/dmfa-2017fall/Pro4--spbypro.jpeg')"
   ]
  },
  {
   "cell_type": "markdown",
   "metadata": {},
   "source": [
    "From the results, we see that most of the revenue were from 'General Fund Unallocated', i.e. retained money, which means instead of using the funds for some programs, the government chose to keep them, indicating that the efficiency of fund using was a bit low - these retained money could be used for making better life of citizens. For the spending, it is not surprising that 'Administration' took up the most amount, taking into account in 'Spending Trends in Fund Categories' we saw that the operating costs was the largest expenses across years. Besides, we are pleased to see 'Acute Care', 'Rail & Bus Services', and 'Community Health/Support Service' programs were also the focuses of the government, which means the tax we paid was worthy."
   ]
  },
  {
   "cell_type": "markdown",
   "metadata": {},
   "source": [
    "## Bonus - Augment (10 points)\n",
    "\n",
    "Sometimes the most value can be gained from one dataset when it is studied\n",
    "alongside data drawn from other sources. Identify at least one additional data\n",
    "source that can complement your analysis. Pull this additional data into your\n",
    "chosen environment and explore at least one more theme you are able to further\n",
    "analyze that depends upon a combination of data from both sources.\n",
    "\n",
    "**Answer:**"
   ]
  },
  {
   "cell_type": "markdown",
   "metadata": {},
   "source": [
    "San Francisco is the most innovative place in the world. The city government plays a critical role in distributing budget into different areas and collecting taxes. Our analysis aim to reflect the trend of economic performances in the last ten years by comparing the tax revenue with key economic indexes of the city. "
   ]
  },
  {
   "cell_type": "code",
   "execution_count": 78,
   "metadata": {
    "collapsed": true
   },
   "outputs": [],
   "source": [
    "import pandas as pd\n",
    "newdata = pd.read_csv('newdataset.csv')"
   ]
  },
  {
   "cell_type": "markdown",
   "metadata": {},
   "source": [
    "For convenience, we upload these two csv files to s3 in advance."
   ]
  },
  {
   "cell_type": "code",
   "execution_count": 79,
   "metadata": {
    "scrolled": false
   },
   "outputs": [
    {
     "name": "stdout",
     "output_type": "stream",
     "text": [
      "--2017-12-08 16:44:18--  https://s3.amazonaws.com/dmfa-2017fall/SFecon-Annual.csv\n",
      "Resolving s3.amazonaws.com (s3.amazonaws.com)... 52.216.230.133\n",
      "Connecting to s3.amazonaws.com (s3.amazonaws.com)|52.216.230.133|:443... connected.\n",
      "HTTP request sent, awaiting response... 200 OK\n",
      "Length: 234 [text/csv]\n",
      "Saving to: ‘SFecon-Annual.csv.5’\n",
      "\n",
      "SFecon-Annual.csv.5 100%[===================>]     234  --.-KB/s    in 0s      \n",
      "\n",
      "2017-12-08 16:44:18 (12.0 MB/s) - ‘SFecon-Annual.csv.5’ saved [234/234]\n",
      "\n",
      "--2017-12-08 16:44:18--  https://s3.amazonaws.com/dmfa-2017fall/SFecon-Monthly.csv\n",
      "Resolving s3.amazonaws.com (s3.amazonaws.com)... 52.216.230.133\n",
      "Connecting to s3.amazonaws.com (s3.amazonaws.com)|52.216.230.133|:443... connected.\n",
      "HTTP request sent, awaiting response... 200 OK\n",
      "Length: 4753 (4.6K) [text/csv]\n",
      "Saving to: ‘SFecon-Monthly.csv.4’\n",
      "\n",
      "SFecon-Monthly.csv. 100%[===================>]   4.64K  --.-KB/s    in 0s      \n",
      "\n",
      "2017-12-08 16:44:18 (338 MB/s) - ‘SFecon-Monthly.csv.4’ saved [4753/4753]\n",
      "\n"
     ]
    }
   ],
   "source": [
    "!wget https://s3.amazonaws.com/dmfa-2017fall/SFecon-Annual.csv\n",
    "!wget https://s3.amazonaws.com/dmfa-2017fall/SFecon-Monthly.csv"
   ]
  },
  {
   "cell_type": "code",
   "execution_count": 80,
   "metadata": {
    "collapsed": true
   },
   "outputs": [],
   "source": [
    "gdp = pd.read_csv('SFecon-Annual.csv')\n",
    "other = pd.read_csv('SFecon-Monthly.csv')"
   ]
  },
  {
   "cell_type": "markdown",
   "metadata": {},
   "source": [
    "We first take a look of the columns in two csv files."
   ]
  },
  {
   "cell_type": "code",
   "execution_count": 81,
   "metadata": {},
   "outputs": [
    {
     "name": "stdout",
     "output_type": "stream",
     "text": [
      "  1: ﻿DATE\r\n",
      "  2: GDP\r\n",
      "  3: Year\r\n"
     ]
    }
   ],
   "source": [
    "!csvcut -n SFecon-Annual.csv"
   ]
  },
  {
   "cell_type": "code",
   "execution_count": 82,
   "metadata": {},
   "outputs": [
    {
     "name": "stdout",
     "output_type": "stream",
     "text": [
      "  1: ﻿DATE\r\n",
      "  2: Unemployment_rate\r\n",
      "  3: CPI\r\n",
      "  4: ECON_CONDITION_INDEX\r\n",
      "  5: HPI\r\n",
      "  6: Year\r\n"
     ]
    }
   ],
   "source": [
    "!csvcut -n SFecon-Monthly.csv"
   ]
  },
  {
   "cell_type": "code",
   "execution_count": 83,
   "metadata": {},
   "outputs": [
    {
     "name": "stdout",
     "output_type": "stream",
     "text": [
      "  1: \r\n",
      "  2: Fiscal Year\r\n",
      "  3: Revenue or Spending\r\n",
      "  4: Organization Group\r\n",
      "  5: Program\r\n",
      "  6: Character\r\n",
      "  7: Fund\r\n",
      "  8: Fund Category\r\n",
      "  9: Amount\r\n"
     ]
    }
   ],
   "source": [
    "!csvcut -n newdataset.csv"
   ]
  },
  {
   "cell_type": "markdown",
   "metadata": {},
   "source": [
    "We then create three new tables: newdata, gdp and other."
   ]
  },
  {
   "cell_type": "code",
   "execution_count": 84,
   "metadata": {},
   "outputs": [
    {
     "name": "stdout",
     "output_type": "stream",
     "text": [
      "Done.\n",
      "Done.\n"
     ]
    },
    {
     "data": {
      "text/plain": [
       "[]"
      ]
     },
     "execution_count": 84,
     "metadata": {},
     "output_type": "execute_result"
    }
   ],
   "source": [
    "%%sql\n",
    "DROP TABLE IF EXISTS newdata;\n",
    "\n",
    "CREATE TABLE newdata \n",
    "(\n",
    "    ID    TEXT,\n",
    "    Year     TEXT,\n",
    "    Revenue_spending TEXT,\n",
    "    Org   TEXT,\n",
    "    Prog     TEXT,\n",
    "    Chara TEXT,\n",
    "    Fund   TEXT,\n",
    "    Fund_cat  TEXT,\n",
    "    Amount   NUMERIC\n",
    ");"
   ]
  },
  {
   "cell_type": "markdown",
   "metadata": {},
   "source": [
    "To populate the tables, we again use absolute path."
   ]
  },
  {
   "cell_type": "code",
   "execution_count": 85,
   "metadata": {},
   "outputs": [
    {
     "name": "stdout",
     "output_type": "stream",
     "text": [
      "289429 rows affected.\n"
     ]
    },
    {
     "data": {
      "text/plain": [
       "[]"
      ]
     },
     "execution_count": 85,
     "metadata": {},
     "output_type": "execute_result"
    }
   ],
   "source": [
    "%%sql\n",
    "COPY newdata FROM '/home/ubuntu/newdataset.csv'\n",
    "CSV\n",
    "HEADER;"
   ]
  },
  {
   "cell_type": "code",
   "execution_count": 86,
   "metadata": {},
   "outputs": [
    {
     "name": "stdout",
     "output_type": "stream",
     "text": [
      "Done.\n",
      "Done.\n"
     ]
    },
    {
     "data": {
      "text/plain": [
       "[]"
      ]
     },
     "execution_count": 86,
     "metadata": {},
     "output_type": "execute_result"
    }
   ],
   "source": [
    "%%sql\n",
    "DROP TABLE IF EXISTS gdp;\n",
    "\n",
    "CREATE TABLE gdp \n",
    "(\n",
    "    DATE    TEXT,\n",
    "    Amount   NUMERIC,\n",
    "    Year     TEXT\n",
    ");"
   ]
  },
  {
   "cell_type": "code",
   "execution_count": 87,
   "metadata": {},
   "outputs": [
    {
     "name": "stdout",
     "output_type": "stream",
     "text": [
      "9 rows affected.\n"
     ]
    },
    {
     "data": {
      "text/plain": [
       "[]"
      ]
     },
     "execution_count": 87,
     "metadata": {},
     "output_type": "execute_result"
    }
   ],
   "source": [
    "%%sql\n",
    "COPY gdp FROM '/home/ubuntu/SFecon-Annual.csv'\n",
    "CSV\n",
    "HEADER;"
   ]
  },
  {
   "cell_type": "code",
   "execution_count": 88,
   "metadata": {},
   "outputs": [
    {
     "name": "stdout",
     "output_type": "stream",
     "text": [
      "Done.\n",
      "Done.\n"
     ]
    },
    {
     "data": {
      "text/plain": [
       "[]"
      ]
     },
     "execution_count": 88,
     "metadata": {},
     "output_type": "execute_result"
    }
   ],
   "source": [
    "%%sql\n",
    "DROP TABLE IF EXISTS other;\n",
    "\n",
    "CREATE TABLE other\n",
    "(\n",
    "    DATE    TEXT,\n",
    "    Unemployment_rate   NUMERIC,\n",
    "    CPI   NUMERIC,\n",
    "    ECON_CONDITION_INDEX    NUMERIC,\n",
    "    HPI NUMERIC,\n",
    "    Year     TEXT\n",
    ");"
   ]
  },
  {
   "cell_type": "code",
   "execution_count": 89,
   "metadata": {},
   "outputs": [
    {
     "name": "stdout",
     "output_type": "stream",
     "text": [
      "114 rows affected.\n"
     ]
    },
    {
     "data": {
      "text/plain": [
       "[]"
      ]
     },
     "execution_count": 89,
     "metadata": {},
     "output_type": "execute_result"
    }
   ],
   "source": [
    "%%sql\n",
    "COPY other FROM '/home/ubuntu/SFecon-Monthly.csv'\n",
    "CSV\n",
    "HEADER;"
   ]
  },
  {
   "cell_type": "markdown",
   "metadata": {},
   "source": [
    "Check the three tables."
   ]
  },
  {
   "cell_type": "code",
   "execution_count": 90,
   "metadata": {},
   "outputs": [
    {
     "name": "stdout",
     "output_type": "stream",
     "text": [
      "10 rows affected.\n"
     ]
    },
    {
     "data": {
      "text/html": [
       "<table>\n",
       "    <tr>\n",
       "        <th>id</th>\n",
       "        <th>year</th>\n",
       "        <th>revenue_spending</th>\n",
       "        <th>org</th>\n",
       "        <th>prog</th>\n",
       "        <th>chara</th>\n",
       "        <th>fund</th>\n",
       "        <th>fund_cat</th>\n",
       "        <th>amount</th>\n",
       "    </tr>\n",
       "    <tr>\n",
       "        <td>205140</td>\n",
       "        <td>2011</td>\n",
       "        <td>Spending</td>\n",
       "        <td>Public Works, Transportation &amp; Commerce</td>\n",
       "        <td>City Capital Projects</td>\n",
       "        <td>Mandatory Fringe Benefits</td>\n",
       "        <td>Water Operating Fund</td>\n",
       "        <td>Continuing Projects</td>\n",
       "        <td>171.26</td>\n",
       "    </tr>\n",
       "    <tr>\n",
       "        <td>205141</td>\n",
       "        <td>2011</td>\n",
       "        <td>Spending</td>\n",
       "        <td>Public Works, Transportation &amp; Commerce</td>\n",
       "        <td>City Capital Projects</td>\n",
       "        <td>Mandatory Fringe Benefits</td>\n",
       "        <td>General Fund</td>\n",
       "        <td>Annual Projects</td>\n",
       "        <td>-45627.76</td>\n",
       "    </tr>\n",
       "    <tr>\n",
       "        <td>205142</td>\n",
       "        <td>2011</td>\n",
       "        <td>Spending</td>\n",
       "        <td>Public Works, Transportation &amp; Commerce</td>\n",
       "        <td>City Capital Projects</td>\n",
       "        <td>Mandatory Fringe Benefits</td>\n",
       "        <td>General Fund</td>\n",
       "        <td>Continuing Projects</td>\n",
       "        <td>-50385.5</td>\n",
       "    </tr>\n",
       "    <tr>\n",
       "        <td>205143</td>\n",
       "        <td>2011</td>\n",
       "        <td>Spending</td>\n",
       "        <td>Public Works, Transportation &amp; Commerce</td>\n",
       "        <td>City Capital Projects</td>\n",
       "        <td>Mandatory Fringe Benefits</td>\n",
       "        <td>Parking &amp; Traffic Gasoline Tax Fund</td>\n",
       "        <td>Continuing Projects</td>\n",
       "        <td>225822.47</td>\n",
       "    </tr>\n",
       "    <tr>\n",
       "        <td>205144</td>\n",
       "        <td>2011</td>\n",
       "        <td>Spending</td>\n",
       "        <td>Public Works, Transportation &amp; Commerce</td>\n",
       "        <td>City Capital Projects</td>\n",
       "        <td>Mandatory Fringe Benefits</td>\n",
       "        <td>Public Works, Transp. &amp; Commerce Fund</td>\n",
       "        <td>Continuing Projects</td>\n",
       "        <td>1672.97</td>\n",
       "    </tr>\n",
       "    <tr>\n",
       "        <td>205145</td>\n",
       "        <td>2011</td>\n",
       "        <td>Spending</td>\n",
       "        <td>Public Works, Transportation &amp; Commerce</td>\n",
       "        <td>City Capital Projects</td>\n",
       "        <td>Mandatory Fringe Benefits</td>\n",
       "        <td>Public Works, Transp. &amp; Commerce Fund</td>\n",
       "        <td>Work Orders/Overhead</td>\n",
       "        <td>17844.66</td>\n",
       "    </tr>\n",
       "    <tr>\n",
       "        <td>205146</td>\n",
       "        <td>2011</td>\n",
       "        <td>Spending</td>\n",
       "        <td>Public Works, Transportation &amp; Commerce</td>\n",
       "        <td>City Capital Projects</td>\n",
       "        <td>Mandatory Fringe Benefits</td>\n",
       "        <td>Earthquake Safety Improvements Fund</td>\n",
       "        <td>Continuing Projects</td>\n",
       "        <td>10081.92</td>\n",
       "    </tr>\n",
       "    <tr>\n",
       "        <td>205147</td>\n",
       "        <td>2011</td>\n",
       "        <td>Spending</td>\n",
       "        <td>Public Works, Transportation &amp; Commerce</td>\n",
       "        <td>City Capital Projects</td>\n",
       "        <td>Mandatory Fringe Benefits</td>\n",
       "        <td>Fire Protection Systems Impvt. Fund</td>\n",
       "        <td>Continuing Projects</td>\n",
       "        <td>583.72</td>\n",
       "    </tr>\n",
       "    <tr>\n",
       "        <td>205148</td>\n",
       "        <td>2011</td>\n",
       "        <td>Spending</td>\n",
       "        <td>Public Works, Transportation &amp; Commerce</td>\n",
       "        <td>City Capital Projects</td>\n",
       "        <td>Mandatory Fringe Benefits</td>\n",
       "        <td>Recreation &amp; Park Capital Impvts Fund</td>\n",
       "        <td>Continuing Projects</td>\n",
       "        <td>-1628.71</td>\n",
       "    </tr>\n",
       "    <tr>\n",
       "        <td>205149</td>\n",
       "        <td>2011</td>\n",
       "        <td>Spending</td>\n",
       "        <td>Public Works, Transportation &amp; Commerce</td>\n",
       "        <td>City Capital Projects</td>\n",
       "        <td>Mandatory Fringe Benefits</td>\n",
       "        <td>Recreation &amp; Park Capital Impvts Fund</td>\n",
       "        <td>Grants</td>\n",
       "        <td>55651.28</td>\n",
       "    </tr>\n",
       "</table>"
      ],
      "text/plain": [
       "[('205140', '2011', 'Spending', 'Public Works, Transportation & Commerce', 'City Capital Projects', 'Mandatory Fringe Benefits', 'Water Operating Fund', 'Continuing Projects', Decimal('171.26')),\n",
       " ('205141', '2011', 'Spending', 'Public Works, Transportation & Commerce', 'City Capital Projects', 'Mandatory Fringe Benefits', 'General Fund', 'Annual Projects', Decimal('-45627.76')),\n",
       " ('205142', '2011', 'Spending', 'Public Works, Transportation & Commerce', 'City Capital Projects', 'Mandatory Fringe Benefits', 'General Fund', 'Continuing Projects', Decimal('-50385.5')),\n",
       " ('205143', '2011', 'Spending', 'Public Works, Transportation & Commerce', 'City Capital Projects', 'Mandatory Fringe Benefits', 'Parking & Traffic Gasoline Tax Fund', 'Continuing Projects', Decimal('225822.47')),\n",
       " ('205144', '2011', 'Spending', 'Public Works, Transportation & Commerce', 'City Capital Projects', 'Mandatory Fringe Benefits', 'Public Works, Transp. & Commerce Fund', 'Continuing Projects', Decimal('1672.97')),\n",
       " ('205145', '2011', 'Spending', 'Public Works, Transportation & Commerce', 'City Capital Projects', 'Mandatory Fringe Benefits', 'Public Works, Transp. & Commerce Fund', 'Work Orders/Overhead', Decimal('17844.66')),\n",
       " ('205146', '2011', 'Spending', 'Public Works, Transportation & Commerce', 'City Capital Projects', 'Mandatory Fringe Benefits', 'Earthquake Safety Improvements Fund', 'Continuing Projects', Decimal('10081.92')),\n",
       " ('205147', '2011', 'Spending', 'Public Works, Transportation & Commerce', 'City Capital Projects', 'Mandatory Fringe Benefits', 'Fire Protection Systems Impvt. Fund', 'Continuing Projects', Decimal('583.72')),\n",
       " ('205148', '2011', 'Spending', 'Public Works, Transportation & Commerce', 'City Capital Projects', 'Mandatory Fringe Benefits', 'Recreation & Park Capital Impvts Fund', 'Continuing Projects', Decimal('-1628.71')),\n",
       " ('205149', '2011', 'Spending', 'Public Works, Transportation & Commerce', 'City Capital Projects', 'Mandatory Fringe Benefits', 'Recreation & Park Capital Impvts Fund', 'Grants', Decimal('55651.28'))]"
      ]
     },
     "execution_count": 90,
     "metadata": {},
     "output_type": "execute_result"
    }
   ],
   "source": [
    "%%sql\n",
    "SELECT *\n",
    "FROM newdata\n",
    "LIMIT 10"
   ]
  },
  {
   "cell_type": "code",
   "execution_count": 91,
   "metadata": {},
   "outputs": [
    {
     "name": "stdout",
     "output_type": "stream",
     "text": [
      "9 rows affected.\n"
     ]
    },
    {
     "data": {
      "text/html": [
       "<table>\n",
       "    <tr>\n",
       "        <th>date</th>\n",
       "        <th>amount</th>\n",
       "        <th>year</th>\n",
       "    </tr>\n",
       "    <tr>\n",
       "        <td>2008-01-01</td>\n",
       "        <td>353339</td>\n",
       "        <td>2008</td>\n",
       "    </tr>\n",
       "    <tr>\n",
       "        <td>2009-01-01</td>\n",
       "        <td>331326</td>\n",
       "        <td>2009</td>\n",
       "    </tr>\n",
       "    <tr>\n",
       "        <td>2010-01-01</td>\n",
       "        <td>330154</td>\n",
       "        <td>2010</td>\n",
       "    </tr>\n",
       "    <tr>\n",
       "        <td>2011-01-01</td>\n",
       "        <td>340757</td>\n",
       "        <td>2011</td>\n",
       "    </tr>\n",
       "    <tr>\n",
       "        <td>2012-01-01</td>\n",
       "        <td>366459</td>\n",
       "        <td>2012</td>\n",
       "    </tr>\n",
       "    <tr>\n",
       "        <td>2013-01-01</td>\n",
       "        <td>385843</td>\n",
       "        <td>2013</td>\n",
       "    </tr>\n",
       "    <tr>\n",
       "        <td>2014-01-01</td>\n",
       "        <td>412423</td>\n",
       "        <td>2014</td>\n",
       "    </tr>\n",
       "    <tr>\n",
       "        <td>2015-01-01</td>\n",
       "        <td>440246</td>\n",
       "        <td>2015</td>\n",
       "    </tr>\n",
       "    <tr>\n",
       "        <td>2016-01-01</td>\n",
       "        <td>470529</td>\n",
       "        <td>2016</td>\n",
       "    </tr>\n",
       "</table>"
      ],
      "text/plain": [
       "[('2008-01-01', Decimal('353339'), '2008'),\n",
       " ('2009-01-01', Decimal('331326'), '2009'),\n",
       " ('2010-01-01', Decimal('330154'), '2010'),\n",
       " ('2011-01-01', Decimal('340757'), '2011'),\n",
       " ('2012-01-01', Decimal('366459'), '2012'),\n",
       " ('2013-01-01', Decimal('385843'), '2013'),\n",
       " ('2014-01-01', Decimal('412423'), '2014'),\n",
       " ('2015-01-01', Decimal('440246'), '2015'),\n",
       " ('2016-01-01', Decimal('470529'), '2016')]"
      ]
     },
     "execution_count": 91,
     "metadata": {},
     "output_type": "execute_result"
    }
   ],
   "source": [
    "%%sql\n",
    "SELECT *\n",
    "FROM gdp\n",
    "LIMIT 10"
   ]
  },
  {
   "cell_type": "code",
   "execution_count": 92,
   "metadata": {},
   "outputs": [
    {
     "name": "stdout",
     "output_type": "stream",
     "text": [
      "10 rows affected.\n"
     ]
    },
    {
     "data": {
      "text/html": [
       "<table>\n",
       "    <tr>\n",
       "        <th>date</th>\n",
       "        <th>unemployment_rate</th>\n",
       "        <th>cpi</th>\n",
       "        <th>econ_condition_index</th>\n",
       "        <th>hpi</th>\n",
       "        <th>year</th>\n",
       "    </tr>\n",
       "    <tr>\n",
       "        <td>2008-01-01</td>\n",
       "        <td>4.6</td>\n",
       "        <td>219.612</td>\n",
       "        <td>2.10</td>\n",
       "        <td>179.22</td>\n",
       "        <td>2008</td>\n",
       "    </tr>\n",
       "    <tr>\n",
       "        <td>2008-02-01</td>\n",
       "        <td>4.3</td>\n",
       "        <td>219.612</td>\n",
       "        <td>1.67</td>\n",
       "        <td>176.68</td>\n",
       "        <td>2008</td>\n",
       "    </tr>\n",
       "    <tr>\n",
       "        <td>2008-03-01</td>\n",
       "        <td>4.6</td>\n",
       "        <td>219.612</td>\n",
       "        <td>0.37</td>\n",
       "        <td>175.14</td>\n",
       "        <td>2008</td>\n",
       "    </tr>\n",
       "    <tr>\n",
       "        <td>2008-04-01</td>\n",
       "        <td>4.3</td>\n",
       "        <td>222.074</td>\n",
       "        <td>-0.26</td>\n",
       "        <td>171.98</td>\n",
       "        <td>2008</td>\n",
       "    </tr>\n",
       "    <tr>\n",
       "        <td>2008-05-01</td>\n",
       "        <td>4.7</td>\n",
       "        <td>222.074</td>\n",
       "        <td>-1.11</td>\n",
       "        <td>171.13</td>\n",
       "        <td>2008</td>\n",
       "    </tr>\n",
       "    <tr>\n",
       "        <td>2008-06-01</td>\n",
       "        <td>5.3</td>\n",
       "        <td>225.181</td>\n",
       "        <td>-1.31</td>\n",
       "        <td>167.77</td>\n",
       "        <td>2008</td>\n",
       "    </tr>\n",
       "    <tr>\n",
       "        <td>2008-07-01</td>\n",
       "        <td>5.6</td>\n",
       "        <td>225.181</td>\n",
       "        <td>-1.59</td>\n",
       "        <td>165.74</td>\n",
       "        <td>2008</td>\n",
       "    </tr>\n",
       "    <tr>\n",
       "        <td>2008-08-01</td>\n",
       "        <td>5.8</td>\n",
       "        <td>225.411</td>\n",
       "        <td>-2.42</td>\n",
       "        <td>162.33</td>\n",
       "        <td>2008</td>\n",
       "    </tr>\n",
       "    <tr>\n",
       "        <td>2008-09-01</td>\n",
       "        <td>5.5</td>\n",
       "        <td>225.411</td>\n",
       "        <td>-3.19</td>\n",
       "        <td>160.79</td>\n",
       "        <td>2008</td>\n",
       "    </tr>\n",
       "    <tr>\n",
       "        <td>2008-10-01</td>\n",
       "        <td>5.8</td>\n",
       "        <td>225.824</td>\n",
       "        <td>-4.57</td>\n",
       "        <td>157.22</td>\n",
       "        <td>2008</td>\n",
       "    </tr>\n",
       "</table>"
      ],
      "text/plain": [
       "[('2008-01-01', Decimal('4.6'), Decimal('219.612'), Decimal('2.10'), Decimal('179.22'), '2008'),\n",
       " ('2008-02-01', Decimal('4.3'), Decimal('219.612'), Decimal('1.67'), Decimal('176.68'), '2008'),\n",
       " ('2008-03-01', Decimal('4.6'), Decimal('219.612'), Decimal('0.37'), Decimal('175.14'), '2008'),\n",
       " ('2008-04-01', Decimal('4.3'), Decimal('222.074'), Decimal('-0.26'), Decimal('171.98'), '2008'),\n",
       " ('2008-05-01', Decimal('4.7'), Decimal('222.074'), Decimal('-1.11'), Decimal('171.13'), '2008'),\n",
       " ('2008-06-01', Decimal('5.3'), Decimal('225.181'), Decimal('-1.31'), Decimal('167.77'), '2008'),\n",
       " ('2008-07-01', Decimal('5.6'), Decimal('225.181'), Decimal('-1.59'), Decimal('165.74'), '2008'),\n",
       " ('2008-08-01', Decimal('5.8'), Decimal('225.411'), Decimal('-2.42'), Decimal('162.33'), '2008'),\n",
       " ('2008-09-01', Decimal('5.5'), Decimal('225.411'), Decimal('-3.19'), Decimal('160.79'), '2008'),\n",
       " ('2008-10-01', Decimal('5.8'), Decimal('225.824'), Decimal('-4.57'), Decimal('157.22'), '2008')]"
      ]
     },
     "execution_count": 92,
     "metadata": {},
     "output_type": "execute_result"
    }
   ],
   "source": [
    "%%sql\n",
    "SELECT *\n",
    "FROM other\n",
    "LIMIT 10"
   ]
  },
  {
   "cell_type": "markdown",
   "metadata": {},
   "source": [
    "Below two queries aim to sum all tax revenues of the city government from newdata and select GDP of corresponding years from gdp file."
   ]
  },
  {
   "cell_type": "code",
   "execution_count": 93,
   "metadata": {},
   "outputs": [
    {
     "name": "stdout",
     "output_type": "stream",
     "text": [
      "10 rows affected.\n"
     ]
    },
    {
     "data": {
      "text/html": [
       "<table>\n",
       "    <tr>\n",
       "        <th>year</th>\n",
       "        <th>tax_revenue</th>\n",
       "        <th>gdp</th>\n",
       "    </tr>\n",
       "    <tr>\n",
       "        <td>2008</td>\n",
       "        <td>25203.470</td>\n",
       "        <td>353339</td>\n",
       "    </tr>\n",
       "    <tr>\n",
       "        <td>2009</td>\n",
       "        <td>26798.099</td>\n",
       "        <td>331326</td>\n",
       "    </tr>\n",
       "    <tr>\n",
       "        <td>2010</td>\n",
       "        <td>27817.620</td>\n",
       "        <td>330154</td>\n",
       "    </tr>\n",
       "    <tr>\n",
       "        <td>2011</td>\n",
       "        <td>28876.065</td>\n",
       "        <td>340757</td>\n",
       "    </tr>\n",
       "    <tr>\n",
       "        <td>2012</td>\n",
       "        <td>30827.858</td>\n",
       "        <td>366459</td>\n",
       "    </tr>\n",
       "    <tr>\n",
       "        <td>2013</td>\n",
       "        <td>33380.300</td>\n",
       "        <td>385843</td>\n",
       "    </tr>\n",
       "    <tr>\n",
       "        <td>2014</td>\n",
       "        <td>36128.418</td>\n",
       "        <td>412423</td>\n",
       "    </tr>\n",
       "    <tr>\n",
       "        <td>2015</td>\n",
       "        <td>39583.721</td>\n",
       "        <td>440246</td>\n",
       "    </tr>\n",
       "    <tr>\n",
       "        <td>2016</td>\n",
       "        <td>42804.773</td>\n",
       "        <td>470529</td>\n",
       "    </tr>\n",
       "    <tr>\n",
       "        <td>2017</td>\n",
       "        <td>46798.096</td>\n",
       "        <td>None</td>\n",
       "    </tr>\n",
       "</table>"
      ],
      "text/plain": [
       "[('2008', Decimal('25203.470'), Decimal('353339')),\n",
       " ('2009', Decimal('26798.099'), Decimal('331326')),\n",
       " ('2010', Decimal('27817.620'), Decimal('330154')),\n",
       " ('2011', Decimal('28876.065'), Decimal('340757')),\n",
       " ('2012', Decimal('30827.858'), Decimal('366459')),\n",
       " ('2013', Decimal('33380.300'), Decimal('385843')),\n",
       " ('2014', Decimal('36128.418'), Decimal('412423')),\n",
       " ('2015', Decimal('39583.721'), Decimal('440246')),\n",
       " ('2016', Decimal('42804.773'), Decimal('470529')),\n",
       " ('2017', Decimal('46798.096'), None)]"
      ]
     },
     "execution_count": 93,
     "metadata": {},
     "output_type": "execute_result"
    }
   ],
   "source": [
    "%%sql\n",
    "SELECT newdata.year, round(sum(newdata.amount/100000),3) as tax_revenue, (gdp.amount) as gdp from newdata\n",
    "LEFT JOIN gdp \n",
    "ON newdata.year=gdp.year\n",
    "WHERE (newdata.Chara not like '%Taxi%') and (newdata.Chara like '%Tax%') and (newdata.Revenue_spending='Revenue' )\n",
    "GROUP BY gdp.amount, newdata.year\n",
    "ORDER BY newdata.year;"
   ]
  },
  {
   "cell_type": "code",
   "execution_count": 94,
   "metadata": {
    "scrolled": true
   },
   "outputs": [
    {
     "name": "stdout",
     "output_type": "stream",
     "text": [
      "10 rows affected.\n"
     ]
    },
    {
     "data": {
      "text/html": [
       "<table>\n",
       "    <tr>\n",
       "        <th>year</th>\n",
       "        <th>tax_gdp_ratio</th>\n",
       "    </tr>\n",
       "    <tr>\n",
       "        <td>2008</td>\n",
       "        <td>0.071</td>\n",
       "    </tr>\n",
       "    <tr>\n",
       "        <td>2009</td>\n",
       "        <td>0.081</td>\n",
       "    </tr>\n",
       "    <tr>\n",
       "        <td>2010</td>\n",
       "        <td>0.084</td>\n",
       "    </tr>\n",
       "    <tr>\n",
       "        <td>2011</td>\n",
       "        <td>0.085</td>\n",
       "    </tr>\n",
       "    <tr>\n",
       "        <td>2012</td>\n",
       "        <td>0.084</td>\n",
       "    </tr>\n",
       "    <tr>\n",
       "        <td>2013</td>\n",
       "        <td>0.087</td>\n",
       "    </tr>\n",
       "    <tr>\n",
       "        <td>2014</td>\n",
       "        <td>0.088</td>\n",
       "    </tr>\n",
       "    <tr>\n",
       "        <td>2015</td>\n",
       "        <td>0.090</td>\n",
       "    </tr>\n",
       "    <tr>\n",
       "        <td>2016</td>\n",
       "        <td>0.091</td>\n",
       "    </tr>\n",
       "    <tr>\n",
       "        <td>2017</td>\n",
       "        <td>None</td>\n",
       "    </tr>\n",
       "</table>"
      ],
      "text/plain": [
       "[('2008', Decimal('0.071')),\n",
       " ('2009', Decimal('0.081')),\n",
       " ('2010', Decimal('0.084')),\n",
       " ('2011', Decimal('0.085')),\n",
       " ('2012', Decimal('0.084')),\n",
       " ('2013', Decimal('0.087')),\n",
       " ('2014', Decimal('0.088')),\n",
       " ('2015', Decimal('0.090')),\n",
       " ('2016', Decimal('0.091')),\n",
       " ('2017', None)]"
      ]
     },
     "execution_count": 94,
     "metadata": {},
     "output_type": "execute_result"
    }
   ],
   "source": [
    "%%sql\n",
    "SELECT newdata.year, round((sum(newdata.amount/100000)/gdp.amount),3) as tax_GDP_ratio\n",
    "FROM newdata\n",
    "LEFT JOIN gdp \n",
    "ON newdata.year=gdp.year\n",
    "WHERE (newdata.Chara not like '%Taxi%') and (newdata.Chara like '%Tax%') and (newdata.Revenue_spending='Revenue' )\n",
    "GROUP BY gdp.amount, newdata.year\n",
    "ORDER BY newdata.year;"
   ]
  },
  {
   "cell_type": "markdown",
   "metadata": {},
   "source": [
    "By calculating the Tax_to_GDP ratio of SF in the past nine years, we found that the ratio gradually increased from 7% to 9%. Even though these numbers were below the national average, around 25%, we can raise a question for further investigation: Is SF's growth slowing down? Or tax is growing faster than economic growth?"
   ]
  },
  {
   "cell_type": "code",
   "execution_count": 95,
   "metadata": {},
   "outputs": [
    {
     "name": "stdout",
     "output_type": "stream",
     "text": [
      "1 rows affected.\n"
     ]
    },
    {
     "data": {
      "text/html": [
       "<table>\n",
       "    <tr>\n",
       "        <th>round</th>\n",
       "    </tr>\n",
       "    <tr>\n",
       "        <td>242.53</td>\n",
       "    </tr>\n",
       "</table>"
      ],
      "text/plain": [
       "[(Decimal('242.53'),)]"
      ]
     },
     "execution_count": 95,
     "metadata": {},
     "output_type": "execute_result"
    }
   ],
   "source": [
    "%%sql\n",
    "SELECT round(avg(cpi),2) \n",
    "FROM other;"
   ]
  },
  {
   "cell_type": "code",
   "execution_count": 96,
   "metadata": {},
   "outputs": [
    {
     "name": "stdout",
     "output_type": "stream",
     "text": [
      "10 rows affected.\n"
     ]
    },
    {
     "data": {
      "text/html": [
       "<table>\n",
       "    <tr>\n",
       "        <th>year</th>\n",
       "        <th>unemployment_rate</th>\n",
       "        <th>cpi</th>\n",
       "        <th>econ_condition_index</th>\n",
       "        <th>hpi</th>\n",
       "        <th>tax_revenue</th>\n",
       "    </tr>\n",
       "    <tr>\n",
       "        <td>2008</td>\n",
       "        <td>5.250</td>\n",
       "        <td>222.862</td>\n",
       "        <td>-1.917</td>\n",
       "        <td>166.246</td>\n",
       "        <td>1998404.077</td>\n",
       "    </tr>\n",
       "    <tr>\n",
       "        <td>2009</td>\n",
       "        <td>8.683</td>\n",
       "        <td>224.158</td>\n",
       "        <td>-3.793</td>\n",
       "        <td>141.590</td>\n",
       "        <td>2127617.862</td>\n",
       "    </tr>\n",
       "    <tr>\n",
       "        <td>2010</td>\n",
       "        <td>8.917</td>\n",
       "        <td>227.327</td>\n",
       "        <td>2.207</td>\n",
       "        <td>146.273</td>\n",
       "        <td>2427273.497</td>\n",
       "    </tr>\n",
       "    <tr>\n",
       "        <td>2011</td>\n",
       "        <td>8.050</td>\n",
       "        <td>233.113</td>\n",
       "        <td>4.911</td>\n",
       "        <td>142.383</td>\n",
       "        <td>2435735.630</td>\n",
       "    </tr>\n",
       "    <tr>\n",
       "        <td>2012</td>\n",
       "        <td>6.783</td>\n",
       "        <td>239.434</td>\n",
       "        <td>5.970</td>\n",
       "        <td>147.026</td>\n",
       "        <td>2690533.450</td>\n",
       "    </tr>\n",
       "    <tr>\n",
       "        <td>2013</td>\n",
       "        <td>5.458</td>\n",
       "        <td>244.766</td>\n",
       "        <td>5.278</td>\n",
       "        <td>171.758</td>\n",
       "        <td>2794585.407</td>\n",
       "    </tr>\n",
       "    <tr>\n",
       "        <td>2014</td>\n",
       "        <td>4.367</td>\n",
       "        <td>251.713</td>\n",
       "        <td>5.483</td>\n",
       "        <td>194.928</td>\n",
       "        <td>2857888.636</td>\n",
       "    </tr>\n",
       "    <tr>\n",
       "        <td>2015</td>\n",
       "        <td>3.608</td>\n",
       "        <td>258.144</td>\n",
       "        <td>5.838</td>\n",
       "        <td>213.964</td>\n",
       "        <td>2944478.838</td>\n",
       "    </tr>\n",
       "    <tr>\n",
       "        <td>2016</td>\n",
       "        <td>3.250</td>\n",
       "        <td>266.042</td>\n",
       "        <td>4.442</td>\n",
       "        <td>226.326</td>\n",
       "        <td>3169508.120</td>\n",
       "    </tr>\n",
       "    <tr>\n",
       "        <td>2017</td>\n",
       "        <td>2.967</td>\n",
       "        <td>272.870</td>\n",
       "        <td>4.088</td>\n",
       "        <td>233.733</td>\n",
       "        <td>1592821.357</td>\n",
       "    </tr>\n",
       "</table>"
      ],
      "text/plain": [
       "[('2008', Decimal('5.250'), Decimal('222.862'), Decimal('-1.917'), Decimal('166.246'), Decimal('1998404.077')),\n",
       " ('2009', Decimal('8.683'), Decimal('224.158'), Decimal('-3.793'), Decimal('141.590'), Decimal('2127617.862')),\n",
       " ('2010', Decimal('8.917'), Decimal('227.327'), Decimal('2.207'), Decimal('146.273'), Decimal('2427273.497')),\n",
       " ('2011', Decimal('8.050'), Decimal('233.113'), Decimal('4.911'), Decimal('142.383'), Decimal('2435735.630')),\n",
       " ('2012', Decimal('6.783'), Decimal('239.434'), Decimal('5.970'), Decimal('147.026'), Decimal('2690533.450')),\n",
       " ('2013', Decimal('5.458'), Decimal('244.766'), Decimal('5.278'), Decimal('171.758'), Decimal('2794585.407')),\n",
       " ('2014', Decimal('4.367'), Decimal('251.713'), Decimal('5.483'), Decimal('194.928'), Decimal('2857888.636')),\n",
       " ('2015', Decimal('3.608'), Decimal('258.144'), Decimal('5.838'), Decimal('213.964'), Decimal('2944478.838')),\n",
       " ('2016', Decimal('3.250'), Decimal('266.042'), Decimal('4.442'), Decimal('226.326'), Decimal('3169508.120')),\n",
       " ('2017', Decimal('2.967'), Decimal('272.870'), Decimal('4.088'), Decimal('233.733'), Decimal('1592821.357'))]"
      ]
     },
     "execution_count": 96,
     "metadata": {},
     "output_type": "execute_result"
    }
   ],
   "source": [
    "%%sql\n",
    "SELECT other.Year, round(avg(Unemployment_rate),3) as unemployment_rate, round(avg(CPI),3) as CPI, round(avg(ECON_CONDITION_INDEX),3) as ECON_CONDITION_INDEX, round(avg(HPI),3) as HPI, round(sum(newdata.amount/100000),3) as tax_revenue\n",
    "FROM other\n",
    "LEFT JOIN newdata \n",
    "ON newdata.Year=other.Year\n",
    "GROUP BY other.Year\n",
    "ORDER BY other.Year;"
   ]
  },
  {
   "cell_type": "markdown",
   "metadata": {},
   "source": [
    "Covert the output into Tableau visualizations.\n"
   ]
  },
  {
   "cell_type": "code",
   "execution_count": 97,
   "metadata": {
    "scrolled": false
   },
   "outputs": [
    {
     "data": {
      "text/html": [
       "<img src=\"https://s3.amazonaws.com/dmfa-2017fall/proj4-month.jpg\"/>"
      ],
      "text/plain": [
       "<IPython.core.display.Image object>"
      ]
     },
     "execution_count": 97,
     "metadata": {},
     "output_type": "execute_result"
    }
   ],
   "source": [
    "Image(url='https://s3.amazonaws.com/dmfa-2017fall/proj4-month.jpg')"
   ]
  },
  {
   "cell_type": "markdown",
   "metadata": {},
   "source": [
    "Based on data in the past ten years, tax revenue of San Francisco city government (excluding incomplete data of 2017) increases with CPI, HPI and ECI. Only the unemployment rate decreases through the years. These trends reveals that the overall economic environment in San Francisco has been positive. That is, increasing CPI represents inflation, which matches with the increasing real estate prices (HPI). Normally, booming economic units like SF bring more tax revenue to the government.\n",
    "\n",
    "* HPI reflects the changes of real estate prices\n",
    "* ECI is a key index to show the economic performance "
   ]
  }
 ],
 "metadata": {
  "anaconda-cloud": {},
  "kernelspec": {
   "display_name": "Python 3",
   "language": "python",
   "name": "python3"
  },
  "language_info": {
   "codemirror_mode": {
    "name": "ipython",
    "version": 3
   },
   "file_extension": ".py",
   "mimetype": "text/x-python",
   "name": "python",
   "nbconvert_exporter": "python",
   "pygments_lexer": "ipython3",
   "version": "3.6.3"
  }
 },
 "nbformat": 4,
 "nbformat_minor": 2
}
